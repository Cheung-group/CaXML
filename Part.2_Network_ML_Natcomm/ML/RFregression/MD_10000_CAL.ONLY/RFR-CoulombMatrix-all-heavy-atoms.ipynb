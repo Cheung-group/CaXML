{
 "cells": [
  {
   "cell_type": "code",
   "execution_count": 44,
   "metadata": {},
   "outputs": [],
   "source": [
    "import pandas as pd\n",
    "import numpy as np\n",
    "import matplotlib as mpl\n",
    "import matplotlib.pyplot as plt\n",
    "import matplotlib.colors as colors\n",
    "from mpl_toolkits.axes_grid1 import make_axes_locatable\n",
    "import random\n",
    "from sklearn import datasets\n",
    "from sklearn.model_selection import train_test_split\n",
    "from sklearn import metrics\n",
    "\n",
    "from pandas import set_option\n",
    "pd.options.mode.chained_assignment = None\n",
    "\n",
    "from sklearn import preprocessing\n",
    "from sklearn.model_selection import train_test_split\n",
    "from sklearn.neural_network import MLPClassifier\n",
    "from sklearn.metrics import confusion_matrix\n",
    "from scipy.stats import truncnorm\n",
    "from sklearn.ensemble import RandomForestClassifier\n",
    "from sklearn.model_selection import cross_val_score\n",
    "from sklearn.metrics import mean_absolute_error, r2_score, mean_squared_error"
   ]
  },
  {
   "cell_type": "code",
   "execution_count": 45,
   "metadata": {},
   "outputs": [],
   "source": [
    "def ML_train(X_tr, y_tr, X_te, y_te):\n",
    "    rstate = random.randrange(1,999999999,1)\n",
    "    estimator = RandomForestRegressor(random_state = rstate, n_estimators = 10, n_jobs = 12)\n",
    "    train = estimator.fit(X_tr, y_tr)\n",
    "    pred = estimator.predict(X_te)\n",
    "    \n",
    "    # Cross validation \n",
    "    cvscore = cross_val_score(estimator, X_tr, y_tr, cv=5)\n",
    "    score = cvscore.mean()\n",
    "    print(\"Score with the entire dataset = %.2f\" % score)\n",
    "    \n",
    "    print(mean_absolute_error(y_te, pred))\n",
    "    print(mean_squared_error(y_te,pred))\n",
    "    print(r2_score(y_te, pred))"
   ]
  },
  {
   "cell_type": "code",
   "execution_count": 2,
   "metadata": {},
   "outputs": [],
   "source": [
    "charge_csv = pd.read_csv(\"cal.iRESP_good.dat\", header=None, sep=' ')\n",
    "names = np.asarray(charge_csv[0])\n",
    "y = np.asarray(charge_csv[2])"
   ]
  },
  {
   "cell_type": "code",
   "execution_count": 3,
   "metadata": {},
   "outputs": [],
   "source": [
    "import glob\n",
    "from ase.io import read\n",
    "\n",
    "loops = glob.glob(\"structures/*.pdb\")\n",
    "structures = list()\n",
    "for loop in loops:\n",
    "    name = loop.split('/')[1].split('.pdb')[0]\n",
    "    if name in names:\n",
    "        structure = read(loop)\n",
    "        hvy_atoms = structure[structure.get_atomic_numbers()>1]\n",
    "        structures.append(hvy_atoms)"
   ]
  },
  {
   "cell_type": "code",
   "execution_count": 4,
   "metadata": {},
   "outputs": [],
   "source": [
    "j = list()\n",
    "for i in structures:\n",
    "    j.append(i.get_global_number_of_atoms())\n",
    "n_max=sorted(j)[-1]"
   ]
  },
  {
   "cell_type": "code",
   "execution_count": 5,
   "metadata": {},
   "outputs": [],
   "source": [
    "from dscribe.descriptors import CoulombMatrix\n",
    "cm = CoulombMatrix(n_atoms_max=n_max)\n",
    "X = cm.create(structures)"
   ]
  },
  {
   "cell_type": "code",
   "execution_count": 6,
   "metadata": {},
   "outputs": [
    {
     "name": "stdout",
     "output_type": "stream",
     "text": [
      "(7817, 11664) (7817,)\n"
     ]
    }
   ],
   "source": [
    "print(X.shape, y.shape)"
   ]
  },
  {
   "cell_type": "code",
   "execution_count": 7,
   "metadata": {},
   "outputs": [],
   "source": [
    "from sklearn.ensemble import RandomForestRegressor\n",
    "testsize = 0.3\n",
    "rstate = random.randrange(1,999999999,1)\n",
    "X_train, X_test, y_train, y_test = train_test_split(X,y,test_size = testsize, random_state = rstate)"
   ]
  },
  {
   "cell_type": "code",
   "execution_count": 48,
   "metadata": {},
   "outputs": [
    {
     "name": "stdout",
     "output_type": "stream",
     "text": [
      "Score with the entire dataset = -0.34\n",
      "0.09109542536942314\n",
      "0.01915143166274482\n",
      "-0.11619572242558873\n",
      "Score with the entire dataset = -0.25\n",
      "0.09249389693703568\n",
      "0.019394609305074348\n",
      "-0.1303687539220162\n",
      "Score with the entire dataset = -0.18\n",
      "0.09287427930689184\n",
      "0.019456138289563895\n",
      "-0.1339548246921729\n",
      "Score with the entire dataset = -0.21\n",
      "0.0933280816147715\n",
      "0.019497479931578493\n",
      "-0.13636432413782051\n",
      "Score with the entire dataset = -0.14\n",
      "0.09347206263954858\n",
      "0.019568876557791985\n",
      "-0.14052550697670707\n",
      "Score with the entire dataset = -0.15\n",
      "0.0942183119815559\n",
      "0.020233642831138918\n",
      "-0.17926983083663384\n",
      "Score with the entire dataset = -0.17\n",
      "0.0947201664604577\n",
      "0.020312354597867992\n",
      "-0.18385735927183\n",
      "Score with the entire dataset = -0.21\n",
      "0.09482898691626408\n",
      "0.02037337718548215\n",
      "-0.1874139159024637\n",
      "Score with the entire dataset = -0.16\n",
      "0.09423634565420372\n",
      "0.019701417909284022\n",
      "-0.1482503649499991\n",
      "Score with the entire dataset = -0.19\n",
      "0.09302383329458265\n",
      "0.019769009904341397\n",
      "-0.1521898038954448\n"
     ]
    }
   ],
   "source": [
    "X_train_total_size = X_train.shape[0]\n",
    "chunk = 10\n",
    "chunk_size = int(X_train_total_size / chunk)\n",
    "for i in range(chunk):\n",
    "    row = 1 + i*chunk_size + chunk_size\n",
    "    sub_X_train = X_train[0:row,:]\n",
    "    sub_y_train = y_train[0:row]\n",
    "    ML_train(sub_X_train,sub_y_train,X_test,y_test)"
   ]
  },
  {
   "cell_type": "code",
   "execution_count": null,
   "metadata": {},
   "outputs": [],
   "source": [
    "rstate = random.randrange(1,999999999,1)\n",
    "estimator = RandomForestRegressor(random_state = rstate, n_estimators = 10, n_jobs = 12)\n",
    "train = estimator.fit(X_train, y_train)\n",
    "pred = estimator.predict(X_test)"
   ]
  },
  {
   "cell_type": "code",
   "execution_count": null,
   "metadata": {},
   "outputs": [],
   "source": [
    "# Cross validation \n",
    "from sklearn.model_selection import cross_val_score\n",
    "cvscore = cross_val_score(estimator, X_train, y_train, cv=5)\n",
    "score = cvscore.mean()\n",
    "print(\"Score with the entire dataset = %.2f\" % score)"
   ]
  },
  {
   "cell_type": "code",
   "execution_count": null,
   "metadata": {},
   "outputs": [],
   "source": [
    "from sklearn.metrics import mean_absolute_error, r2_score, mean_squared_error\n",
    "print(mean_absolute_error(y_test, pred))\n",
    "print(mean_squared_error(y_test,pred))\n",
    "print(r2_score(y_test, pred))"
   ]
  },
  {
   "cell_type": "code",
   "execution_count": null,
   "metadata": {},
   "outputs": [],
   "source": [
    "# Plot outputs\n",
    "import pylab as pl\n",
    "fig = pl.figure()\n",
    "ax = fig.add_subplot(111)\n",
    "ax.set_aspect('equal', adjustable='box')\n",
    "pl.plot(y_test, pred,'ro',fillstyle='none')\n",
    "pl.xlim(1,2.3)\n",
    "pl.ylim(1,2.3)\n",
    "pl.plot([1,3],[1,3], '--b')\n",
    "pl.xlabel('i-RESP charge')\n",
    "pl.ylabel('ML charge')\n",
    "pl.show()"
   ]
  },
  {
   "cell_type": "code",
   "execution_count": null,
   "metadata": {},
   "outputs": [],
   "source": [
    "data_size = len(y_test)\n",
    "fig = pl.figure()\n",
    "ax = fig.add_subplot(111)\n",
    "ax.set_xlim(0, int(data_size*testsize +3))\n",
    "ax.set_ylim(1, 3)\n",
    "pl.plot(y_test, color='red', label = 'i-RESP charge')\n",
    "pl.plot(pred, color='blue', label = 'ML charge')\n",
    "pl.legend(loc='best')\n",
    "pl.show()"
   ]
  },
  {
   "cell_type": "code",
   "execution_count": null,
   "metadata": {},
   "outputs": [],
   "source": [
    "data_size = len(y_train)\n",
    "fig = pl.figure()\n",
    "ax = fig.add_subplot(111)\n",
    "ax.set_xlim(0, int(data_size))\n",
    "ax.set_ylim(1, 3)\n",
    "pl.plot(y_train, color='red', label = 'i-RESP charge')\n",
    "pl.plot(estimator.predict(X_train), color='blue', label = 'ML charge')\n",
    "pl.legend(loc='best')\n",
    "pl.show()"
   ]
  }
 ],
 "metadata": {
  "kernelspec": {
   "display_name": "Python 3",
   "language": "python",
   "name": "python3"
  },
  "language_info": {
   "codemirror_mode": {
    "name": "ipython",
    "version": 3
   },
   "file_extension": ".py",
   "mimetype": "text/x-python",
   "name": "python",
   "nbconvert_exporter": "python",
   "pygments_lexer": "ipython3",
   "version": "3.7.10"
  }
 },
 "nbformat": 4,
 "nbformat_minor": 2
}
