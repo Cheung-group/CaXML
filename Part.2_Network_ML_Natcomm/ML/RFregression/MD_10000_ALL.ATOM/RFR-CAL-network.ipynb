{
 "cells": [
  {
   "cell_type": "code",
   "execution_count": 1,
   "metadata": {},
   "outputs": [],
   "source": [
    "import pandas as pd\n",
    "import numpy as np\n",
    "\n",
    "import glob\n",
    "from ase.io import read\n",
    "from dscribe.descriptors import ACSF\n",
    "\n",
    "import matplotlib as mpl\n",
    "import matplotlib.pyplot as plt\n",
    "import matplotlib.colors as colors\n",
    "from mpl_toolkits.axes_grid1 import make_axes_locatable\n",
    "import random\n",
    "from sklearn import datasets\n",
    "from sklearn.model_selection import train_test_split\n",
    "from sklearn import metrics\n",
    "\n",
    "from pandas import set_option\n",
    "pd.options.mode.chained_assignment = None\n",
    "\n",
    "from sklearn import preprocessing\n",
    "from sklearn.model_selection import train_test_split\n",
    "from sklearn.neural_network import MLPClassifier\n",
    "from sklearn.metrics import confusion_matrix\n",
    "from scipy.stats import truncnorm\n",
    "from sklearn.ensemble import RandomForestClassifier\n",
    "from sklearn.model_selection import cross_val_score\n",
    "from sklearn.metrics import mean_absolute_error, r2_score, mean_squared_error"
   ]
  },
  {
   "cell_type": "code",
   "execution_count": 2,
   "metadata": {},
   "outputs": [],
   "source": [
    "def ML_train(X_tr, y_tr, X_te, y_te):\n",
    "    rstate = random.randrange(1,999999999,1)\n",
    "    estimator = RandomForestRegressor(random_state = rstate, n_estimators = 10, n_jobs = 12)\n",
    "    train = estimator.fit(X_tr, y_tr)\n",
    "    pred = estimator.predict(X_te)\n",
    "    \n",
    "    # Cross validation \n",
    "    cvscore = cross_val_score(estimator, X_tr, y_tr, cv=5)\n",
    "    score = cvscore.mean()\n",
    "    print(\"Score with the entire dataset = %.2f\" % score)\n",
    "    \n",
    "    print(mean_absolute_error(y_te, pred))\n",
    "    print(mean_squared_error(y_te,pred))\n",
    "    print(r2_score(y_te, pred))"
   ]
  },
  {
   "cell_type": "code",
   "execution_count": 3,
   "metadata": {},
   "outputs": [],
   "source": [
    "def calc_sym(pdb_file, chg_file):\n",
    "    structure = read(\"pdb/\"+pdb_file)\n",
    "    feat_lst=[]\n",
    "    num=structure.get_global_number_of_atoms()\n",
    "    atomPos = [x for x in range(0,num)]\n",
    "\n",
    "    chg=np.genfromtxt(\"charge/\"+chg_file)\n",
    "\n",
    "\n",
    "    for r_cut in [6]:\n",
    "        # Setting up the ACSF descriptor\n",
    "        # decreasing this cutoff drops the ML performance\n",
    "        acsf = ACSF(\n",
    "            species=[\"C\", \"H\", \"O\", \"N\", \"Ca\"],\n",
    "            rcut=r_cut,\n",
    "            g2_params=[[0.0001,3]],\n",
    "            g4_params=[[0.0001,0.5,-1]],\n",
    "        )\n",
    "        feat_lst.append(acsf.create(structure,positions=atomPos,n_jobs=4))\n",
    "\n",
    "#    acsf_ang = ACSF(\n",
    "#        species=[\"C\", \"H\", \"O\", \"N\", \"Ca\"],\n",
    "#        rcut=3.0,\n",
    "#        g4_params=[[0.0001,0.5,-1]],\n",
    "#    )\n",
    "#    feat_lst.append(acsf_ang.create(structure,positions=atomPos,n_jobs=4))\n",
    "    \n",
    "    feat = np.hstack(tuple(feat_lst))\n",
    "    dat = np.hstack((feat,chg))\n",
    "    #np.savetxt('sym/sym_'+pdb_file[0:-4]+'.dat', dat, delimiter=',')  \n",
    "    return dat\n",
    "    "
   ]
  },
  {
   "cell_type": "code",
   "execution_count": 4,
   "metadata": {},
   "outputs": [
    {
     "ename": "KeyboardInterrupt",
     "evalue": "",
     "output_type": "error",
     "traceback": [
      "\u001b[0;31m---------------------------------------------------------------------------\u001b[0m",
      "\u001b[0;31mKeyboardInterrupt\u001b[0m                         Traceback (most recent call last)",
      "\u001b[0;32m<ipython-input-4-5dc3f9f78e5d>\u001b[0m in \u001b[0;36m<module>\u001b[0;34m\u001b[0m\n\u001b[1;32m      6\u001b[0m \u001b[0;32mfor\u001b[0m \u001b[0mloop\u001b[0m \u001b[0;32min\u001b[0m \u001b[0mloops\u001b[0m\u001b[0;34m:\u001b[0m\u001b[0;34m\u001b[0m\u001b[0;34m\u001b[0m\u001b[0m\n\u001b[1;32m      7\u001b[0m     \u001b[0mname\u001b[0m \u001b[0;34m=\u001b[0m \u001b[0mloop\u001b[0m\u001b[0;34m.\u001b[0m\u001b[0msplit\u001b[0m\u001b[0;34m(\u001b[0m\u001b[0;34m'/'\u001b[0m\u001b[0;34m)\u001b[0m\u001b[0;34m[\u001b[0m\u001b[0;36m1\u001b[0m\u001b[0;34m]\u001b[0m\u001b[0;34m.\u001b[0m\u001b[0msplit\u001b[0m\u001b[0;34m(\u001b[0m\u001b[0;34m'.pdb'\u001b[0m\u001b[0;34m)\u001b[0m\u001b[0;34m[\u001b[0m\u001b[0;36m0\u001b[0m\u001b[0;34m]\u001b[0m\u001b[0;34m\u001b[0m\u001b[0;34m\u001b[0m\u001b[0m\n\u001b[0;32m----> 8\u001b[0;31m     \u001b[0mall_feat\u001b[0m\u001b[0;34m.\u001b[0m\u001b[0mappend\u001b[0m\u001b[0;34m(\u001b[0m\u001b[0mcalc_sym\u001b[0m\u001b[0;34m(\u001b[0m\u001b[0mname\u001b[0m\u001b[0;34m+\u001b[0m\u001b[0;34m'.pdb'\u001b[0m\u001b[0;34m,\u001b[0m\u001b[0mname\u001b[0m\u001b[0;34m+\u001b[0m\u001b[0;34m'.chg'\u001b[0m\u001b[0;34m)\u001b[0m\u001b[0;34m)\u001b[0m\u001b[0;34m\u001b[0m\u001b[0;34m\u001b[0m\u001b[0m\n\u001b[0m\u001b[1;32m      9\u001b[0m \u001b[0;34m\u001b[0m\u001b[0m\n\u001b[1;32m     10\u001b[0m \u001b[0mallData\u001b[0m \u001b[0;34m=\u001b[0m \u001b[0mnp\u001b[0m\u001b[0;34m.\u001b[0m\u001b[0mconcatenate\u001b[0m\u001b[0;34m(\u001b[0m\u001b[0mtuple\u001b[0m\u001b[0;34m(\u001b[0m\u001b[0mall_feat\u001b[0m\u001b[0;34m)\u001b[0m\u001b[0;34m)\u001b[0m\u001b[0;34m\u001b[0m\u001b[0;34m\u001b[0m\u001b[0m\n",
      "\u001b[0;32m<ipython-input-3-452437c3ad0e>\u001b[0m in \u001b[0;36mcalc_sym\u001b[0;34m(pdb_file, chg_file)\u001b[0m\n\u001b[1;32m     17\u001b[0m             \u001b[0mg4_params\u001b[0m\u001b[0;34m=\u001b[0m\u001b[0;34m[\u001b[0m\u001b[0;34m[\u001b[0m\u001b[0;36m0.0001\u001b[0m\u001b[0;34m,\u001b[0m\u001b[0;36m0.5\u001b[0m\u001b[0;34m,\u001b[0m\u001b[0;34m-\u001b[0m\u001b[0;36m1\u001b[0m\u001b[0;34m]\u001b[0m\u001b[0;34m]\u001b[0m\u001b[0;34m,\u001b[0m\u001b[0;34m\u001b[0m\u001b[0;34m\u001b[0m\u001b[0m\n\u001b[1;32m     18\u001b[0m         )\n\u001b[0;32m---> 19\u001b[0;31m         \u001b[0mfeat_lst\u001b[0m\u001b[0;34m.\u001b[0m\u001b[0mappend\u001b[0m\u001b[0;34m(\u001b[0m\u001b[0macsf\u001b[0m\u001b[0;34m.\u001b[0m\u001b[0mcreate\u001b[0m\u001b[0;34m(\u001b[0m\u001b[0mstructure\u001b[0m\u001b[0;34m,\u001b[0m\u001b[0mpositions\u001b[0m\u001b[0;34m=\u001b[0m\u001b[0matomPos\u001b[0m\u001b[0;34m,\u001b[0m\u001b[0mn_jobs\u001b[0m\u001b[0;34m=\u001b[0m\u001b[0;36m4\u001b[0m\u001b[0;34m)\u001b[0m\u001b[0;34m)\u001b[0m\u001b[0;34m\u001b[0m\u001b[0;34m\u001b[0m\u001b[0m\n\u001b[0m\u001b[1;32m     20\u001b[0m \u001b[0;34m\u001b[0m\u001b[0m\n\u001b[1;32m     21\u001b[0m \u001b[0;31m#    acsf_ang = ACSF(\u001b[0m\u001b[0;34m\u001b[0m\u001b[0;34m\u001b[0m\u001b[0;34m\u001b[0m\u001b[0m\n",
      "\u001b[0;32m~/Programs/miniconda3/envs/h2o/lib/python3.6/site-packages/dscribe/descriptors/acsf.py\u001b[0m in \u001b[0;36mcreate\u001b[0;34m(self, system, positions, n_jobs, verbose)\u001b[0m\n\u001b[1;32m    119\u001b[0m         \u001b[0;31m# If single system given, skip the parallelization\u001b[0m\u001b[0;34m\u001b[0m\u001b[0;34m\u001b[0m\u001b[0;34m\u001b[0m\u001b[0m\n\u001b[1;32m    120\u001b[0m         \u001b[0;32mif\u001b[0m \u001b[0misinstance\u001b[0m\u001b[0;34m(\u001b[0m\u001b[0msystem\u001b[0m\u001b[0;34m,\u001b[0m \u001b[0;34m(\u001b[0m\u001b[0mAtoms\u001b[0m\u001b[0;34m,\u001b[0m \u001b[0mSystem\u001b[0m\u001b[0;34m)\u001b[0m\u001b[0;34m)\u001b[0m\u001b[0;34m:\u001b[0m\u001b[0;34m\u001b[0m\u001b[0;34m\u001b[0m\u001b[0m\n\u001b[0;32m--> 121\u001b[0;31m             \u001b[0;32mreturn\u001b[0m \u001b[0mself\u001b[0m\u001b[0;34m.\u001b[0m\u001b[0mcreate_single\u001b[0m\u001b[0;34m(\u001b[0m\u001b[0msystem\u001b[0m\u001b[0;34m,\u001b[0m \u001b[0mpositions\u001b[0m\u001b[0;34m)\u001b[0m\u001b[0;34m\u001b[0m\u001b[0;34m\u001b[0m\u001b[0m\n\u001b[0m\u001b[1;32m    122\u001b[0m         \u001b[0;32melse\u001b[0m\u001b[0;34m:\u001b[0m\u001b[0;34m\u001b[0m\u001b[0;34m\u001b[0m\u001b[0m\n\u001b[1;32m    123\u001b[0m             \u001b[0mself\u001b[0m\u001b[0;34m.\u001b[0m\u001b[0m_check_system_list\u001b[0m\u001b[0;34m(\u001b[0m\u001b[0msystem\u001b[0m\u001b[0;34m)\u001b[0m\u001b[0;34m\u001b[0m\u001b[0;34m\u001b[0m\u001b[0m\n",
      "\u001b[0;32m~/Programs/miniconda3/envs/h2o/lib/python3.6/site-packages/dscribe/descriptors/acsf.py\u001b[0m in \u001b[0;36mcreate_single\u001b[0;34m(self, system, positions)\u001b[0m\n\u001b[1;32m    238\u001b[0m             \u001b[0mdmat_dense\u001b[0m\u001b[0;34m,\u001b[0m\u001b[0;34m\u001b[0m\u001b[0;34m\u001b[0m\u001b[0m\n\u001b[1;32m    239\u001b[0m             \u001b[0mneighbours\u001b[0m\u001b[0;34m,\u001b[0m\u001b[0;34m\u001b[0m\u001b[0;34m\u001b[0m\u001b[0m\n\u001b[0;32m--> 240\u001b[0;31m             \u001b[0mindices\u001b[0m\u001b[0;34m,\u001b[0m\u001b[0;34m\u001b[0m\u001b[0;34m\u001b[0m\u001b[0m\n\u001b[0m\u001b[1;32m    241\u001b[0m         ), \n\u001b[1;32m    242\u001b[0m         dtype = np.float32)\n",
      "\u001b[0;31mKeyboardInterrupt\u001b[0m: "
     ]
    }
   ],
   "source": [
    "# Use all the files\n",
    "\n",
    "loops = glob.glob(\"pdb/*.pdb\")\n",
    "structures = list()\n",
    "all_feat=[]\n",
    "for loop in loops:\n",
    "    name = loop.split('/')[1].split('.pdb')[0]\n",
    "    all_feat.append(calc_sym(name+'.pdb',name+'.chg'))\n",
    "    \n",
    "allData = np.concatenate(tuple(all_feat))\n"
   ]
  },
  {
   "cell_type": "code",
   "execution_count": null,
   "metadata": {},
   "outputs": [],
   "source": [
    "CA_data = allData[allData[:,-2]==20,:]\n",
    "C_data = allData[allData[:,-2]==6,:]\n",
    "N_data = allData[allData[:,-2]==7,:]\n",
    "O_data = allData[allData[:,-2]==8,:]\n",
    "H_data = allData[allData[:,-2]==1,:]\n",
    "CA_data.shape"
   ]
  },
  {
   "cell_type": "code",
   "execution_count": null,
   "metadata": {},
   "outputs": [],
   "source": [
    "from sklearn.ensemble import RandomForestRegressor\n",
    "testsize = 0.3\n",
    "rstate = random.randrange(1,999999999,1)\n",
    "# Take O as an example\n",
    "X = CA_data[:,:-2]\n",
    "y = CA_data[:,-1]\n",
    "X_train, X_test, y_train, y_test = train_test_split(X,y,test_size = testsize, random_state = rstate)"
   ]
  },
  {
   "cell_type": "code",
   "execution_count": null,
   "metadata": {},
   "outputs": [],
   "source": [
    "X_train_total_size = X_train.shape[0]\n",
    "chunk = 1\n",
    "chunk_size = int(X_train_total_size / chunk)\n",
    "for i in range(chunk):\n",
    "    row = 1 + i*chunk_size + chunk_size\n",
    "    sub_X_train = X_train[0:row,:]\n",
    "    sub_y_train = y_train[0:row]\n",
    "    ML_train(sub_X_train,sub_y_train,X_test,y_test)"
   ]
  },
  {
   "cell_type": "code",
   "execution_count": null,
   "metadata": {},
   "outputs": [],
   "source": [
    "rstate = random.randrange(1,999999999,1)\n",
    "estimator = RandomForestRegressor(random_state = rstate, n_estimators = 10, n_jobs = 12)\n",
    "train = estimator.fit(X_train, y_train)\n",
    "pred = estimator.predict(X_test)"
   ]
  },
  {
   "cell_type": "code",
   "execution_count": null,
   "metadata": {},
   "outputs": [],
   "source": [
    "# Cross validation \n",
    "from sklearn.model_selection import cross_val_score\n",
    "cvscore = cross_val_score(estimator, X_train, y_train, cv=5)\n",
    "score = cvscore.mean()\n",
    "print(\"Score with the entire dataset = %.2f\" % score)"
   ]
  },
  {
   "cell_type": "code",
   "execution_count": null,
   "metadata": {},
   "outputs": [],
   "source": [
    "from sklearn.metrics import mean_absolute_error, r2_score, mean_squared_error\n",
    "print(\"mean absolute error is %.4f\" % mean_absolute_error(y_test, pred))\n",
    "print(\"mean squared error is %.4f\" % mean_squared_error(y_test,pred))\n",
    "print(\"r2 score is %.4f\" % r2_score(y_test, pred))"
   ]
  },
  {
   "cell_type": "code",
   "execution_count": null,
   "metadata": {},
   "outputs": [],
   "source": [
    "# Plot outputs\n",
    "import pylab as pl\n",
    "fig = pl.figure()\n",
    "ax = fig.add_subplot(111)\n",
    "ax.set_aspect('equal', adjustable='box')\n",
    "pl.plot(y_test, pred,'ro',fillstyle='none')\n",
    "pl.xlim(1,3)\n",
    "pl.ylim(1,3)\n",
    "pl.plot([1,3],[1,3], '--b')\n",
    "\n",
    "pl.xlabel('i-RESP charge')\n",
    "pl.ylabel('ML charge')\n",
    "pl.show()"
   ]
  },
  {
   "cell_type": "code",
   "execution_count": null,
   "metadata": {},
   "outputs": [],
   "source": [
    "data_size = len(y_test)\n",
    "fig = pl.figure()\n",
    "ax = fig.add_subplot(111)\n",
    "ax.set_xlim(0, int(data_size*testsize +3))\n",
    "ax.set_ylim(1, 3)\n",
    "pl.plot(y_test, color='red', label = 'i-RESP charge')\n",
    "pl.plot(pred, color='blue', label = 'ML charge')\n",
    "pl.legend(loc='best')\n",
    "pl.show()"
   ]
  },
  {
   "cell_type": "code",
   "execution_count": null,
   "metadata": {},
   "outputs": [],
   "source": [
    "data_size = len(y_train)\n",
    "fig = pl.figure()\n",
    "ax = fig.add_subplot(111)\n",
    "ax.set_xlim(0, int(data_size))\n",
    "ax.set_ylim(1, 3)\n",
    "pl.plot(y_train, color='red', label = 'i-RESP charge')\n",
    "pl.plot(estimator.predict(X_train), color='blue', label = 'ML charge')\n",
    "pl.legend(loc='best')\n",
    "pl.show()"
   ]
  }
 ],
 "metadata": {
  "kernelspec": {
   "display_name": "Python 3",
   "language": "python",
   "name": "python3"
  },
  "language_info": {
   "codemirror_mode": {
    "name": "ipython",
    "version": 3
   },
   "file_extension": ".py",
   "mimetype": "text/x-python",
   "name": "python",
   "nbconvert_exporter": "python",
   "pygments_lexer": "ipython3",
   "version": "3.6.9"
  }
 },
 "nbformat": 4,
 "nbformat_minor": 2
}
