{
 "cells": [
  {
   "cell_type": "code",
   "execution_count": 35,
   "metadata": {},
   "outputs": [],
   "source": [
    "import glob\n",
    "import random\n",
    "import sys\n",
    "\n",
    "# Plot\n",
    "import matplotlib as mpl\n",
    "import matplotlib.pyplot as plt\n",
    "import matplotlib.colors as colors\n",
    "from mpl_toolkits.axes_grid1 import make_axes_locatable\n",
    "from matplotlib.ticker import (MultipleLocator, AutoMinorLocator)\n",
    "import pylab as pl\n",
    "\n",
    "\n",
    "import numpy as np\n",
    "import pandas as pd\n",
    "from pandas import set_option\n",
    "pd.options.mode.chained_assignment = None\n",
    "from sklearn import preprocessing\n",
    "from sklearn.preprocessing import StandardScaler  \n",
    "from sklearn.model_selection import train_test_split\n",
    "from sklearn import metrics\n",
    "from sklearn.metrics import confusion_matrix\n",
    "from sklearn.metrics import mean_absolute_error, r2_score, mean_squared_error\n",
    "\n",
    "# use DL Multi-layer Perceptron regressor\n",
    "from sklearn.neural_network import MLPRegressor\n",
    "from scipy.stats import truncnorm\n",
    "from sklearn.model_selection import cross_val_score\n",
    "\n",
    "from ase.io import read\n",
    "from dscribe.descriptors import CoulombMatrix\n",
    "from dscribe.descriptors import ACSF"
   ]
  },
  {
   "cell_type": "code",
   "execution_count": 42,
   "metadata": {},
   "outputs": [],
   "source": [
    "def ML_train(X_tr, y_tr, X_te, y_te):\n",
    "    rstate = random.randrange(1,999999999,1)\n",
    "    estimator = MLPRegressor(random_state = rstate, max_iter=500, hidden_layer_sizes=(20,))\n",
    "    \n",
    "    train = estimator.fit(X_tr, y_tr)\n",
    "    pred = estimator.predict(X_te)\n",
    "    \n",
    "    # Cross validation \n",
    "    cvscore = cross_val_score(estimator, X_tr, y_tr, cv=5)\n",
    "    score = cvscore.mean()\n",
    "    print(\"Score with the entire dataset = %.2f\" % score)\n",
    "    \n",
    "    print(\"Evaluate the error on the test data.\")\n",
    "    print(\"mean absolute error: \", mean_absolute_error(y_te, pred))\n",
    "    print(\"mean squared error: \", mean_squared_error(y_te,pred))\n",
    "    print(\"r2 score: \", r2_score(y_te, pred))\n",
    "    return estimator"
   ]
  },
  {
   "cell_type": "code",
   "execution_count": 23,
   "metadata": {},
   "outputs": [],
   "source": [
    "aN={1:'H',6:'C',7:'N',8:'O',20:'Ca'}"
   ]
  },
  {
   "cell_type": "code",
   "execution_count": 37,
   "metadata": {},
   "outputs": [],
   "source": [
    "testsize = 0.3\n",
    "rstate=random.randrange(1,999999999,1)\n",
    "scaler = StandardScaler()  \n",
    "\n",
    "\n",
    "\n",
    "# Machine learning function\n",
    "def MLP_atom(train_data, test_data):\n",
    "    # to use the same random number in data shuffling for reproducible results\n",
    "    # rstate = random.randrange(1,999999999,1)\n",
    "    X_train = train_data[:,:-1]\n",
    "    y_train = train_data[:,-1]\n",
    "    \n",
    "    X_test = test_data[:,:-1]\n",
    "    y_test = test_data[:,-1]\n",
    "    \n",
    "    # Don't cheat - fit only on training data\n",
    "    scaler.fit(X_train)  \n",
    "    X_train = scaler.transform(X_train)  \n",
    "    # apply same transformation to test data\n",
    "    X_test = scaler.transform(X_test)\n",
    "    \n",
    "    #X_train, X_test, y_train, y_test = train_test_split(X,y,test_size = testsize, random_state = rstate)\n",
    "    estimator = ML_train(X_train, y_train, X_test, y_test)\n",
    "    return estimator"
   ]
  },
  {
   "cell_type": "code",
   "execution_count": 5,
   "metadata": {},
   "outputs": [],
   "source": [
    "class Structure:\n",
    "    \n",
    "    def __init__(self, pdb_path):\n",
    "        self.name = pdb_path.split('/')[1].split('.pdb')[0]\n",
    "        self.water = int(self.name.split('.')[2][5:])\n",
    "        self.system = self.name.split('.')[0]\n",
    "        self.loop = self.name.split('.')[1]\n",
    "        self.mdframe = self.name.split('.')[3]\n",
    "        self.feat_atom = dict()\n",
    "        self.cutAtoms = dict()\n",
    "        #print(\"PDB name is \", self.name)\n",
    "        \n",
    "    def calc_sym(self):\n",
    "        '''\n",
    "        The function takes the structure file and compute the \n",
    "        symmetry function for each atom\n",
    "        output: a list of symmetry functions for each atom. \n",
    "                Length of the list = number of atoms\n",
    "        ''' \n",
    "        pdb_file = self.name+'.pdb'\n",
    "        chg_file = self.name + '.chg'\n",
    "        structure = read(\"pdb/\"+pdb_file)\n",
    "        feat_lst=[]\n",
    "        num=structure.get_global_number_of_atoms()\n",
    "        atomPos = [x for x in range(0,num)]\n",
    "\n",
    "        chg=np.genfromtxt(\"charge/\"+chg_file)\n",
    "\n",
    "\n",
    "        #for r_cut in [x/4. for x in range(4,13,1)]:\n",
    "         \n",
    "        # Setting up the ACSF descriptor\n",
    "        for r_cut in [4.]:\n",
    "            acsf = ACSF(\n",
    "                species=[\"C\", \"H\", \"O\", \"N\", \"Ca\"],\n",
    "                rcut=r_cut,\n",
    "                g2_params=[[0.0001,0]],\n",
    "            )\n",
    "            feat_lst.append(acsf.create(structure,positions=atomPos,n_jobs=4))\n",
    "\n",
    "        acsf_ang = ACSF(\n",
    "            species=[\"C\", \"H\", \"O\", \"N\", \"Ca\"],\n",
    "            rcut=3.0,\n",
    "            g4_params=[[0.0001,0.5,-1]],\n",
    "        )\n",
    "        feat_lst.append(acsf_ang.create(structure,positions=atomPos,n_jobs=4))\n",
    "\n",
    "        feat = np.hstack(tuple(feat_lst))\n",
    "        dat = np.hstack((feat,chg))\n",
    "        np.savetxt('sym/sym_'+pdb_file[0:-4]+'.dat', dat, delimiter=',')\n",
    "\n",
    "        # Skip water here\n",
    "        # Skip to the last water x 3 rows\n",
    "        skip_water = -3 * self.water\n",
    "        # If there is no water, skip none (-1)\n",
    "        if skip_water == 0:\n",
    "            skip_water = None\n",
    "        #print(\"skip water atoms\",skip_water)\n",
    "        #print(dat.shape)\n",
    "        #print(dat[:skip_water,:].shape)\n",
    "        for i in dat[:skip_water,:]:\n",
    "            ikey = aN[int(i[-2])]\n",
    "            if ikey in self.feat_atom:\n",
    "                self.feat_atom[ikey] = np.vstack((self.feat_atom[ikey],i))\n",
    "            else:\n",
    "                #print(ikey,\"is not in the dictionary, adding ...\")\n",
    "                self.feat_atom[ikey] = i\n",
    "\n",
    "    \n",
    "    def calc_nb(self, rcut):\n",
    "        '''\n",
    "        The function takes the structure file and compute the \n",
    "        neighbouring atoms within a cutoff \n",
    "        for the coulombic matrix for each atom\n",
    "        output: a list of atoms groups (structure) for each atom. \n",
    "                Length of the list = number of atoms\n",
    "        ''' \n",
    "        pdb_file = self.name+'.pdb'\n",
    "        chg_file = self.name + '.chg'\n",
    "        structure = read(\"pdb/\"+pdb_file)\n",
    "        num=structure.get_global_number_of_atoms()\n",
    "        \n",
    "        chg = np.genfromtxt(\"charge/\"+chg_file)\n",
    "        \n",
    "        \n",
    "        # atom index starts from 0\n",
    "        # Skip water: num - 3*self.water\n",
    "        for atom_index in range(num-3*self.water):\n",
    "            atom = structure[atom_index]\n",
    "            elem = atom.symbol\n",
    "            \n",
    "            if elem not in self.cutAtoms:\n",
    "                self.cutAtoms[elem] = list()\n",
    "            \n",
    "            nb = structure[structure.get_distances(atom_index, range(num)) < rcut]\n",
    "            self.cutAtoms[elem].append((nb,chg[atom_index,1]))"
   ]
  },
  {
   "cell_type": "code",
   "execution_count": 6,
   "metadata": {},
   "outputs": [
    {
     "name": "stdout",
     "output_type": "stream",
     "text": [
      "7800 structures out of  7817  processed ...\r"
     ]
    }
   ],
   "source": [
    "\n",
    "# Use all the files\n",
    "loops = glob.glob(\"pdb/*.pdb\")\n",
    "structures = dict()\n",
    "\n",
    "# record max number of neighbouring atoms for each element\n",
    "max_atom = {'C':0, 'N':0, 'O':0, 'H':0, 'Ca':0}\n",
    "\n",
    "counter = 0\n",
    "count_total = len(loops)\n",
    "for loop in loops:\n",
    "    name = loop.split('/')[1].split('.pdb')[0]\n",
    "    structures[name]=Structure(loop)\n",
    "    structures[name].calc_nb(3.5)  \n",
    "\n",
    "    counter = counter + 1\n",
    "    if counter % 100 == 0:\n",
    "        #sys.stdout.write('\\r')\n",
    "        print(counter, \"structures out of \", count_total, \" processed ...\", end = '\\r')\n",
    "        sys.stdout.flush()\n",
    "    \n",
    "    for elem in max_atom:\n",
    "        for atom in structures[name].cutAtoms[elem]:\n",
    "            n_nb = atom[0].get_global_number_of_atoms()\n",
    "            if max_atom[elem] < n_nb:\n",
    "                max_atom[elem] = n_nb"
   ]
  },
  {
   "cell_type": "code",
   "execution_count": 12,
   "metadata": {},
   "outputs": [
    {
     "data": {
      "text/plain": [
       "64"
      ]
     },
     "execution_count": 12,
     "metadata": {},
     "output_type": "execute_result"
    }
   ],
   "source": []
  },
  {
   "cell_type": "code",
   "execution_count": 13,
   "metadata": {},
   "outputs": [],
   "source": [
    "cm=dict()\n",
    "for elem in max_atom:\n",
    "    cm[elem]=CoulombMatrix(n_atoms_max=max_atom[elem])\n",
    "\n",
    "def calc_cm(ele, nb):\n",
    "    cmi = cm[ele].create(nb[0])\n",
    "    chg = nb[1]\n",
    "    return np.hstack((cmi[0], chg))"
   ]
  },
  {
   "cell_type": "code",
   "execution_count": 14,
   "metadata": {},
   "outputs": [],
   "source": [
    "# Split the data into train and data\n",
    "name=np.array([i for i in structures.keys()])\n",
    "struct_Train, struct_Test = train_test_split(name, test_size = testsize, random_state = rstate)"
   ]
  },
  {
   "cell_type": "code",
   "execution_count": 15,
   "metadata": {},
   "outputs": [
    {
     "data": {
      "text/plain": [
       "{'C': 27, 'N': 29, 'O': 29, 'H': 30, 'Ca': 25}"
      ]
     },
     "execution_count": 15,
     "metadata": {},
     "output_type": "execute_result"
    }
   ],
   "source": [
    "max_atom"
   ]
  },
  {
   "cell_type": "code",
   "execution_count": 16,
   "metadata": {},
   "outputs": [],
   "source": [
    "# Put data in the train, test dicts.\n",
    "# Data sorted as for elements\n",
    "Train_Data_atom = dict()\n",
    "for loop_name in struct_Train[:1000]:\n",
    "    \n",
    "    for ele in aN.values():\n",
    "        tmp_cm_ele = list()\n",
    "        nb_all = structures[loop_name].cutAtoms[ele]\n",
    "        for nb in nb_all:\n",
    "            cm_ele_loop = calc_cm(ele, nb)\n",
    "            tmp_cm_ele.append(cm_ele_loop)\n",
    "        cm_ele = np.vstack(tmp_cm_ele)\n",
    "        if ele in Train_Data_atom:\n",
    "            Train_Data_atom[ele] = np.vstack((Train_Data_atom[ele],cm_ele))\n",
    "        else:\n",
    "            Train_Data_atom[ele] = cm_ele\n",
    "if True:\n",
    "    Test_Data_atom = dict()\n",
    "    for loop_name in struct_Test[:400]:\n",
    "        for ele in aN.values():\n",
    "            tmp_cm_ele = list()\n",
    "            nb_all = structures[loop_name].cutAtoms[ele]\n",
    "            for nb in nb_all:\n",
    "                cm_ele_loop = calc_cm(ele, nb)\n",
    "                tmp_cm_ele.append(cm_ele_loop)\n",
    "            cm_ele = np.vstack(tmp_cm_ele)\n",
    "            if ele in Test_Data_atom:\n",
    "                Test_Data_atom[ele] = np.vstack((Test_Data_atom[ele],cm_ele))\n",
    "            else:\n",
    "                Test_Data_atom[ele] = cm_ele\n"
   ]
  },
  {
   "cell_type": "code",
   "execution_count": 17,
   "metadata": {},
   "outputs": [
    {
     "data": {
      "text/plain": [
       "(1000, 626)"
      ]
     },
     "execution_count": 17,
     "metadata": {},
     "output_type": "execute_result"
    }
   ],
   "source": [
    "Train_Data_atom['Ca'].shape"
   ]
  },
  {
   "cell_type": "code",
   "execution_count": 43,
   "metadata": {},
   "outputs": [
    {
     "name": "stdout",
     "output_type": "stream",
     "text": [
      "Training for atoms according to the element:  H\n",
      "Score with the entire dataset = -428.12\n",
      "Evaluate the error on the test data.\n",
      "mean absolute error:  0.10427532648648748\n",
      "mean squared error:  0.020152710157144666\n",
      "r2 score:  0.1685807405681572\n",
      "\n",
      "\n",
      "Training for atoms according to the element:  C\n",
      "Score with the entire dataset = 0.49\n",
      "Evaluate the error on the test data.\n",
      "mean absolute error:  0.25260952520830576\n",
      "mean squared error:  0.11311334131996766\n",
      "r2 score:  0.5772945098596047\n",
      "\n",
      "\n",
      "Training for atoms according to the element:  N\n",
      "Score with the entire dataset = 0.32\n",
      "Evaluate the error on the test data.\n",
      "mean absolute error:  0.2429502181710439\n",
      "mean squared error:  0.18145383553681396\n",
      "r2 score:  -0.19471907749487993\n",
      "\n",
      "\n",
      "Training for atoms according to the element:  O\n",
      "Score with the entire dataset = 0.27\n",
      "Evaluate the error on the test data.\n",
      "mean absolute error:  0.09316065211864705\n",
      "mean squared error:  0.01671444329850079\n",
      "r2 score:  0.28247413476478767\n",
      "\n",
      "\n",
      "Training for atoms according to the element:  Ca\n",
      "Score with the entire dataset = -4.54\n",
      "Evaluate the error on the test data.\n",
      "mean absolute error:  0.20350953362047805\n",
      "mean squared error:  0.08423385606832838\n",
      "r2 score:  -4.322751438150924\n",
      "\n",
      "\n"
     ]
    }
   ],
   "source": [
    "# ML models for each element out of 70% of the data\n",
    "from sklearn.ensemble import RandomForestRegressor\n",
    "\n",
    "estimator=dict()\n",
    "for ele in Train_Data_atom:\n",
    "    print(\"Training for atoms according to the element: \", ele)\n",
    "    estimator[ele] = MLP_atom(Train_Data_atom[ele], Test_Data_atom[ele])\n",
    "    print(\"\\n\")"
   ]
  },
  {
   "cell_type": "code",
   "execution_count": null,
   "metadata": {},
   "outputs": [],
   "source": [
    "class MLPlot:\n",
    "    \n",
    "    # Edit the font, font size, and axes width\n",
    "    mpl.rcParams['font.family'] = 'Times New Roman'\n",
    "    plt.rcParams['font.size'] = 24\n",
    "    plt.rcParams['axes.linewidth'] = 3\n",
    "    \n",
    "    def __init__(self, MLdata, MLestimator):\n",
    "        X = MLdata[:,:-2]\n",
    "        y = MLdata[:,-1]\n",
    "        #X_train, X_test, y_train, y_test = train_test_split(X,y,test_size = testsize, random_state = rstate)\n",
    "        #self.qm = y_test\n",
    "        #self.ml = MLestimator.predict(X_test)\n",
    "        self.qm = y\n",
    "        self.ml = MLestimator.predict(X)\n",
    "        \n",
    "    # Plot outputs\n",
    "    def corrplot(self):\n",
    "        fig = plt.figure(figsize=(10, 10))\n",
    "        ax = fig.add_subplot()\n",
    "\n",
    "        plt.plot(self.qm, self.ml,'ro',fillstyle='none')\n",
    "        \n",
    "        # determine the range\n",
    "        qm_max=np.max(self.qm)\n",
    "        qm_min=np.min(self.qm)\n",
    "        ml_max=np.max(self.ml)\n",
    "        ml_min=np.min(self.ml)\n",
    "        sigma=np.std(self.qm)+np.std(self.ml)\n",
    "        ax_low=min(qm_min,ml_min)-sigma\n",
    "        ax_up=max(qm_max,ml_max)+sigma\n",
    "        \n",
    "        plt.xlim(ax_low,ax_up)\n",
    "        plt.ylim(ax_low,ax_up)\n",
    "        plt.plot([ax_low,ax_up],[ax_low,ax_up], '--b')\n",
    "\n",
    "        plt.xlabel('QM i-RESP charge (e)')\n",
    "        plt.ylabel('ML charge (e)')\n",
    "        \n",
    "        ax.xaxis.set_minor_locator(AutoMinorLocator())\n",
    "        ax.yaxis.set_minor_locator(AutoMinorLocator())\n",
    "        ax.tick_params(axis='both', which='major', direction='in', length=14, width=4, color='k')\n",
    "        ax.tick_params(axis='both', which='minor', direction='in', length=8, width=2, color='k')\n",
    "\n",
    "\n",
    "        #ax.xaxis.grid(True, which='minor')\n",
    "        # square figure\n",
    "        ax.set_aspect('equal', adjustable='box')\n",
    "        plt.show()\n",
    "    \n",
    "    \n",
    "    def cmplot(self):\n",
    "        fig = plt.figure(figsize=(10,10))\n",
    "        ax = fig.add_subplot()\n",
    "        skip = int(len(self.qm)/1000)\n",
    "        plt.plot(self.qm[::skip], color='red', marker='o', linewidth=1, label = 'QM i-RESP charge (e)')\n",
    "        plt.plot(self.ml[::skip], color='blue', marker='o', linewidth=1, label = 'ML charge (e)')\n",
    "        plt.legend(loc='best')\n",
    "        ax.xaxis.set_minor_locator(AutoMinorLocator())\n",
    "        ax.yaxis.set_minor_locator(AutoMinorLocator())\n",
    "        ax.tick_params(axis='both', which='major', direction='in', length=14, width=4, color='k')\n",
    "        ax.tick_params(axis='both', which='minor', direction='in', length=8, width=2, color='k')\n",
    "        \n",
    "        plt.xlabel('Index')\n",
    "        plt.ylabel('Atomic charge (e)')\n",
    "        plt.show()"
   ]
  },
  {
   "cell_type": "code",
   "execution_count": null,
   "metadata": {},
   "outputs": [],
   "source": [
    "# Chopping the data for validation\n",
    "if False:\n",
    "    X_train_total_size = X_train.shape[0]\n",
    "    chunk = 1\n",
    "    chunk_size = int(X_train_total_size / chunk)\n",
    "    for i in range(chunk):\n",
    "        row = 1 + i*chunk_size + chunk_size\n",
    "        sub_X_train = X_train[0:row,:]\n",
    "        sub_y_train = y_train[0:row]\n",
    "        ML_train(sub_X_train,sub_y_train,X_test,y_test)"
   ]
  },
  {
   "cell_type": "code",
   "execution_count": null,
   "metadata": {
    "scrolled": true
   },
   "outputs": [],
   "source": [
    "Caplot = MLPlot(Data_atom['Ca'], estimator['Ca'])\n",
    "Caplot.corrplot()\n",
    "Caplot.cmplot()"
   ]
  },
  {
   "cell_type": "code",
   "execution_count": null,
   "metadata": {},
   "outputs": [],
   "source": [
    "# Now investigate what happens to structures with large number of water molecules\n",
    "# First collecting the structures.\n",
    "\n",
    "Data_atom_sub = dict()\n",
    "for loop_name in struct_Test:\n",
    "    struct = structures[loop_name]\n",
    "    for ele in struct.feat_atom:\n",
    "        tup_key = (ele, struct.water)\n",
    "        if tup_key in Data_atom_sub:\n",
    "            Data_atom_sub[tup_key] = np.vstack((Data_atom_sub[tup_key], struct.feat_atom[ele]))\n",
    "        else:\n",
    "            Data_atom_sub[tup_key] = struct.feat_atom[ele]"
   ]
  },
  {
   "cell_type": "code",
   "execution_count": null,
   "metadata": {},
   "outputs": [],
   "source": [
    "for group in Data_atom_sub:\n",
    "    print(\"\\nchecking group of structures with\", group[1], \"for\", group[0], \"atoms\")\n",
    "    MLdata = Data_atom_sub[group]\n",
    "    MLestimator = estimator[group[0]]\n",
    "    X = MLdata[:,:-2]\n",
    "    y = MLdata[:,-1]\n",
    "    pred = MLestimator.predict(X)\n",
    "    print(\"Evaluate the error.\")\n",
    "    print(\"mean absolute error: \", mean_absolute_error(y, pred))\n",
    "    print(\"mean squared error: \", mean_squared_error(y,pred))\n",
    "    print(\"r2 score: \", r2_score(y, pred))\n"
   ]
  },
  {
   "cell_type": "code",
   "execution_count": null,
   "metadata": {},
   "outputs": [],
   "source": [
    "# Evaluate distribution of the QM charges in the test set\n",
    "for ele, feat in Test_Data_atom.items():\n",
    "    _ = plt.hist(feat[:,-1], bins='auto')\n",
    "    plt.title(\"Histogram of \" + ele + \" atoms in the test set\")\n",
    "    plt.show()"
   ]
  },
  {
   "cell_type": "code",
   "execution_count": null,
   "metadata": {},
   "outputs": [],
   "source": [
    "# Evaluate distribution of the QM charges in the training set\n",
    "for ele, feat in Train_Data_atom.items():\n",
    "    _ = plt.hist(feat[:,-1], bins='auto')\n",
    "    plt.title(\"Histogram of \" + ele + \" atoms in the training set\")\n",
    "    plt.show()"
   ]
  },
  {
   "cell_type": "code",
   "execution_count": null,
   "metadata": {
    "scrolled": false
   },
   "outputs": [],
   "source": [
    "# Evaluate distribution of the QM charges in the test set\n",
    "# According to number of waters\n",
    "    \n",
    "water012 = dict()\n",
    "water3_8 = dict()\n",
    "\n",
    "for loop_name in struct_Test:\n",
    "    feat = structures[loop_name].feat_atom\n",
    "    if structures[loop_name].water < 'water3':\n",
    "        for item in feat:\n",
    "            if item not in water012:\n",
    "                water012[item] = feat[item]\n",
    "            else:\n",
    "                water012[item] = np.vstack((water012[item], feat[item]))\n",
    "    else:\n",
    "        for item in feat:\n",
    "            if item not in water3_8:\n",
    "                water3_8[item] = feat[item]\n",
    "            else:\n",
    "                water3_8[item] = np.vstack((water3_8[item], feat[item]))\n",
    "\n"
   ]
  },
  {
   "cell_type": "code",
   "execution_count": null,
   "metadata": {},
   "outputs": [],
   "source": [
    "for ele in water012:\n",
    "    print(\"\\nchecking group of structures with <3 water molecules for\", ele, \"atoms\")\n",
    "    MLdata = water012[ele]\n",
    "    MLestimator = estimator[ele]\n",
    "    X = MLdata[:,:-2]\n",
    "    y = MLdata[:,-1]\n",
    "    pred = MLestimator.predict(X)\n",
    "    print(\"Evaluate the error.\")\n",
    "    print(\"mean absolute error: \", mean_absolute_error(y, pred))\n",
    "    print(\"mean squared error: \", mean_squared_error(y,pred))\n",
    "    print(\"r2 score: \", r2_score(y, pred))\n"
   ]
  },
  {
   "cell_type": "code",
   "execution_count": null,
   "metadata": {},
   "outputs": [],
   "source": [
    "for ele in water3_8:\n",
    "    print(\"\\nchecking group of structures with >= 3 water molecules for\", ele, \"atoms\")\n",
    "    MLdata = water3_8[ele]\n",
    "    MLestimator = estimator[ele]\n",
    "    X = MLdata[:,:-2]\n",
    "    y = MLdata[:,-1]\n",
    "    pred = MLestimator.predict(X)\n",
    "    print(\"Evaluate the error.\")\n",
    "    print(\"mean absolute error: \", mean_absolute_error(y, pred))\n",
    "    print(\"mean squared error: \", mean_squared_error(y,pred))\n",
    "    print(\"r2 score: \", r2_score(y, pred))\n"
   ]
  },
  {
   "cell_type": "code",
   "execution_count": null,
   "metadata": {},
   "outputs": [],
   "source": [
    "plt.figure#(figsize=(5, 10))\n",
    "fig, axs = plt.subplots(5,2)\n",
    "cnt = 0\n",
    "for ele in water012:\n",
    "    chg = water012[ele][:,-1]\n",
    "    axs[cnt,0].hist(chg, bins='auto')\n",
    "#    axs[cnt,0].title(\"Histogram of \" + ele + \" atoms with <3 H2O in the test set\")\n",
    "    cnt = cnt + 1\n",
    "#    plt.show()\n",
    "\n",
    "cnt = 0\n",
    "for ele in water3_8:\n",
    "    chg = water3_8[ele][:,-1]\n",
    "    axs[cnt,1].hist(chg, bins='auto')\n",
    " #   axs[cnt,1].title(\"Histogram of \" + ele + \" atoms with >=3 H2O in the test set\")\n",
    "    cnt = cnt + 1\n",
    "#    plt.show()"
   ]
  },
  {
   "cell_type": "code",
   "execution_count": null,
   "metadata": {},
   "outputs": [],
   "source": [
    "fig.legends"
   ]
  },
  {
   "cell_type": "code",
   "execution_count": null,
   "metadata": {},
   "outputs": [],
   "source": []
  }
 ],
 "metadata": {
  "kernelspec": {
   "display_name": "Python 3",
   "language": "python",
   "name": "python3"
  },
  "language_info": {
   "codemirror_mode": {
    "name": "ipython",
    "version": 3
   },
   "file_extension": ".py",
   "mimetype": "text/x-python",
   "name": "python",
   "nbconvert_exporter": "python",
   "pygments_lexer": "ipython3",
   "version": "3.6.9"
  }
 },
 "nbformat": 4,
 "nbformat_minor": 2
}
