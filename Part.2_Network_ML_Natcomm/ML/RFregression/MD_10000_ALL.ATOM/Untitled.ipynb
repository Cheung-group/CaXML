{
 "cells": [
  {
   "cell_type": "code",
   "execution_count": 1,
   "metadata": {},
   "outputs": [],
   "source": [
    "import numpy as np"
   ]
  },
  {
   "cell_type": "code",
   "execution_count": 7,
   "metadata": {},
   "outputs": [],
   "source": [
    "n22 = np.zeros((2,2))"
   ]
  },
  {
   "cell_type": "code",
   "execution_count": 8,
   "metadata": {},
   "outputs": [],
   "source": [
    "a=dict()"
   ]
  },
  {
   "cell_type": "code",
   "execution_count": 9,
   "metadata": {},
   "outputs": [],
   "source": [
    "a['cat']=n22"
   ]
  },
  {
   "cell_type": "code",
   "execution_count": 10,
   "metadata": {},
   "outputs": [
    {
     "data": {
      "text/plain": [
       "{'cat': array([[0., 0.],\n",
       "        [0., 0.]])}"
      ]
     },
     "execution_count": 10,
     "metadata": {},
     "output_type": "execute_result"
    }
   ],
   "source": [
    "a"
   ]
  },
  {
   "cell_type": "code",
   "execution_count": 16,
   "metadata": {},
   "outputs": [
    {
     "name": "stdout",
     "output_type": "stream",
     "text": [
      "After local assignment: test spam\n",
      "After nonlocal assignment: nonlocal spam\n",
      "After global assignment: nonlocal spam\n",
      "In global scope: global spam\n"
     ]
    }
   ],
   "source": [
    "def scope_test():\n",
    "    def do_local():\n",
    "        spam = \"local spam\"\n",
    "\n",
    "    def do_nonlocal():\n",
    "        nonlocal spam\n",
    "        spam = \"nonlocal spam\"\n",
    "\n",
    "    def do_global():\n",
    "        global spam\n",
    "        spam = \"global spam\"\n",
    "\n",
    "    spam = \"test spam\"\n",
    "    do_local()\n",
    "    print(\"After local assignment:\", spam)\n",
    "    do_nonlocal()\n",
    "    print(\"After nonlocal assignment:\", spam)\n",
    "    do_global()\n",
    "    print(\"After global assignment:\", spam)\n",
    "\n",
    "scope_test()\n",
    "print(\"In global scope:\", spam)"
   ]
  },
  {
   "cell_type": "code",
   "execution_count": 51,
   "metadata": {},
   "outputs": [],
   "source": [
    "class Element:\n",
    "    test_size = 0.3 # 30% data as the test case\n",
    "    \n",
    "    def __init__(self, name):\n",
    "        self.name = name[0]\n",
    "        self.data = self.name\n",
    "        "
   ]
  },
  {
   "cell_type": "code",
   "execution_count": 52,
   "metadata": {},
   "outputs": [],
   "source": [
    "ME=Element(\"me\")"
   ]
  },
  {
   "cell_type": "code",
   "execution_count": 53,
   "metadata": {},
   "outputs": [
    {
     "data": {
      "text/plain": [
       "'m'"
      ]
     },
     "execution_count": 53,
     "metadata": {},
     "output_type": "execute_result"
    }
   ],
   "source": [
    "ME.data"
   ]
  },
  {
   "cell_type": "code",
   "execution_count": 1,
   "metadata": {},
   "outputs": [],
   "source": [
    "import pandas as pd\n",
    "import numpy as np\n",
    "\n",
    "import glob\n",
    "from ase.io import read\n",
    "from dscribe.descriptors import ACSF\n",
    "\n",
    "import matplotlib as mpl\n",
    "import matplotlib.pyplot as plt\n",
    "import matplotlib.colors as colors\n",
    "from mpl_toolkits.axes_grid1 import make_axes_locatable\n",
    "import random\n",
    "from sklearn import datasets\n",
    "from sklearn.model_selection import train_test_split\n",
    "from sklearn import metrics\n",
    "\n",
    "from pandas import set_option\n",
    "pd.options.mode.chained_assignment = None\n",
    "\n",
    "from sklearn import preprocessing\n",
    "from sklearn.model_selection import train_test_split\n",
    "from sklearn.neural_network import MLPClassifier\n",
    "from sklearn.metrics import confusion_matrix\n",
    "from scipy.stats import truncnorm\n",
    "from sklearn.ensemble import RandomForestClassifier\n",
    "from sklearn.ensemble import RandomForestRegressor\n",
    "from sklearn.model_selection import cross_val_score\n",
    "from sklearn.metrics import mean_absolute_error, r2_score, mean_squared_error"
   ]
  },
  {
   "cell_type": "code",
   "execution_count": null,
   "metadata": {},
   "outputs": [],
   "source": []
  },
  {
   "cell_type": "code",
   "execution_count": 36,
   "metadata": {},
   "outputs": [],
   "source": [
    "class Structure:\n",
    "    \n",
    "    def __init__(self, pdb_path):\n",
    "        self.name = pdb_path.split('/')[1].split('.pdb')[0]\n",
    "        self.water = self.name.split('.')[2]\n",
    "        self.system = self.name.split('.')[0]\n",
    "        self.loop = self.name.split('.')[1]\n",
    "        self.mdframe = self.name.split('.')[3]\n",
    "        self.feat_atom=dict()\n",
    "        print(\"PDB name is \", self.name)\n",
    "        \n",
    "    def calc_sym(self):\n",
    "        '''\n",
    "        The function takes the structure file and compute the \n",
    "        symmetry function for each atom\n",
    "        output: a list of symmetry functions for each atom. \n",
    "                Length of the list = number of atoms\n",
    "        ''' \n",
    "        pdb_file = self.name+'.pdb'\n",
    "        chg_file = self.name + '.chg'\n",
    "        structure = read(\"pdb/\"+pdb_file)\n",
    "        feat_lst=[]\n",
    "        num=structure.get_global_number_of_atoms()\n",
    "        atomPos = [x for x in range(0,num)]\n",
    "\n",
    "        chg=np.genfromtxt(\"charge/\"+chg_file)\n",
    "\n",
    "\n",
    "        for r_cut in [x/2. for x in range(2,13,1)]:\n",
    "            # Setting up the ACSF descriptor\n",
    "            acsf = ACSF(\n",
    "                species=[\"C\", \"H\", \"O\", \"N\", \"Ca\"],\n",
    "                rcut=r_cut,\n",
    "                g2_params=[[0.0001,0]],\n",
    "            )\n",
    "            feat_lst.append(acsf.create(structure,positions=atomPos,n_jobs=4))\n",
    "\n",
    "        acsf_ang = ACSF(\n",
    "            species=[\"C\", \"H\", \"O\", \"N\", \"Ca\"],\n",
    "            rcut=3.0,\n",
    "            g4_params=[[0.0001,0.5,-1]],\n",
    "        )\n",
    "        feat_lst.append(acsf_ang.create(structure,positions=atomPos,n_jobs=4))\n",
    "\n",
    "        feat = np.hstack(tuple(feat_lst))\n",
    "        dat = np.hstack((feat,chg))\n",
    "        np.savetxt('sym/sym_'+pdb_file[0:-4]+'.dat', dat, delimiter=',')\n",
    "        #self.sym_func = dat\n",
    "        aN={1:'H',6:'C',7:'N',8:'O',20:'Ca'}\n",
    "        for i in dat:\n",
    "            ikey = aN[int(i[-2])]\n",
    "            print(ikey)\n",
    "            if ikey in self.feat_atom:\n",
    "                self.feat_atom[ikey] = np.vstack((self.feat_atom[ikey],i))\n",
    "            else:\n",
    "                print(ikey,\"is not in the dictionary, adding ...\")\n",
    "                self.feat_atom[ikey] = i"
   ]
  },
  {
   "cell_type": "code",
   "execution_count": 37,
   "metadata": {},
   "outputs": [
    {
     "name": "stdout",
     "output_type": "stream",
     "text": [
      "PDB name is  apoCaM-CA-Ng.loop3.water4.frame574\n"
     ]
    }
   ],
   "source": [
    "pdb1=Structure(\"pdb/apoCaM-CA-Ng.loop3.water4.frame574.pdb\")"
   ]
  },
  {
   "cell_type": "code",
   "execution_count": 38,
   "metadata": {},
   "outputs": [
    {
     "name": "stdout",
     "output_type": "stream",
     "text": [
      "C\n",
      "C is not in the dictionary, adding ...\n",
      "C\n",
      "O\n",
      "O is not in the dictionary, adding ...\n",
      "H\n",
      "H is not in the dictionary, adding ...\n",
      "H\n",
      "H\n",
      "N\n",
      "N is not in the dictionary, adding ...\n",
      "C\n",
      "C\n",
      "O\n",
      "C\n",
      "C\n",
      "O\n",
      "O\n",
      "H\n",
      "H\n",
      "H\n",
      "H\n",
      "N\n",
      "C\n",
      "C\n",
      "O\n",
      "C\n",
      "C\n",
      "C\n",
      "C\n",
      "N\n",
      "H\n",
      "H\n",
      "H\n",
      "H\n",
      "H\n",
      "H\n",
      "H\n",
      "H\n",
      "H\n",
      "H\n",
      "H\n",
      "H\n",
      "H\n",
      "N\n",
      "C\n",
      "C\n",
      "O\n",
      "C\n",
      "C\n",
      "O\n",
      "O\n",
      "H\n",
      "H\n",
      "H\n",
      "H\n",
      "N\n",
      "C\n",
      "C\n",
      "O\n",
      "H\n",
      "H\n",
      "H\n",
      "N\n",
      "C\n",
      "C\n",
      "O\n",
      "C\n",
      "C\n",
      "N\n",
      "O\n",
      "H\n",
      "H\n",
      "H\n",
      "H\n",
      "H\n",
      "H\n",
      "N\n",
      "C\n",
      "C\n",
      "O\n",
      "H\n",
      "H\n",
      "H\n",
      "N\n",
      "C\n",
      "C\n",
      "O\n",
      "C\n",
      "C\n",
      "C\n",
      "C\n",
      "C\n",
      "C\n",
      "C\n",
      "O\n",
      "H\n",
      "H\n",
      "H\n",
      "H\n",
      "H\n",
      "H\n",
      "H\n",
      "H\n",
      "H\n",
      "N\n",
      "C\n",
      "C\n",
      "O\n",
      "C\n",
      "C\n",
      "C\n",
      "C\n",
      "H\n",
      "H\n",
      "H\n",
      "H\n",
      "H\n",
      "H\n",
      "H\n",
      "H\n",
      "H\n",
      "H\n",
      "H\n",
      "N\n",
      "C\n",
      "C\n",
      "O\n",
      "C\n",
      "O\n",
      "H\n",
      "H\n",
      "H\n",
      "H\n",
      "H\n",
      "N\n",
      "C\n",
      "C\n",
      "O\n",
      "C\n",
      "H\n",
      "H\n",
      "H\n",
      "H\n",
      "H\n",
      "N\n",
      "C\n",
      "C\n",
      "O\n",
      "C\n",
      "H\n",
      "H\n",
      "H\n",
      "H\n",
      "H\n",
      "N\n",
      "C\n",
      "C\n",
      "O\n",
      "C\n",
      "C\n",
      "C\n",
      "O\n",
      "O\n",
      "H\n",
      "H\n",
      "H\n",
      "H\n",
      "H\n",
      "H\n",
      "N\n",
      "C\n",
      "H\n",
      "H\n",
      "H\n",
      "H\n",
      "Ca\n",
      "Ca is not in the dictionary, adding ...\n",
      "O\n",
      "H\n",
      "H\n",
      "O\n",
      "H\n",
      "H\n",
      "O\n",
      "H\n",
      "H\n",
      "O\n",
      "H\n",
      "H\n"
     ]
    }
   ],
   "source": [
    "pdb1.calc_sym()"
   ]
  },
  {
   "cell_type": "code",
   "execution_count": 31,
   "metadata": {},
   "outputs": [],
   "source": [
    "water=int(pdb1.water[5:])"
   ]
  },
  {
   "cell_type": "code",
   "execution_count": 32,
   "metadata": {},
   "outputs": [
    {
     "data": {
      "text/plain": [
       "4"
      ]
     },
     "execution_count": 32,
     "metadata": {},
     "output_type": "execute_result"
    }
   ],
   "source": [
    "pdb"
   ]
  },
  {
   "cell_type": "code",
   "execution_count": 33,
   "metadata": {},
   "outputs": [
    {
     "ename": "KeyError",
     "evalue": "'Ca'",
     "output_type": "error",
     "traceback": [
      "\u001b[0;31m---------------------------------------------------------------------------\u001b[0m",
      "\u001b[0;31mKeyError\u001b[0m                                  Traceback (most recent call last)",
      "\u001b[0;32m<ipython-input-33-e3039d7971cb>\u001b[0m in \u001b[0;36m<module>\u001b[0;34m\u001b[0m\n\u001b[0;32m----> 1\u001b[0;31m \u001b[0mpdb1\u001b[0m\u001b[0;34m.\u001b[0m\u001b[0mfeat_atom\u001b[0m\u001b[0;34m[\u001b[0m\u001b[0;34m'Ca'\u001b[0m\u001b[0;34m]\u001b[0m\u001b[0;34m.\u001b[0m\u001b[0mshape\u001b[0m\u001b[0;34m\u001b[0m\u001b[0;34m\u001b[0m\u001b[0m\n\u001b[0m",
      "\u001b[0;31mKeyError\u001b[0m: 'Ca'"
     ]
    }
   ],
   "source": [
    "pdb1.feat_atom['Ca'].shape\n"
   ]
  },
  {
   "cell_type": "code",
   "execution_count": 97,
   "metadata": {},
   "outputs": [],
   "source": [
    "feat_atom=dict()\n",
    "aN={1:'H',6:'C',7:'N',8:'O',20:'CA'}\n",
    "for i in pdb1.sym_func:\n",
    "    feat_atom[aN[int(i[-2])]]=i\n"
   ]
  },
  {
   "cell_type": "code",
   "execution_count": 147,
   "metadata": {},
   "outputs": [
    {
     "data": {
      "text/plain": [
       "array([[0.    , 0.    , 0.    , ..., 0.    , 1.    , 0.1481],\n",
       "       [0.    , 0.    , 0.    , ..., 0.    , 1.    , 0.1481],\n",
       "       [0.    , 0.    , 0.    , ..., 0.    , 1.    , 0.1481],\n",
       "       ...,\n",
       "       [0.    , 0.    , 0.    , ..., 0.    , 1.    , 0.365 ],\n",
       "       [0.    , 0.    , 0.    , ..., 0.    , 1.    , 0.365 ],\n",
       "       [0.    , 0.    , 0.    , ..., 0.    , 1.    , 0.365 ]])"
      ]
     },
     "execution_count": 147,
     "metadata": {},
     "output_type": "execute_result"
    }
   ],
   "source": [
    "pdb1.feat_atom['H']"
   ]
  },
  {
   "cell_type": "code",
   "execution_count": 154,
   "metadata": {},
   "outputs": [
    {
     "data": {
      "text/plain": [
       "-0.6931471805599453"
      ]
     },
     "execution_count": 154,
     "metadata": {},
     "output_type": "execute_result"
    }
   ],
   "source": [
    "import numpy as np\n",
    "def my_custom_loss_func(y_true, y_pred):\n",
    "    diff = np.abs(y_true - y_pred).min()\n",
    "    return np.log1p(diff)\n",
    "\n",
    "# score will negate the return value of my_custom_loss_func,\n",
    "# which will be np.log(2), 0.693, given the values for X\n",
    "# and y defined below.\n",
    "from sklearn.metrics import fbeta_score, make_scorer\n",
    "score = make_scorer(my_custom_loss_func, greater_is_better=False)\n",
    "X = [[1], [1]]\n",
    "y = [0, 1]\n",
    "\n",
    "from sklearn.dummy import DummyClassifier\n",
    "clf = DummyClassifier(strategy='most_frequent', random_state=0)\n",
    "clf = clf.fit(X, y)\n",
    "my_custom_loss_func(y, clf.predict(X))\n",
    "score(clf, X, y)"
   ]
  },
  {
   "cell_type": "code",
   "execution_count": 157,
   "metadata": {},
   "outputs": [
    {
     "data": {
      "text/plain": [
       "[1.0, 1.25, 1.5, 1.75, 2.0, 2.25, 2.5, 2.75, 3.0]"
      ]
     },
     "execution_count": 157,
     "metadata": {},
     "output_type": "execute_result"
    }
   ],
   "source": [
    "[x/4. for x in range(4,13,1)]"
   ]
  },
  {
   "cell_type": "code",
   "execution_count": 158,
   "metadata": {},
   "outputs": [],
   "source": [
    "testsize = 0.3\n",
    "rstate=random.randrange(1,999999999,1)"
   ]
  },
  {
   "cell_type": "code",
   "execution_count": 159,
   "metadata": {},
   "outputs": [],
   "source": [
    "loops = glob.glob(\"pdb/*.pdb\")\n",
    "structures = dict()\n",
    "counter = 0\n",
    "count_total = len(loops)\n",
    "for loop in loops:\n",
    "    name = loop.split('/')[1].split('.pdb')[0]\n",
    "    structures[name]=np.zeros((2,2))\n",
    "    "
   ]
  },
  {
   "cell_type": "code",
   "execution_count": 176,
   "metadata": {},
   "outputs": [],
   "source": [
    "X=np.array([i for i in structures.keys()])\n",
    "y=np.array([i for i in structures.values()])\n",
    "X_train, X_test, y_train, y_test = train_test_split(X,y,test_size = testsize, random_state = rstate)"
   ]
  },
  {
   "cell_type": "code",
   "execution_count": 178,
   "metadata": {},
   "outputs": [
    {
     "data": {
      "text/plain": [
       "(5471,)"
      ]
     },
     "execution_count": 178,
     "metadata": {},
     "output_type": "execute_result"
    }
   ],
   "source": [
    "X_train.shape"
   ]
  },
  {
   "cell_type": "code",
   "execution_count": 1,
   "metadata": {},
   "outputs": [
    {
     "ename": "NameError",
     "evalue": "name 'feat_lst' is not defined",
     "output_type": "error",
     "traceback": [
      "\u001b[0;31m---------------------------------------------------------------------------\u001b[0m",
      "\u001b[0;31mNameError\u001b[0m                                 Traceback (most recent call last)",
      "\u001b[0;32m<ipython-input-1-9ba57c089b2b>\u001b[0m in \u001b[0;36m<module>\u001b[0;34m\u001b[0m\n\u001b[0;32m----> 1\u001b[0;31m \u001b[0mfeat_lst\u001b[0m\u001b[0;34m\u001b[0m\u001b[0;34m\u001b[0m\u001b[0m\n\u001b[0m",
      "\u001b[0;31mNameError\u001b[0m: name 'feat_lst' is not defined"
     ]
    }
   ],
   "source": [
    "feat_lst"
   ]
  },
  {
   "cell_type": "code",
   "execution_count": 34,
   "metadata": {},
   "outputs": [],
   "source": [
    "a = [[1,2],[3,4],[5,6]]"
   ]
  },
  {
   "cell_type": "code",
   "execution_count": 46,
   "metadata": {},
   "outputs": [],
   "source": [
    "b = np.array(a)"
   ]
  },
  {
   "cell_type": "code",
   "execution_count": 62,
   "metadata": {},
   "outputs": [],
   "source": [
    "n = 1\n",
    "nwater=None"
   ]
  },
  {
   "cell_type": "code",
   "execution_count": 63,
   "metadata": {},
   "outputs": [
    {
     "data": {
      "text/plain": [
       "array([[1, 2],\n",
       "       [3, 4],\n",
       "       [5, 6]])"
      ]
     },
     "execution_count": 63,
     "metadata": {},
     "output_type": "execute_result"
    }
   ],
   "source": [
    "b[0:nwater, 0:]"
   ]
  },
  {
   "cell_type": "code",
   "execution_count": 64,
   "metadata": {},
   "outputs": [],
   "source": [
    "from ase.io import read\n",
    "from dscribe.descriptors import CoulombMatrix\n",
    "from dscribe.descriptors import ACSF"
   ]
  },
  {
   "cell_type": "code",
   "execution_count": 65,
   "metadata": {},
   "outputs": [],
   "source": [
    "structure = read('pdb/holoCaM.loop3.water2.frame368.pdb')"
   ]
  },
  {
   "cell_type": "code",
   "execution_count": 71,
   "metadata": {},
   "outputs": [
    {
     "data": {
      "text/plain": [
       "array([0.])"
      ]
     },
     "execution_count": 71,
     "metadata": {},
     "output_type": "execute_result"
    }
   ],
   "source": [
    "structure.get_distances(1,1)"
   ]
  },
  {
   "cell_type": "code",
   "execution_count": 83,
   "metadata": {},
   "outputs": [],
   "source": [
    "la=structure[178]"
   ]
  },
  {
   "cell_type": "code",
   "execution_count": 88,
   "metadata": {},
   "outputs": [
    {
     "data": {
      "text/plain": [
       "'H'"
      ]
     },
     "execution_count": 88,
     "metadata": {},
     "output_type": "execute_result"
    }
   ],
   "source": [
    "la.symbol"
   ]
  },
  {
   "cell_type": "code",
   "execution_count": 89,
   "metadata": {},
   "outputs": [],
   "source": [
    "i=structure.get_global_number_of_atoms()\n",
    "cutoff = 4\n",
    "cutAtoms=dict()\n",
    "\n",
    "for a_index in range(i):\n",
    "    \n",
    "    atom = structure[a_index]\n",
    "    elem = atom.symbol\n",
    "    \n",
    "    if elem not in cutAtoms:\n",
    "        cutAtoms[elem]=list()\n",
    "    cutAtoms[elem].append(structure[structure.get_distances(a_index, range(i)) < cutoff])"
   ]
  },
  {
   "cell_type": "code",
   "execution_count": 129,
   "metadata": {
    "scrolled": true
   },
   "outputs": [
    {
     "name": "stdout",
     "output_type": "stream",
     "text": [
      "25\n"
     ]
    }
   ],
   "source": [
    "maxi = 0\n",
    "for i in cutAtoms['Ca']:\n",
    "    i_n = i.get_global_number_of_atoms()\n",
    "    if maxi < i_n:\n",
    "        maxi = i_n\n",
    "print(maxi)"
   ]
  },
  {
   "cell_type": "code",
   "execution_count": 138,
   "metadata": {},
   "outputs": [],
   "source": [
    "cm = CoulombMatrix(n_atoms_max=26)"
   ]
  },
  {
   "cell_type": "code",
   "execution_count": 139,
   "metadata": {},
   "outputs": [],
   "source": [
    "firstcarbon = cm.create(cutAtoms['Ca'][0])"
   ]
  },
  {
   "cell_type": "code",
   "execution_count": 163,
   "metadata": {},
   "outputs": [
    {
     "data": {
      "text/plain": [
       "(1, 676)"
      ]
     },
     "execution_count": 163,
     "metadata": {},
     "output_type": "execute_result"
    }
   ],
   "source": [
    "firstcarbon.shape"
   ]
  },
  {
   "cell_type": "code",
   "execution_count": 119,
   "metadata": {},
   "outputs": [
    {
     "data": {
      "text/plain": [
       "121"
      ]
     },
     "execution_count": 119,
     "metadata": {},
     "output_type": "execute_result"
    }
   ],
   "source": [
    "b.sum()"
   ]
  },
  {
   "cell_type": "code",
   "execution_count": 122,
   "metadata": {},
   "outputs": [],
   "source": [
    "a=dict()\n",
    "b=dict()"
   ]
  },
  {
   "cell_type": "code",
   "execution_count": 123,
   "metadata": {},
   "outputs": [],
   "source": [
    "a['h']=3\n",
    "a['i']=4"
   ]
  },
  {
   "cell_type": "code",
   "execution_count": 124,
   "metadata": {},
   "outputs": [],
   "source": [
    "b['h']=5"
   ]
  },
  {
   "cell_type": "code",
   "execution_count": 127,
   "metadata": {},
   "outputs": [
    {
     "data": {
      "text/plain": [
       "{'h': 5, 'i': 4}"
      ]
     },
     "execution_count": 127,
     "metadata": {},
     "output_type": "execute_result"
    }
   ],
   "source": [
    "{**a, **b}"
   ]
  },
  {
   "cell_type": "code",
   "execution_count": 146,
   "metadata": {},
   "outputs": [],
   "source": [
    "chg = np.genfromtxt(\"charge/holoCaM.loop3.water2.frame368.chg\")"
   ]
  },
  {
   "cell_type": "code",
   "execution_count": 153,
   "metadata": {},
   "outputs": [
    {
     "data": {
      "text/plain": [
       "array([ 6.    , -0.5989])"
      ]
     },
     "execution_count": 153,
     "metadata": {},
     "output_type": "execute_result"
    }
   ],
   "source": [
    "chg[0\n",
    "   ]"
   ]
  },
  {
   "cell_type": "code",
   "execution_count": 154,
   "metadata": {},
   "outputs": [],
   "source": [
    "c={1:3,2:4}"
   ]
  },
  {
   "cell_type": "code",
   "execution_count": 166,
   "metadata": {},
   "outputs": [
    {
     "data": {
      "text/plain": [
       "Atoms(symbols='C2OH3NCH3', pbc=False, atomtypes=..., bfactor=..., occupancy=..., residuenames=..., residuenumbers=...)"
      ]
     },
     "execution_count": 166,
     "metadata": {},
     "output_type": "execute_result"
    }
   ],
   "source": [
    "cutAtoms['C'][0]"
   ]
  },
  {
   "cell_type": "code",
   "execution_count": 162,
   "metadata": {},
   "outputs": [
    {
     "data": {
      "text/plain": [
       "(1, 676)"
      ]
     },
     "execution_count": 162,
     "metadata": {},
     "output_type": "execute_result"
    }
   ],
   "source": [
    "cm.create(cutAtoms['C'][0]).shape"
   ]
  },
  {
   "cell_type": "code",
   "execution_count": 167,
   "metadata": {},
   "outputs": [
    {
     "data": {
      "text/plain": [
       "{'h': 3, 'i': 4}"
      ]
     },
     "execution_count": 167,
     "metadata": {},
     "output_type": "execute_result"
    }
   ],
   "source": [
    "a"
   ]
  },
  {
   "cell_type": "code",
   "execution_count": 168,
   "metadata": {},
   "outputs": [
    {
     "data": {
      "text/plain": [
       "{'h': 5}"
      ]
     },
     "execution_count": 168,
     "metadata": {},
     "output_type": "execute_result"
    }
   ],
   "source": [
    "b"
   ]
  },
  {
   "cell_type": "code",
   "execution_count": 2,
   "metadata": {},
   "outputs": [],
   "source": [
    "a=np.array([1,3])"
   ]
  },
  {
   "cell_type": "code",
   "execution_count": 3,
   "metadata": {},
   "outputs": [],
   "source": [
    "b=np.array([2,4])"
   ]
  },
  {
   "cell_type": "code",
   "execution_count": 4,
   "metadata": {},
   "outputs": [],
   "source": [
    "c=np.vstack((a,b,b))"
   ]
  },
  {
   "cell_type": "code",
   "execution_count": 5,
   "metadata": {},
   "outputs": [
    {
     "data": {
      "text/plain": [
       "array([[1, 3],\n",
       "       [2, 4],\n",
       "       [2, 4]])"
      ]
     },
     "execution_count": 5,
     "metadata": {},
     "output_type": "execute_result"
    }
   ],
   "source": [
    "c"
   ]
  },
  {
   "cell_type": "code",
   "execution_count": 175,
   "metadata": {},
   "outputs": [],
   "source": [
    "d = np.vstack([a,b,b])"
   ]
  },
  {
   "cell_type": "code",
   "execution_count": 176,
   "metadata": {},
   "outputs": [
    {
     "data": {
      "text/plain": [
       "array([[1, 3],\n",
       "       [2, 4],\n",
       "       [2, 4]])"
      ]
     },
     "execution_count": 176,
     "metadata": {},
     "output_type": "execute_result"
    }
   ],
   "source": [
    "d"
   ]
  },
  {
   "cell_type": "code",
   "execution_count": 7,
   "metadata": {},
   "outputs": [
    {
     "data": {
      "text/plain": [
       "array([[1, 3],\n",
       "       [2, 4],\n",
       "       [2, 4]])"
      ]
     },
     "execution_count": 7,
     "metadata": {},
     "output_type": "execute_result"
    }
   ],
   "source": [
    "c[:,:]"
   ]
  },
  {
   "cell_type": "code",
   "execution_count": null,
   "metadata": {},
   "outputs": [],
   "source": []
  }
 ],
 "metadata": {
  "kernelspec": {
   "display_name": "Python 3",
   "language": "python",
   "name": "python3"
  },
  "language_info": {
   "codemirror_mode": {
    "name": "ipython",
    "version": 3
   },
   "file_extension": ".py",
   "mimetype": "text/x-python",
   "name": "python",
   "nbconvert_exporter": "python",
   "pygments_lexer": "ipython3",
   "version": "3.6.9"
  }
 },
 "nbformat": 4,
 "nbformat_minor": 2
}
