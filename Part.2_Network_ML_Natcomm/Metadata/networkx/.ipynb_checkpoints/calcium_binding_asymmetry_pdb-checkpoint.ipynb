{
 "cells": [
  {
   "cell_type": "code",
   "execution_count": 1,
   "metadata": {},
   "outputs": [],
   "source": [
    "from Bio.PDB import *\n",
    "import numpy as np\n",
    "import csv\n",
    "import matplotlib.pyplot as plt\n",
    "from operator import itemgetter"
   ]
  },
  {
   "cell_type": "code",
   "execution_count": 2,
   "metadata": {},
   "outputs": [],
   "source": [
    "def calc_residue_dist(residue_one, residue_two, method = \"heavy\"):\n",
    "    \"\"\"Returns the minimum distance between two residues\n",
    "    default method is between heavy atoms\n",
    "    method can be calpha, allatom\"\"\"\n",
    "    dist_ij = []\n",
    "    \n",
    "    if method == 'allatom':\n",
    "        for i in residue_one:\n",
    "            for j in residue_two:\n",
    "                r_ij = np.linalg.norm(i.coord - j.coord)\n",
    "                dist_ij.append(r_ij)\n",
    "    elif method == 'calpha':\n",
    "        for i in residue_one:\n",
    "            for j in residue_two:\n",
    "                if i.id in ['CA','OW'] and j.id in ['CA', 'OW']:\n",
    "                    r_ij = np.linalg.norm(i.coord - j.coord)\n",
    "                    dist_ij.append(r_ij)\n",
    "    else:\n",
    "    # heavy atoms\n",
    "        for i in residue_one:\n",
    "            for j in residue_two:\n",
    "                if i.mass > 12 and j.mass > 12:\n",
    "                    r_ij = np.linalg.norm(i.coord - j.coord)\n",
    "                    dist_ij.append(r_ij)\n",
    "    return min(dist_ij)\n",
    "\n",
    "def calc_dist_matrix(chain_one, chain_two, method = \"heavy\") :\n",
    "    \"\"\"Returns a matrix of minimum distances between two chains\"\"\"\n",
    "    #n_rows = len([res for res in chain_one.get_residues()])\n",
    "    n_rows = 1\n",
    "    n_cols = len([res for res in chain_two.get_residues()]) - 1\n",
    "\n",
    "    answer = np.zeros((n_rows, n_cols), np.float)\n",
    "    row = 0\n",
    "    for residue_one in chain_one.get_residues():\n",
    "        if residue_one.resname != ' CA':\n",
    "            continue\n",
    "        col = 0\n",
    "        for residue_two in chain_two.get_residues():\n",
    "            if residue_two.resname == ' CA':\n",
    "                continue\n",
    "            answer[row, col] = calc_residue_dist(residue_one, residue_two, method)\n",
    "            col = col + 1\n",
    "        row = row + 1\n",
    "    return answer"
   ]
  },
  {
   "cell_type": "code",
   "execution_count": 3,
   "metadata": {},
   "outputs": [
    {
     "name": "stdout",
     "output_type": "stream",
     "text": [
      "7800 structures processed ...\r"
     ]
    }
   ],
   "source": [
    "import glob\n",
    "import sys\n",
    "\n",
    "contact_cutoff = 3.5\n",
    "contact_method = \"heavy\"\n",
    "counter = 0\n",
    "dist_matrix = dict()\n",
    "\n",
    "allpdb = glob.glob(\"pdb/*.pdb\")\n",
    "for struct in allpdb:\n",
    "    pdb_code = struct.split('/')[1].split('.pdb')[0]\n",
    "    structure = PDBParser().get_structure(pdb_code, struct)\n",
    "    dist_matrix[pdb_code] = calc_dist_matrix(structure, structure, contact_method)[:,1:13]\n",
    "\n",
    "    counter = counter + 1\n",
    "    if counter % 100 == 0:\n",
    "        print(counter, \"structures processed ...\", end = '\\r')\n",
    "        sys.stdout.flush()"
   ]
  },
  {
   "cell_type": "code",
   "execution_count": 123,
   "metadata": {},
   "outputs": [],
   "source": [
    "pdb_name = [i_name for i_name in dist_matrix]\n",
    "X = np.array([dist_matrix[i_name][0] for i_name in pdb_name])\n",
    "\n",
    "newX = np.column_stack((X[:,0],X[:,2],X[:,4],X[:,6],X[:,9],X[:,11]))"
   ]
  },
  {
   "cell_type": "code",
   "execution_count": 124,
   "metadata": {},
   "outputs": [],
   "source": [
    "#newX = newX < contact_cutoff"
   ]
  },
  {
   "cell_type": "code",
   "execution_count": 125,
   "metadata": {},
   "outputs": [
    {
     "data": {
      "text/plain": [
       "array([[2.57823706, 4.39328337, 2.62819552, ..., 8.3107729 , 8.47310066,\n",
       "        2.49860048],\n",
       "       [2.69623733, 4.66049528, 2.656106  , ..., 9.14044762, 8.46743679,\n",
       "        2.57163668],\n",
       "       [2.66582346, 5.00185204, 2.57668853, ..., 8.46121216, 8.54036808,\n",
       "        2.66863513],\n",
       "       ...,\n",
       "       [7.67066956, 6.93903208, 2.48855472, ..., 4.95271587, 6.04980516,\n",
       "        2.7026279 ],\n",
       "       [7.84474516, 6.99567175, 2.61102009, ..., 6.43565226, 5.09269381,\n",
       "        2.62973857],\n",
       "       [2.49133444, 4.51917315, 2.50174499, ..., 8.17850018, 7.11889744,\n",
       "        2.54472256]])"
      ]
     },
     "execution_count": 125,
     "metadata": {},
     "output_type": "execute_result"
    }
   ],
   "source": [
    "X"
   ]
  },
  {
   "cell_type": "code",
   "execution_count": 140,
   "metadata": {},
   "outputs": [],
   "source": [
    "from sklearn.cluster import SpectralClustering\n",
    "\n",
    "#model = KMeans(n_clusters=5, random_state=0)\n",
    "model = SpectralClustering(n_clusters=3, assign_labels='discretize', random_state=0)\n",
    "model = model.fit(newX)"
   ]
  },
  {
   "cell_type": "code",
   "execution_count": 204,
   "metadata": {},
   "outputs": [
    {
     "ename": "AttributeError",
     "evalue": "'SpectralClustering' object has no attribute 'cluster_centers_'",
     "output_type": "error",
     "traceback": [
      "\u001b[0;31m---------------------------------------------------------------------------\u001b[0m",
      "\u001b[0;31mAttributeError\u001b[0m                            Traceback (most recent call last)",
      "\u001b[0;32m<ipython-input-204-c0ceb7eec0e5>\u001b[0m in \u001b[0;36m<module>\u001b[0;34m\u001b[0m\n\u001b[0;32m----> 1\u001b[0;31m \u001b[0mprint\u001b[0m\u001b[0;34m(\u001b[0m\u001b[0mmodel\u001b[0m\u001b[0;34m.\u001b[0m\u001b[0mcluster_centers_\u001b[0m\u001b[0;34m)\u001b[0m\u001b[0;34m\u001b[0m\u001b[0;34m\u001b[0m\u001b[0m\n\u001b[0m\u001b[1;32m      2\u001b[0m \u001b[0mpdb_name_array\u001b[0m \u001b[0;34m=\u001b[0m \u001b[0mnp\u001b[0m\u001b[0;34m.\u001b[0m\u001b[0marray\u001b[0m\u001b[0;34m(\u001b[0m\u001b[0mpdb_name\u001b[0m\u001b[0;34m)\u001b[0m\u001b[0;34m\u001b[0m\u001b[0;34m\u001b[0m\u001b[0m\n\u001b[1;32m      3\u001b[0m \u001b[0mn_bound\u001b[0m \u001b[0;34m=\u001b[0m \u001b[0mpdb_name_array\u001b[0m\u001b[0;34m[\u001b[0m\u001b[0mmodel\u001b[0m\u001b[0;34m.\u001b[0m\u001b[0mlabels_\u001b[0m\u001b[0;34m==\u001b[0m\u001b[0;36m0\u001b[0m\u001b[0;34m]\u001b[0m\u001b[0;34m\u001b[0m\u001b[0;34m\u001b[0m\u001b[0m\n\u001b[1;32m      4\u001b[0m \u001b[0mc_bound\u001b[0m \u001b[0;34m=\u001b[0m \u001b[0mpdb_name_array\u001b[0m\u001b[0;34m[\u001b[0m\u001b[0mmodel\u001b[0m\u001b[0;34m.\u001b[0m\u001b[0mlabels_\u001b[0m\u001b[0;34m==\u001b[0m\u001b[0;36m2\u001b[0m\u001b[0;34m]\u001b[0m\u001b[0;34m\u001b[0m\u001b[0;34m\u001b[0m\u001b[0m\n\u001b[1;32m      5\u001b[0m \u001b[0mholo\u001b[0m \u001b[0;34m=\u001b[0m \u001b[0mpdb_name_array\u001b[0m\u001b[0;34m[\u001b[0m\u001b[0mmodel\u001b[0m\u001b[0;34m.\u001b[0m\u001b[0mlabels_\u001b[0m\u001b[0;34m==\u001b[0m\u001b[0;36m1\u001b[0m\u001b[0;34m]\u001b[0m\u001b[0;34m\u001b[0m\u001b[0;34m\u001b[0m\u001b[0m\n",
      "\u001b[0;31mAttributeError\u001b[0m: 'SpectralClustering' object has no attribute 'cluster_centers_'"
     ]
    }
   ],
   "source": [
    "print(model.cluster_centers_)\n",
    "pdb_name_array = np.array(pdb_name)\n",
    "n_bound = pdb_name_array[model.labels_==0]\n",
    "c_bound = pdb_name_array[model.labels_==2]\n",
    "holo = pdb_name_array[model.labels_==1]"
   ]
  },
  {
   "cell_type": "code",
   "execution_count": null,
   "metadata": {},
   "outputs": [],
   "source": [
    "labels = spectral_clustering(graph, n_clusters=4, eigen_solver='arpack')\n",
    "label_im = np.full(mask.shape, -1.)\n",
    "label_im[mask] = labels\n",
    "\n",
    "plt.matshow(img)\n",
    "plt.matshow(label_im)"
   ]
  },
  {
   "cell_type": "code",
   "execution_count": 215,
   "metadata": {},
   "outputs": [
    {
     "data": {
      "text/plain": [
       "array([[2.57823706, 2.62819552, 2.68811655, 2.71758914, 8.3107729 ,\n",
       "        2.49860048],\n",
       "       [2.69623733, 2.656106  , 2.68169618, 2.61293077, 9.14044762,\n",
       "        2.57163668],\n",
       "       [2.66582346, 2.57668853, 2.54815578, 2.79515743, 8.46121216,\n",
       "        2.66863513],\n",
       "       ...,\n",
       "       [7.67066956, 2.48855472, 2.587991  , 2.88799047, 4.95271587,\n",
       "        2.7026279 ],\n",
       "       [7.84474516, 2.61102009, 2.55474544, 2.72545815, 6.43565226,\n",
       "        2.62973857],\n",
       "       [2.49133444, 2.50174499, 2.59532475, 2.67184162, 8.17850018,\n",
       "        2.54472256]])"
      ]
     },
     "execution_count": 215,
     "metadata": {},
     "output_type": "execute_result"
    }
   ],
   "source": [
    "newX"
   ]
  },
  {
   "cell_type": "code",
   "execution_count": 129,
   "metadata": {},
   "outputs": [
    {
     "data": {
      "text/plain": [
       "<matplotlib.colorbar.Colorbar at 0x7fb405c03dd8>"
      ]
     },
     "execution_count": 129,
     "metadata": {},
     "output_type": "execute_result"
    },
    {
     "data": {
      "image/png": "[encoded data removed]",
      "text/plain": [
       "<Figure size 432x288 with 2 Axes>"
      ]
     },
     "metadata": {
      "needs_background": "light"
     },
     "output_type": "display_data"
    }
   ],
   "source": [
    "import pylab\n",
    "import numpy             as np\n",
    "import matplotlib        as mpl\n",
    "import matplotlib.pyplot as plt\n",
    "\n",
    "from mpl_toolkits.axes_grid1 import make_axes_locatable\n",
    "\n",
    "# create colormap\n",
    "# ---------------\n",
    "\n",
    "# create a colormap that consists of\n",
    "# - 1/5 : custom colormap, ranging from white to the first color of the colormap\n",
    "# - 4/5 : existing colormap\n",
    "\n",
    "# set upper part: 3 * 256/3 entries\n",
    "upper = plt.cm.jet(np.arange(256))\n",
    "\n",
    "# set lower part: 1 * 256/1 entries\n",
    "# - initialize all entries to 1 to make sure that the alpha channel (4th column) is 1\n",
    "lower = np.ones((int(256/3),4))\n",
    "# - modify the first three columns (RGB):\n",
    "#   range linearly between white (1,1,1) and the first color of the upper colormap\n",
    "for i in range(3):\n",
    "  lower[:,i] = np.linspace(1, upper[0,i], lower.shape[0])\n",
    "\n",
    "base = np.ones((int(256/3),4))\n",
    "# combine parts of colormap\n",
    "cmap = np.vstack((base, lower))\n",
    "cmap = np.vstack((cmap, upper))\n",
    "\n",
    "# convert to matplotlib colormap\n",
    "cmap = mpl.colors.ListedColormap(cmap, name='myColorMap', N=cmap.shape[0])\n",
    "\n",
    "\n",
    "plot = pylab.imshow(dist_matrix[pdb_code], cmap=cmap.reversed())\n",
    "pylab.colorbar()\n",
    "#pylab.show()\n"
   ]
  },
  {
   "cell_type": "code",
   "execution_count": 130,
   "metadata": {},
   "outputs": [
    {
     "data": {
      "image/png": "[encoded data removed]",
      "text/plain": [
       "<Figure size 432x288 with 10 Axes>"
      ]
     },
     "metadata": {
      "needs_background": "light"
     },
     "output_type": "display_data"
    }
   ],
   "source": [
    "ax = plt.subplot(10,1,1)\n",
    "pylab.imshow(dist_matrix[n_bound[0]], cmap=cmap.reversed())\n",
    "plt.setp(ax.get_yticklabels(), visible=False)\n",
    "\n",
    "\n",
    "for i in range(1,10):\n",
    "    ax = plt.subplot(10,1,i+1, sharex=ax)\n",
    "    pylab.imshow(dist_matrix[n_bound[i]], cmap=cmap.reversed())\n",
    "    plt.setp(ax.get_xticklabels(), fontsize=6, visible=False)\n",
    "    plt.setp(ax.get_yticklabels(), visible=False)\n",
    "\n",
    "plt.setp(ax.get_xticklabels(),fontsize=6)\n",
    "\n",
    "plt.show()"
   ]
  },
  {
   "cell_type": "code",
   "execution_count": 131,
   "metadata": {},
   "outputs": [
    {
     "name": "stdout",
     "output_type": "stream",
     "text": [
      "[[ 2.57316351  7.54887009 11.06602287 11.30436039 13.29594994 14.52434444\n",
      "  15.30049229 14.20135975 10.9215107   6.4901557   8.06156731  2.5692606 ]]\n",
      "[[ 2.56740761  7.84978151 10.58069706  9.99797058 10.67103291 12.8427124\n",
      "  13.22276211 10.82352161  5.38248062  4.51296377  7.24481678  2.59454441]]\n",
      "[[ 8.14170837  7.5762639   2.78836894  5.75064135  7.04619598  9.86667728\n",
      "  12.42406082  9.5982542   8.96481991  9.60638046  5.8354249   2.47977948]]\n",
      "[[ 2.59971189  7.47041988 10.83345318 10.31788826 10.22638798 12.79691124\n",
      "  13.12870216 10.61130047  5.26304674  5.33027792  7.61052179  2.56122303]]\n",
      "[[ 8.1111908   7.95628595  2.5927031   6.9795413   4.50398827  8.95512104\n",
      "  11.08505821  7.24658489  2.77863312  7.15791225  8.13855648  2.65787506]]\n",
      "[[ 6.98950243  6.87165403  2.58275509  6.32007313  7.94233799 10.70404243\n",
      "  11.23813725  7.52738571  2.71343398  6.58923626  7.50830364  2.6383934 ]]\n",
      "[[ 2.55245018  7.91407919 11.28110027 12.79602718 14.30808163 16.68045807\n",
      "  17.64393616 15.37971115 10.22500038  7.67997694  9.35031414  2.50818777]]\n",
      "[[ 2.60122919  7.71080923 10.95597649 10.67100906 12.15020943 13.95496273\n",
      "  14.26467419 12.41915417  6.57023287  3.76880217  9.31404591  2.51041269]]\n",
      "[[ 2.65106082  7.70734549 11.05840874 11.08429432 12.74689579 14.27843285\n",
      "  14.90341568 13.18785381  9.75507545  4.248806    8.79897881  2.53145814]]\n"
     ]
    },
    {
     "data": {
      "image/png": "[encoded data removed]",
      "text/plain": [
       "<Figure size 432x288 with 10 Axes>"
      ]
     },
     "metadata": {
      "needs_background": "light"
     },
     "output_type": "display_data"
    }
   ],
   "source": [
    "ax = plt.subplot(10,1,1)\n",
    "pylab.imshow(dist_matrix[c_bound[0]], cmap=cmap.reversed())\n",
    "plt.setp(ax.get_yticklabels(), visible=False)\n",
    "\n",
    "\n",
    "for i in range(1,10):\n",
    "    ax = plt.subplot(10,1,i+1, sharex=ax)\n",
    "    pylab.imshow(dist_matrix[c_bound[i]], cmap=cmap.reversed())\n",
    "    plt.setp(ax.get_xticklabels(), fontsize=6, visible=False)\n",
    "    plt.setp(ax.get_yticklabels(), visible=False)\n",
    "    print(dist_matrix[c_bound[i]])\n",
    "\n",
    "plt.setp(ax.get_xticklabels(),fontsize=6)\n",
    "\n",
    "plt.show()"
   ]
  },
  {
   "cell_type": "code",
   "execution_count": 132,
   "metadata": {},
   "outputs": [
    {
     "data": {
      "image/png": "[encoded data removed]",
      "text/plain": [
       "<Figure size 432x288 with 10 Axes>"
      ]
     },
     "metadata": {
      "needs_background": "light"
     },
     "output_type": "display_data"
    }
   ],
   "source": [
    "ax = plt.subplot(10,1,1)\n",
    "pylab.imshow(dist_matrix[holo[0]], cmap=cmap.reversed())\n",
    "plt.setp(ax.get_yticklabels(), visible=False)\n",
    "\n",
    "\n",
    "for i in range(1,10):\n",
    "    ax = plt.subplot(10,1,i+1, sharex=ax)\n",
    "    pylab.imshow(dist_matrix[holo[i]], cmap=cmap.reversed())\n",
    "    plt.setp(ax.get_xticklabels(), fontsize=6, visible=False)\n",
    "    plt.setp(ax.get_yticklabels(), visible=False)\n",
    "\n",
    "plt.setp(ax.get_xticklabels(),fontsize=6)\n",
    "\n",
    "plt.show()"
   ]
  },
  {
   "cell_type": "code",
   "execution_count": 133,
   "metadata": {},
   "outputs": [
    {
     "name": "stdout",
     "output_type": "stream",
     "text": [
      "1170 942 5705\n"
     ]
    }
   ],
   "source": [
    "print(len(n_bound),len(c_bound),len(holo))"
   ]
  },
  {
   "cell_type": "code",
   "execution_count": null,
   "metadata": {},
   "outputs": [],
   "source": [
    "n_temp = np.array([[1,0,1,0,1,0,1,0,0,0,0,0]])\n",
    "c_temp = np.array([[0,0,0,0,0,0,0,0,1,0,0,1]])"
   ]
  },
  {
   "cell_type": "code",
   "execution_count": 180,
   "metadata": {},
   "outputs": [],
   "source": [
    "\n",
    "plot_y = np.zeros((1, 12), np.float)\n",
    "for i in dist_matrix:\n",
    "    check = dist_matrix[i]<5\n",
    "    temp = n_temp+c_temp\n",
    "    plot_y += temp*check\n",
    "\n",
    "plot_y /= len(dist_matrix)"
   ]
  },
  {
   "cell_type": "code",
   "execution_count": 198,
   "metadata": {},
   "outputs": [
    {
     "data": {
      "image/png": "[encoded data removed]",
      "text/plain": [
       "<Figure size 432x288 with 2 Axes>"
      ]
     },
     "metadata": {
      "needs_background": "light"
     },
     "output_type": "display_data"
    }
   ],
   "source": [
    "_=pylab.imshow(plot_y, cmap='bone_r')\n",
    "pylab.colorbar()\n",
    "pylab.savefig('ave_calcium_contact.eps', format='eps')"
   ]
  },
  {
   "cell_type": "code",
   "execution_count": 162,
   "metadata": {},
   "outputs": [],
   "source": [
    "asym = []\n",
    "weight = np.array([[1,0,1,0,1,0,1,0,1,0,0,2]])\n",
    "\n",
    "for i in dist_matrix:\n",
    "    check = dist_matrix[i]<5\n",
    "    n_co = np.inner(n_temp[check], weight[check])\n",
    "    c_co = np.inner(c_temp[check], weight[check])\n",
    "    total_co = np.inner(n_temp + c_temp, weight)[0,0]\n",
    "    fn = n_co / total_co\n",
    "    fc = c_co / total_co \n",
    "    sigma = (fn-fc)/(fn+fc)\n",
    "    asym.append((i, fn+fc, sigma))\n",
    "\n",
    "as_matrix = np.array(asym, dtype=[(\"name\", np.unicode_, 40), (\"net contact fraction\", np.float64), (\"asymmetry\", np.float64)])\n"
   ]
  },
  {
   "cell_type": "code",
   "execution_count": 164,
   "metadata": {},
   "outputs": [],
   "source": [
    "as_matrix = pd.DataFrame(as_matrix)"
   ]
  },
  {
   "cell_type": "code",
   "execution_count": 221,
   "metadata": {},
   "outputs": [
    {
     "data": {
      "image/png": "[encoded data removed]",
      "text/plain": [
       "<Figure size 432x288 with 1 Axes>"
      ]
     },
     "metadata": {},
     "output_type": "display_data"
    },
    {
     "data": {
      "image/png": "[encoded data removed]",
      "text/plain": [
       "<Figure size 432x288 with 1 Axes>"
      ]
     },
     "metadata": {},
     "output_type": "display_data"
    }
   ],
   "source": [
    "plt.scatter(as_matrix['net contact fraction'], as_matrix['asymmetry'], marker='o')\n",
    "plt.show()\n",
    "\n",
    "import seaborn as sns\n",
    "# set seaborn style\n",
    "sns.set_style(\"white\")\n",
    "x=as_matrix['net contact fraction']\n",
    "y=as_matrix['asymmetry']\n",
    "data = np.column_stack((x,y))\n",
    "# Basic 2D density plot\n",
    "sns.kdeplot(data,shade=True)\n",
    "plt.show()\n"
   ]
  },
  {
   "cell_type": "code",
   "execution_count": 245,
   "metadata": {},
   "outputs": [],
   "source": [
    "y = as_matrix['asymmetry']\n",
    "x = as_matrix['net contact fraction']\n",
    "holo = list()\n",
    "\n",
    "for i in range(len(as_matrix)):\n",
    "    #print(np.abs(x[i]-1), np.abs(y[i]))\n",
    "    if np.abs(x[i]-1)<0.15 and np.abs(y[i])<0.2:\n",
    "        holo.append(as_matrix['name'][i])"
   ]
  },
  {
   "cell_type": "code",
   "execution_count": 248,
   "metadata": {},
   "outputs": [
    {
     "data": {
      "text/plain": [
       "3014"
      ]
     },
     "execution_count": 248,
     "metadata": {},
     "output_type": "execute_result"
    }
   ],
   "source": [
    "len(holo)"
   ]
  },
  {
   "cell_type": "code",
   "execution_count": 249,
   "metadata": {},
   "outputs": [],
   "source": [
    "\n",
    "with open(\"holo_pdb.txt\", \"w\") as f:\n",
    "    for item in holo:\n",
    "        f.write(\"%s\\n\" % item)"
   ]
  },
  {
   "cell_type": "code",
   "execution_count": null,
   "metadata": {},
   "outputs": [],
   "source": []
  }
 ],
 "metadata": {
  "kernelspec": {
   "display_name": "Python [conda env:h2o] *",
   "language": "python",
   "name": "conda-env-h2o-py"
  },
  "language_info": {
   "codemirror_mode": {
    "name": "ipython",
    "version": 3
   },
   "file_extension": ".py",
   "mimetype": "text/x-python",
   "name": "python",
   "nbconvert_exporter": "python",
   "pygments_lexer": "ipython3",
   "version": "3.6.9"
  }
 },
 "nbformat": 4,
 "nbformat_minor": 2
}
