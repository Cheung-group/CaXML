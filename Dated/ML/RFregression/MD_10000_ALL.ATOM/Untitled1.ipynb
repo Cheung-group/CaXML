{
 "cells": [
  {
   "cell_type": "code",
   "execution_count": 1,
   "metadata": {},
   "outputs": [],
   "source": [
    "import pandas as pd\n",
    "import numpy as np\n",
    "\n",
    "import glob\n",
    "from ase.io import read\n",
    "from dscribe.descriptors import ACSF\n",
    "\n",
    "import matplotlib as mpl\n",
    "import matplotlib.pyplot as plt\n",
    "import matplotlib.colors as colors\n",
    "from mpl_toolkits.axes_grid1 import make_axes_locatable\n",
    "from matplotlib.ticker import (MultipleLocator, AutoMinorLocator)\n",
    "import pylab as pl\n",
    "\n",
    "\n",
    "import random\n",
    "import sys\n",
    "\n",
    "from sklearn import datasets\n",
    "from sklearn.model_selection import train_test_split\n",
    "from sklearn import metrics\n",
    "\n",
    "from pandas import set_option\n",
    "pd.options.mode.chained_assignment = None\n",
    "\n",
    "from sklearn import preprocessing\n",
    "from sklearn.neural_network import MLPClassifier\n",
    "from sklearn.metrics import confusion_matrix\n",
    "from scipy.stats import truncnorm\n",
    "from sklearn.ensemble import RandomForestClassifier\n",
    "from sklearn.ensemble import RandomForestRegressor\n",
    "from sklearn.model_selection import cross_val_score\n",
    "from sklearn.metrics import mean_absolute_error, r2_score, mean_squared_error"
   ]
  },
  {
   "cell_type": "code",
   "execution_count": 19,
   "metadata": {},
   "outputs": [],
   "source": [
    "name = 'apoCaM-CA-Ng.loop3.water4.frame40'\n",
    "pdb_file = name+'.pdb'\n",
    "chg_file = name + '.chg'\n",
    "structure = read(\"pdb/\"+pdb_file)\n",
    "feat_lst=[]\n",
    "num=structure.get_global_number_of_atoms()\n",
    "atomPos = [x for x in range(0,num)]\n",
    "\n",
    "chg=np.genfromtxt(\"charge/\"+chg_file)\n",
    "\n",
    "\n",
    "# Setting up the ACSF descriptor\n",
    "for r_cut in [6.0]:\n",
    "    acsf = ACSF(\n",
    "        species=[\"C\", \"H\", \"O\", \"N\", \"Ca\"],\n",
    "        rcut=r_cut,\n",
    "        g2_params=[[0.0001,0]],\n",
    "    )\n",
    "\n",
    "onlyg2 = acsf.create(structure,positions=atomPos,n_jobs=4)\n",
    "\n",
    "acsf_ang = ACSF(\n",
    "    species=[\"C\", \"H\", \"O\", \"N\", \"Ca\"],\n",
    "    rcut=6.0,\n",
    "    g4_params=[[0.0001,0.5,-1]],\n",
    ")\n",
    "\n",
    "onlyg4 = acsf_ang.create(structure,positions=atomPos,n_jobs=4)\n"
   ]
  },
  {
   "cell_type": "code",
   "execution_count": 20,
   "metadata": {},
   "outputs": [
    {
     "data": {
      "text/plain": [
       "array([[4.6984415 , 4.6953154 , 1.8370903 , ..., 1.0722741 , 0.        ,\n",
       "        0.        ],\n",
       "       [5.9964924 , 5.9913335 , 3.4576583 , ..., 1.8980758 , 0.        ,\n",
       "        0.        ],\n",
       "       [6.086594  , 6.080134  , 4.908716  , ..., 1.2281281 , 0.        ,\n",
       "        0.        ],\n",
       "       ...,\n",
       "       [3.5650806 , 3.5627358 , 0.5433005 , ..., 2.4018583 , 0.58264303,\n",
       "        0.5822238 ],\n",
       "       [2.0980828 , 2.0958838 , 0.5421028 , ..., 2.7594974 , 0.4422125 ,\n",
       "        0.44175386],\n",
       "       [2.1727443 , 2.170898  , 0.25211582, ..., 2.51684   , 0.37936074,\n",
       "        0.37890542]], dtype=float32)"
      ]
     },
     "execution_count": 20,
     "metadata": {},
     "output_type": "execute_result"
    }
   ],
   "source": [
    "onlyg2"
   ]
  },
  {
   "cell_type": "code",
   "execution_count": 21,
   "metadata": {},
   "outputs": [
    {
     "data": {
      "text/plain": [
       "array([[4.6984415 , 1.8370903 , 0.87384135, ..., 0.        , 0.        ,\n",
       "        0.        ],\n",
       "       [5.9964924 , 3.4576583 , 1.5705079 , ..., 0.        , 0.        ,\n",
       "        0.        ],\n",
       "       [6.086594  , 4.908716  , 1.7775744 , ..., 0.        , 0.        ,\n",
       "        0.        ],\n",
       "       ...,\n",
       "       [3.5650806 , 0.5433005 , 0.        , ..., 0.        , 0.69083273,\n",
       "        0.        ],\n",
       "       [2.0980828 , 0.5421028 , 0.        , ..., 0.        , 0.561925  ,\n",
       "        0.        ],\n",
       "       [2.1727443 , 0.25211582, 0.        , ..., 0.        , 0.3663049 ,\n",
       "        0.        ]], dtype=float32)"
      ]
     },
     "execution_count": 21,
     "metadata": {},
     "output_type": "execute_result"
    }
   ],
   "source": [
    "onlyg4"
   ]
  },
  {
   "cell_type": "code",
   "execution_count": 23,
   "metadata": {},
   "outputs": [
    {
     "data": {
      "text/plain": [
       "array([[0.87384135, 1.0735173 , 0.        , ..., 0.        , 0.        ,\n",
       "        0.        ],\n",
       "       [1.5705079 , 1.8999021 , 0.        , ..., 0.        , 0.        ,\n",
       "        0.        ],\n",
       "       [1.7775744 , 1.2301179 , 0.        , ..., 0.        , 0.        ,\n",
       "        0.        ],\n",
       "       ...,\n",
       "       [0.        , 2.404673  , 0.58264303, ..., 0.        , 0.69083273,\n",
       "        0.        ],\n",
       "       [0.        , 2.761958  , 0.4422125 , ..., 0.        , 0.561925  ,\n",
       "        0.        ],\n",
       "       [0.        , 2.5191047 , 0.37936074, ..., 0.        , 0.3663049 ,\n",
       "        0.        ]], dtype=float32)"
      ]
     },
     "execution_count": 23,
     "metadata": {},
     "output_type": "execute_result"
    }
   ],
   "source": [
    "onlyg4[:,2:]"
   ]
  },
  {
   "cell_type": "code",
   "execution_count": 24,
   "metadata": {},
   "outputs": [
    {
     "name": "stdout",
     "output_type": "stream",
     "text": [
      "[[8.4861797e-01 9.3706870e-01 0.0000000e+00 0.0000000e+00 0.0000000e+00\n",
      "  0.0000000e+00 1.9852765e-02 1.7748473e-02 2.3537816e-03 2.4948895e-04\n",
      "  0.0000000e+00 0.0000000e+00 0.0000000e+00 0.0000000e+00]]\n",
      "(1, 14)\n"
     ]
    }
   ],
   "source": [
    "from dscribe.descriptors import ACSF\n",
    "\n",
    "# Setting up the ACSF descriptor\n",
    "acsf = ACSF(\n",
    "    species=[\"H\", \"O\"],\n",
    "    rcut=6.0,\n",
    "    #g2_params=[[1, 1], [1, 2], [1, 3]],\n",
    "    g4_params=[[1, 1, 1], [1, 2, 1], [1, 1, -1], [1, 2, -1]],\n",
    ")\n",
    "\n",
    "from ase.build import molecule\n",
    "\n",
    "water = molecule(\"H2O\")\n",
    "\n",
    "# Create MBTR output for the hydrogen atom at index 1\n",
    "acsf_water = acsf.create(water, positions=[1])\n",
    "\n",
    "print(acsf_water)\n",
    "print(acsf_water.shape)"
   ]
  },
  {
   "cell_type": "code",
   "execution_count": null,
   "metadata": {},
   "outputs": [],
   "source": [
    "[[0.848618   0.9370687  0.         0.01985276 0.        ]]\n"
   ]
  }
 ],
 "metadata": {
  "kernelspec": {
   "display_name": "Python [conda env:h2o] *",
   "language": "python",
   "name": "conda-env-h2o-py"
  },
  "language_info": {
   "codemirror_mode": {
    "name": "ipython",
    "version": 3
   },
   "file_extension": ".py",
   "mimetype": "text/x-python",
   "name": "python",
   "nbconvert_exporter": "python",
   "pygments_lexer": "ipython3",
   "version": "3.6.9"
  }
 },
 "nbformat": 4,
 "nbformat_minor": 2
}
