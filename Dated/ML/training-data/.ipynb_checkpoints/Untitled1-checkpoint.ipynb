{
 "cells": [
  {
   "cell_type": "code",
   "execution_count": 1,
   "metadata": {},
   "outputs": [
    {
     "data": {
      "text/plain": [
       "6"
      ]
     },
     "execution_count": 1,
     "metadata": {},
     "output_type": "execute_result"
    }
   ],
   "source": [
    " from Bio.PDB import *\n",
    " import glob\n",
    " CaMKII = glob.glob(\"input.loop3/CaMKII_loop3_*.pdb\")\n",
    " holoCaM = glob.glob(\"input.loop3/holoCaM_loop3_*.pdb\")\n",
    " Ng=glob.glob(\"input.loop3/Ng-*_loop3_*.pdb\")\n",
    " loop3Size = 176\n",
    "\n",
    " files = glob.glob(\"output.loop3/*.txt\")\n",
    " charge = dict()\n",
    " for chgFile in files:\n",
    "     prot = chgFile.split('/')[1].split('.')[1]\n",
    "     with open(chgFile,\"r\") as file1:\n",
    "         for line in file1:\n",
    "             line = line.strip().split()\n",
    "             charge[(prot,line[0])] = line[1]\n",
    "\n",
    " output = open(\"distData.txt\", 'w+')\n",
    "\n",
    "\n",
    " def count(gen):\n",
    "     return sum(1 for _ in gen.get_atoms())\n",
    "\n",
    " parser = PDBParser()\n",
    " structure = parser.get_structure('loop3', 'input.loop3/CaMKII_loop3_0.0.pdb')\n",
    " if count(structure) != loop3Size:\n",
    "     print(\"Error in atom number!\\n\")\n",
    "     raise SystemExit(1)\n",
    "\n",
    " for i in structure.get_atoms():\n",
    "     if i.parent.get_resname() == ' CA':\n",
    "         calAtom = i\n",
    "\n",
    " for j in structure.get_atoms():\n",
    "     if i.parent.get_resname() == 'SOL':\n",
    "         OWAtom = i\n",
    "\n",
    " for i in structure.get_residues():\n",
    "     resid = i.get_id()[1]\n",
    "     if resid > 92 and resid < 105:\n",
    "         for j in i.get_atoms():\n",
    "             if j.mass > 1.1:\n",
    "                 par = j.name + '-' + str(resid) + '-' + 'Ca'\n",
    "                 output.write(\"%s,\" % par)\n",
    " output.write(\"Cachg\\n\")\n"
   ]
  },
  {
   "cell_type": "code",
   "execution_count": 10,
   "metadata": {},
   "outputs": [
    {
     "name": "stdout",
     "output_type": "stream",
     "text": [
      "<Residue SOL het=  resseq=200 icode= >\n"
     ]
    },
    {
     "data": {
      "text/plain": [
       "<map at 0x7f404083b588>"
      ]
     },
     "execution_count": 10,
     "metadata": {},
     "output_type": "execute_result"
    }
   ],
   "source": [
    "\n",
    "map(print(i),[ i in structure.get_residues()])\n"
   ]
  },
  {
   "cell_type": "code",
   "execution_count": 11,
   "metadata": {},
   "outputs": [
    {
     "name": "stdout",
     "output_type": "stream",
     "text": [
      "<Residue PHE het=  resseq=92 icode= >\n",
      "<Residue ASP het=  resseq=93 icode= >\n",
      "<Residue LYS het=  resseq=94 icode= >\n",
      "<Residue ASP het=  resseq=95 icode= >\n",
      "<Residue GLY het=  resseq=96 icode= >\n",
      "<Residue ASN het=  resseq=97 icode= >\n",
      "<Residue GLY het=  resseq=98 icode= >\n",
      "<Residue TYR het=  resseq=99 icode= >\n",
      "<Residue ILE het=  resseq=100 icode= >\n",
      "<Residue SER het=  resseq=101 icode= >\n",
      "<Residue ALA het=  resseq=102 icode= >\n",
      "<Residue ALA het=  resseq=103 icode= >\n",
      "<Residue GLU het=  resseq=104 icode= >\n",
      "<Residue LEU het=  resseq=105 icode= >\n",
      "<Residue  CA het=  resseq=176 icode= >\n",
      "<Residue SOL het=  resseq=200 icode= >\n"
     ]
    }
   ],
   "source": [
    "for i in structure.get_residues():\n",
    "    print(i)"
   ]
  },
  {
   "cell_type": "code",
   "execution_count": 13,
   "metadata": {},
   "outputs": [
    {
     "data": {
      "text/plain": [
       "'SOL'"
      ]
     },
     "execution_count": 13,
     "metadata": {},
     "output_type": "execute_result"
    }
   ],
   "source": [
    "i.get_resname()"
   ]
  },
  {
   "cell_type": "code",
   "execution_count": 17,
   "metadata": {},
   "outputs": [
    {
     "data": {
      "text/plain": [
       "array([84.38, 46.96, 13.82], dtype=float32)"
      ]
     },
     "execution_count": 17,
     "metadata": {},
     "output_type": "execute_result"
    }
   ],
   "source": [
    "i.child_list[0].get_coord()"
   ]
  },
  {
   "cell_type": "code",
   "execution_count": 19,
   "metadata": {},
   "outputs": [
    {
     "name": "stdout",
     "output_type": "stream",
     "text": [
      "<Atom OW>\n",
      "<Atom HW1>\n",
      "<Atom HW2>\n"
     ]
    }
   ],
   "source": [
    "for j in i.get_iterator():\n",
    "    print(j)"
   ]
  },
  {
   "cell_type": "code",
   "execution_count": 21,
   "metadata": {},
   "outputs": [
    {
     "name": "stdout",
     "output_type": "stream",
     "text": [
      "<Model id=0>\n"
     ]
    }
   ],
   "source": [
    "for j in structure.get_iterator():\n",
    "    print(j)"
   ]
  },
  {
   "cell_type": "code",
   "execution_count": null,
   "metadata": {},
   "outputs": [],
   "source": []
  }
 ],
 "metadata": {
  "kernelspec": {
   "display_name": "Python [conda env:h2o] *",
   "language": "python",
   "name": "conda-env-h2o-py"
  },
  "language_info": {
   "codemirror_mode": {
    "name": "ipython",
    "version": 3
   },
   "file_extension": ".py",
   "mimetype": "text/x-python",
   "name": "python",
   "nbconvert_exporter": "python",
   "pygments_lexer": "ipython3",
   "version": "3.6.9"
  }
 },
 "nbformat": 4,
 "nbformat_minor": 2
}
