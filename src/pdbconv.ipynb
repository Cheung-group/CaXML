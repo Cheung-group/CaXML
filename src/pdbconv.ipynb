{
 "cells": [
  {
   "cell_type": "code",
   "execution_count": 1,
   "metadata": {},
   "outputs": [],
   "source": [
    "from Bio.PDB import PDBParser, PDBIO, Select"
   ]
  },
  {
   "cell_type": "code",
   "execution_count": null,
   "metadata": {},
   "outputs": [],
   "source": [
    "structure = PDBParser().get_structure('6q02', 'CaBP_PDB/out_5cpv.pdb_match_4.pdb')\n",
    "io=PDBIO()\n",
    "io.set_structure(structure)\n",
    "io.save(\"bio-pdb-pdbio-out.pdb\")"
   ]
  },
  {
   "cell_type": "code",
   "execution_count": 2,
   "metadata": {},
   "outputs": [
    {
     "data": {
      "text/plain": [
       "Atoms(symbols='C55H91N15O27', pbc=False, atomtypes=..., bfactor=..., occupancy=..., residuenames=..., residuenumbers=...)"
      ]
     },
     "execution_count": 2,
     "metadata": {},
     "output_type": "execute_result"
    }
   ],
   "source": [
    "from ase.io import read\n",
    "st = read('../Scripts_for_manuscript_figures/representative_loop_structures/loop3.cluster145.pdb', format='proteindatabank')\n",
    "st"
   ]
  },
  {
   "cell_type": "code",
   "execution_count": 6,
   "metadata": {},
   "outputs": [],
   "source": [
    "del st"
   ]
  },
  {
   "cell_type": "code",
   "execution_count": 7,
   "metadata": {},
   "outputs": [
    {
     "ename": "NameError",
     "evalue": "name 'st' is not defined",
     "output_type": "error",
     "traceback": [
      "\u001b[0;31m---------------------------------------------------------------------------\u001b[0m",
      "\u001b[0;31mNameError\u001b[0m                                 Traceback (most recent call last)",
      "\u001b[1;32m/home/pengzhi/calML/src/pdbconv.ipynb Cell 5\u001b[0m line \u001b[0;36m1\n\u001b[0;32m----> <a href='vscode-notebook-cell:/home/pengzhi/calML/src/pdbconv.ipynb#X15sZmlsZQ%3D%3D?line=0'>1</a>\u001b[0m st\n",
      "\u001b[0;31mNameError\u001b[0m: name 'st' is not defined"
     ]
    }
   ],
   "source": [
    "st"
   ]
  },
  {
   "cell_type": "code",
   "execution_count": 96,
   "metadata": {},
   "outputs": [],
   "source": [
    "from symmetry_funcs import Structure\n",
    "st = Structure(\"./pymol_out_5h0p.pdb_match_39.pdb\")"
   ]
  },
  {
   "cell_type": "code",
   "execution_count": 3,
   "metadata": {},
   "outputs": [],
   "source": [
    "st.calc_sym()"
   ]
  },
  {
   "cell_type": "code",
   "execution_count": 99,
   "metadata": {},
   "outputs": [],
   "source": [
    "st1 = read('pymol_out_5h0p.pdb_match_39.pdb')"
   ]
  },
  {
   "cell_type": "code",
   "execution_count": 103,
   "metadata": {},
   "outputs": [],
   "source": [
    "pos = np.where(st1.get_array('residuenames') == ' CA ')"
   ]
  },
  {
   "cell_type": "code",
   "execution_count": 108,
   "metadata": {},
   "outputs": [
    {
     "data": {
      "text/plain": [
       "Atoms(symbols='C55N15O27', pbc=False, atomtypes=..., bfactor=..., occupancy=..., residuenames=..., residuenumbers=...)"
      ]
     },
     "execution_count": 108,
     "metadata": {},
     "output_type": "execute_result"
    }
   ],
   "source": [
    "st[st.get_atomic_numbers() > 1]"
   ]
  },
  {
   "cell_type": "code",
   "execution_count": 66,
   "metadata": {},
   "outputs": [
    {
     "ename": "AttributeError",
     "evalue": "'Atoms' object has no attribute 'set_atomtypes'",
     "output_type": "error",
     "traceback": [
      "\u001b[0;31m---------------------------------------------------------------------------\u001b[0m",
      "\u001b[0;31mAttributeError\u001b[0m                            Traceback (most recent call last)",
      "\u001b[1;32m/home/pengzhi/calML/src/pdbconv.ipynb Cell 16\u001b[0m line \u001b[0;36m2\n\u001b[1;32m      <a href='vscode-notebook-cell:/home/pengzhi/calML/src/pdbconv.ipynb#X24sZmlsZQ%3D%3D?line=0'>1</a>\u001b[0m st[st\u001b[39m.\u001b[39mget_array(\u001b[39m'\u001b[39m\u001b[39mresiduenames\u001b[39m\u001b[39m'\u001b[39m) \u001b[39m==\u001b[39m \u001b[39m'\u001b[39m\u001b[39m CA \u001b[39m\u001b[39m'\u001b[39m]\u001b[39m.\u001b[39mset_atomic_numbers([\u001b[39m20\u001b[39m])\n\u001b[0;32m----> <a href='vscode-notebook-cell:/home/pengzhi/calML/src/pdbconv.ipynb#X24sZmlsZQ%3D%3D?line=1'>2</a>\u001b[0m st[st\u001b[39m.\u001b[39;49mget_array(\u001b[39m'\u001b[39;49m\u001b[39mresiduenames\u001b[39;49m\u001b[39m'\u001b[39;49m) \u001b[39m==\u001b[39;49m \u001b[39m'\u001b[39;49m\u001b[39m CA \u001b[39;49m\u001b[39m'\u001b[39;49m]\u001b[39m.\u001b[39;49mset_atomtypes([\u001b[39m'\u001b[39m\u001b[39mCa\u001b[39m\u001b[39m'\u001b[39m])\n",
      "\u001b[0;31mAttributeError\u001b[0m: 'Atoms' object has no attribute 'set_atomtypes'"
     ]
    }
   ],
   "source": [
    "st[st.get_array('residuenames') == ' CA '].set_atomic_numbers([20])\n",
    "st[st.get_array('residuenames') == ' CA '].set_atomtypes(['Ca'])"
   ]
  },
  {
   "cell_type": "code",
   "execution_count": 82,
   "metadata": {},
   "outputs": [],
   "source": [
    "calcium = st[st.get_array('residuenames') == ' CA ']\n",
    "\n",
    "calcium.set_atomic_numbers([20])\n"
   ]
  },
  {
   "cell_type": "code",
   "execution_count": null,
   "metadata": {},
   "outputs": [],
   "source": []
  }
 ],
 "metadata": {
  "kernelspec": {
   "display_name": "calML",
   "language": "python",
   "name": "python3"
  },
  "language_info": {
   "codemirror_mode": {
    "name": "ipython",
    "version": 3
   },
   "file_extension": ".py",
   "mimetype": "text/x-python",
   "name": "python",
   "nbconvert_exporter": "python",
   "pygments_lexer": "ipython3",
   "version": "3.8.18"
  }
 },
 "nbformat": 4,
 "nbformat_minor": 2
}
