{
 "cells": [
  {
   "cell_type": "code",
   "execution_count": 1,
   "metadata": {},
   "outputs": [],
   "source": [
    "from Bio.PDB import *\n",
    "import numpy as np\n",
    "import csv\n",
    "import matplotlib.pyplot as plt\n",
    "from operator import itemgetter\n",
    "import networkx as nx"
   ]
  },
  {
   "cell_type": "code",
   "execution_count": 2,
   "metadata": {},
   "outputs": [],
   "source": [
    "def calc_residue_dist(residue_one, residue_two, method = \"heavy\"):\n",
    "    \"\"\"Returns the minimum distance between two residues\n",
    "    default method is between heavy atoms\n",
    "    method can be calpha, allatom\"\"\"\n",
    "    dist_ij = []\n",
    "    \n",
    "    if method == 'allatom':\n",
    "        for i in residue_one:\n",
    "            for j in residue_two:\n",
    "                r_ij = np.linalg.norm(i.coord - j.coord)\n",
    "                dist_ij.append(r_ij)\n",
    "    elif method == 'calpha':\n",
    "        for i in residue_one:\n",
    "            for j in residue_two:\n",
    "                if i.id in ['CA','OW'] and j.id in ['CA', 'OW']:\n",
    "                    r_ij = np.linalg.norm(i.coord - j.coord)\n",
    "                    dist_ij.append(r_ij)\n",
    "    else:\n",
    "        for i in residue_one:\n",
    "            for j in residue_two:\n",
    "                if i.mass > 12 and j.mass > 12:\n",
    "                    r_ij = np.linalg.norm(i.coord - j.coord)\n",
    "                    dist_ij.append(r_ij)\n",
    "    return min(dist_ij)\n",
    "\n",
    "def calc_dist_matrix(chain_one, chain_two, method = \"heavy\") :\n",
    "    \"\"\"Returns a matrix of minimum distances between two chains\"\"\"\n",
    "    n_rows = len([res for res in chain_one.get_residues()])\n",
    "    n_cols = len([res for res in chain_two.get_residues()])\n",
    "\n",
    "    answer = np.zeros((n_rows, n_cols), np.float)\n",
    "    row = 0\n",
    "    for residue_one in chain_one.get_residues():\n",
    "        col = 0\n",
    "        for residue_two in chain_two.get_residues():\n",
    "            answer[row, col] = calc_residue_dist(residue_one, residue_two, method)\n",
    "            col = col + 1\n",
    "        row = row + 1\n",
    "    return answer"
   ]
  },
  {
   "cell_type": "code",
   "execution_count": 3,
   "metadata": {},
   "outputs": [],
   "source": [
    "def loop_dist_matrix(dist_matrix,cutoff=4):\n",
    "    '''returns a symmetrical array'''\n",
    "    # loop size is 12\n",
    "    # 0 and 13 are caps (skip)\n",
    "    # 14 is calcium\n",
    "    # 15- are water\n",
    "    mloop = dist_matrix[1:13,1:13]\n",
    "    mloop_ca = dist_matrix[1:13,14:15]\n",
    "\n",
    "    # Compose the full distance matrix\n",
    "    # The matrix should be 14 x 14 \n",
    "    mtot = np.zeros((14, 14), np.float)\n",
    "    mtot[:12,:12] = mloop\n",
    "    mtot[:12,12:13] = mloop_ca\n",
    "    mtot[12:13,:12] = np.transpose(mloop_ca)\n",
    "\n",
    "\n",
    "    # If there is >= 1 water\n",
    "    # find the water nearest to the calcium ion\n",
    "    if len(dist_matrix) > 15:\n",
    "        mwater_ca = dist_matrix[15:,14:15]\n",
    "        water_id = np.argmin(mwater_ca)+15\n",
    "        mloop_water = dist_matrix[1:13,water_id]\n",
    "        mca_water = dist_matrix[14:15,water_id]\n",
    "        \n",
    "        mtot[:12,13] = mloop_water\n",
    "        mtot[13,:12] = np.transpose(mloop_water)\n",
    "\n",
    "        mtot[12:13,13] = mca_water\n",
    "        mtot[13,12:13] = np.transpose(mca_water)\n",
    "\n",
    "    # convert to a contact matrix\n",
    "    mtot[mtot<=cutoff]=1\n",
    "    mtot[mtot>cutoff]=0\n",
    "    return mtot"
   ]
  },
  {
   "cell_type": "code",
   "execution_count": 4,
   "metadata": {},
   "outputs": [
    {
     "name": "stdout",
     "output_type": "stream",
     "text": [
      "7800 structures processed ...\r"
     ]
    }
   ],
   "source": [
    "# Main code for contact map generation.\n",
    "import glob\n",
    "import sys\n",
    "\n",
    "contact_cutoff = 3.\n",
    "allpdb = glob.glob(\"pdb/*.pdb\")\n",
    "contact_map_N= np.zeros((14, 14), np.float)\n",
    "contact_map_C= np.zeros((14, 14), np.float)\n",
    "contact_map= np.zeros((14, 14), np.float)\n",
    "\n",
    "contact_method = 'allatom'\n",
    "\n",
    "counter = 0\n",
    "counter_N = 0\n",
    "counter_C = 0\n",
    "for struct in allpdb:\n",
    "    pdb_code = struct.split('/')[1].split('.pdb')[0]\n",
    "    Cloop = struct.split('/')[1].split('.')[1][4] > '2'\n",
    "    structure = PDBParser().get_structure(pdb_code, struct)\n",
    "    dist_matrix = calc_dist_matrix(structure,structure, contact_method)\n",
    "    contact_map += loop_dist_matrix(dist_matrix, contact_cutoff)\n",
    "    if Cloop:\n",
    "        contact_map_C += loop_dist_matrix(dist_matrix, contact_cutoff)\n",
    "        counter_C = counter_C + 1\n",
    "\n",
    "    else:\n",
    "        contact_map_N += loop_dist_matrix(dist_matrix, contact_cutoff)\n",
    "        counter_N = counter_N + 1\n",
    "    \n",
    "    counter = counter + 1\n",
    "    if counter % 100 == 0:\n",
    "        print(counter, \"structures processed ...\", end = '\\r')\n",
    "        sys.stdout.flush()\n",
    "#contact_map/counter"
   ]
  },
  {
   "cell_type": "code",
   "execution_count": 192,
   "metadata": {},
   "outputs": [
    {
     "data": {
      "image/png": "[encoded data removed]",
      "text/plain": [
       "<Figure size 432x288 with 2 Axes>"
      ]
     },
     "metadata": {
      "needs_background": "light"
     },
     "output_type": "display_data"
    }
   ],
   "source": [
    "import pylab\n",
    "import numpy             as np\n",
    "import matplotlib        as mpl\n",
    "import matplotlib.pyplot as plt\n",
    "\n",
    "from mpl_toolkits.axes_grid1 import make_axes_locatable\n",
    "\n",
    "# create colormap\n",
    "# ---------------\n",
    "\n",
    "# create a colormap that consists of\n",
    "# - 1/5 : custom colormap, ranging from white to the first color of the colormap\n",
    "# - 4/5 : existing colormap\n",
    "\n",
    "# set upper part: 3 * 256/3 entries\n",
    "upper = plt.cm.jet(np.arange(256))\n",
    "\n",
    "# set lower part: 1 * 256/1 entries\n",
    "# - initialize all entries to 1 to make sure that the alpha channel (4th column) is 1\n",
    "lower = np.ones((int(256/3),4))\n",
    "# - modify the first three columns (RGB):\n",
    "#   range linearly between white (1,1,1) and the first color of the upper colormap\n",
    "for i in range(3):\n",
    "  lower[:,i] = np.linspace(1, upper[0,i], lower.shape[0])\n",
    "\n",
    "base = np.ones((int(256/3),4))\n",
    "# combine parts of colormap\n",
    "cmap = np.vstack((base, lower))\n",
    "cmap = np.vstack((cmap, upper))\n",
    "\n",
    "# convert to matplotlib colormap\n",
    "cmap = mpl.colors.ListedColormap(cmap, name='myColorMap', N=cmap.shape[0])\n",
    "\n",
    "\n",
    "\n",
    "plot = pylab.imshow(contact_map/counter, cmap=cmap)\n",
    "pylab.colorbar()\n",
    "pylab.show()\n",
    "\n",
    "plt.savefig('contact_map.eps', format='eps')"
   ]
  },
  {
   "cell_type": "code",
   "execution_count": 193,
   "metadata": {},
   "outputs": [
    {
     "data": {
      "image/png": "[encoded data removed]",
      "text/plain": [
       "<Figure size 432x288 with 2 Axes>"
      ]
     },
     "metadata": {
      "needs_background": "light"
     },
     "output_type": "display_data"
    }
   ],
   "source": [
    "plot = pylab.imshow(contact_map_N/counter_N, cmap=cmap)\n",
    "pylab.colorbar()\n",
    "pylab.show()"
   ]
  },
  {
   "cell_type": "code",
   "execution_count": 194,
   "metadata": {},
   "outputs": [
    {
     "data": {
      "image/png": "[encoded data removed]",
      "text/plain": [
       "<Figure size 432x288 with 2 Axes>"
      ]
     },
     "metadata": {
      "needs_background": "light"
     },
     "output_type": "display_data"
    }
   ],
   "source": [
    "plot = pylab.imshow(contact_map_C/counter_C, cmap=cmap)\n",
    "pylab.colorbar()\n",
    "pylab.show()"
   ]
  }
 ],
 "metadata": {
  "kernelspec": {
   "display_name": "Python [conda env:h2o] *",
   "language": "python",
   "name": "conda-env-h2o-py"
  },
  "language_info": {
   "codemirror_mode": {
    "name": "ipython",
    "version": 3
   },
   "file_extension": ".py",
   "mimetype": "text/x-python",
   "name": "python",
   "nbconvert_exporter": "python",
   "pygments_lexer": "ipython3",
   "version": "3.6.9"
  }
 },
 "nbformat": 4,
 "nbformat_minor": 2
}
