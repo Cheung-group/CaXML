{
 "cells": [
  {
   "cell_type": "code",
   "execution_count": 1,
   "metadata": {},
   "outputs": [],
   "source": [
    "from Bio.PDB import *\n",
    "import numpy as np\n",
    "import csv\n",
    "import matplotlib.pyplot as plt\n",
    "from operator import itemgetter"
   ]
  },
  {
   "cell_type": "code",
   "execution_count": 2,
   "metadata": {},
   "outputs": [],
   "source": [
    "def calc_residue_dist(residue_one, residue_two, method = \"heavy\"):\n",
    "    \"\"\"Returns the minimum distance between two residues\n",
    "    default method is between heavy atoms\n",
    "    method can be calpha, allatom\"\"\"\n",
    "    dist_ij = []\n",
    "    \n",
    "    if method == 'allatom':\n",
    "        for i in residue_one:\n",
    "            for j in residue_two:\n",
    "                r_ij = np.linalg.norm(i.coord - j.coord)\n",
    "                dist_ij.append(r_ij)\n",
    "    elif method == 'calpha':\n",
    "        for i in residue_one:\n",
    "            for j in residue_two:\n",
    "                if i.id in ['CA','OW'] and j.id in ['CA', 'OW']:\n",
    "                    r_ij = np.linalg.norm(i.coord - j.coord)\n",
    "                    dist_ij.append(r_ij)\n",
    "    else:\n",
    "    # heavy atoms\n",
    "        for i in residue_one:\n",
    "            for j in residue_two:\n",
    "                if i.mass > 12 and j.mass > 12:\n",
    "                    r_ij = np.linalg.norm(i.coord - j.coord)\n",
    "                    dist_ij.append(r_ij)\n",
    "    return min(dist_ij)\n",
    "\n",
    "def calc_dist_matrix(chain_one, chain_two, method = \"heavy\") :\n",
    "    \"\"\"Returns a matrix of minimum distances between two chains\"\"\"\n",
    "    #n_rows = len([res for res in chain_one.get_residues()])\n",
    "    n_rows = 1\n",
    "    n_cols = len([res for res in chain_two.get_residues()]) - 1\n",
    "\n",
    "    answer = np.zeros((n_rows, n_cols), np.float)\n",
    "    row = 0\n",
    "    for residue_one in chain_one.get_residues():\n",
    "        if residue_one.resname != ' CA':\n",
    "            continue\n",
    "        col = 0\n",
    "        for residue_two in chain_two.get_residues():\n",
    "            if residue_two.resname == ' CA':\n",
    "                continue\n",
    "            answer[row, col] = calc_residue_dist(residue_one, residue_two, method)\n",
    "            col = col + 1\n",
    "        row = row + 1\n",
    "    return answer"
   ]
  },
  {
   "cell_type": "code",
   "execution_count": 3,
   "metadata": {},
   "outputs": [
    {
     "name": "stdout",
     "output_type": "stream",
     "text": [
      "7800 structures processed ...\r"
     ]
    }
   ],
   "source": [
    "import glob\n",
    "import sys\n",
    "\n",
    "contact_cutoff = 6\n",
    "contact_method = \"heavy\"\n",
    "counter = 0\n",
    "dist_matrix = dict()\n",
    "\n",
    "allpdb = glob.glob(\"LOOP_STRUCTURES/*.pdb\")\n",
    "for struct in allpdb:\n",
    "    pdb_code = struct.split('/')[1].split('.pdb')[0]\n",
    "    structure = PDBParser().get_structure(pdb_code, struct)\n",
    "    dist_matrix[pdb_code] = calc_dist_matrix(structure, structure, contact_method)[:,1:13]\n",
    "\n",
    "    counter = counter + 1\n",
    "    if counter % 100 == 0:\n",
    "        print(counter, \"structures processed ...\", end = '\\r')\n",
    "        sys.stdout.flush()"
   ]
  },
  {
   "cell_type": "code",
   "execution_count": 4,
   "metadata": {},
   "outputs": [],
   "source": [
    "pdb_name = [i_name for i_name in dist_matrix]\n",
    "X = np.array([dist_matrix[i_name][0] for i_name in pdb_name])\n",
    "\n",
    "newX = np.column_stack((X[:,0],X[:,2],X[:,4],X[:,6],X[:,9],X[:,11]))"
   ]
  },
  {
   "cell_type": "code",
   "execution_count": 5,
   "metadata": {},
   "outputs": [],
   "source": [
    "contact_ca_residue = np.sum(X<contact_cutoff, axis=1)\n",
    "\n",
    "asym = np.sum(contact_ca_residue <= 3)\n",
    "hemi = np.sum(contact_ca_residue == 4) + np.sum(contact_ca_residue == 5)\n",
    "holo = np.sum(contact_ca_residue > 5)"
   ]
  },
  {
   "cell_type": "code",
   "execution_count": 6,
   "metadata": {},
   "outputs": [
    {
     "name": "stdout",
     "output_type": "stream",
     "text": [
      "0.11666879877190738 0.12882179864398108 0.7545094025841116\n"
     ]
    }
   ],
   "source": [
    "total = len(pdb_name)\n",
    "if asym + hemi + holo == total:\n",
    "    print(asym/total, hemi/total, holo/total)"
   ]
  },
  {
   "cell_type": "code",
   "execution_count": null,
   "metadata": {},
   "outputs": [],
   "source": []
  }
 ],
 "metadata": {
  "kernelspec": {
   "display_name": "Python [conda env:h2o] *",
   "language": "python",
   "name": "conda-env-h2o-py"
  },
  "language_info": {
   "codemirror_mode": {
    "name": "ipython",
    "version": 3
   },
   "file_extension": ".py",
   "mimetype": "text/x-python",
   "name": "python",
   "nbconvert_exporter": "python",
   "pygments_lexer": "ipython3",
   "version": "3.6.9"
  }
 },
 "nbformat": 4,
 "nbformat_minor": 2
}
