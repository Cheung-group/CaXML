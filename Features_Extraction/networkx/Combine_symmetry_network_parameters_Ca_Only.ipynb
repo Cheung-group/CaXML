{
 "cells": [
  {
   "cell_type": "code",
   "execution_count": 32,
   "metadata": {},
   "outputs": [],
   "source": [
    "#!/usr/bin/env python\n",
    "\n",
    "import pandas as pd\n",
    "import numpy as np\n",
    "\n",
    "import glob\n",
    "from ase.io import read\n",
    "from dscribe.descriptors import ACSF\n",
    "\n",
    "import random\n",
    "import sys\n",
    "\n",
    "from sklearn import preprocessing"
   ]
  },
  {
   "cell_type": "code",
   "execution_count": 33,
   "metadata": {},
   "outputs": [],
   "source": [
    "class Structure:\n",
    "\n",
    "    def __init__(self, pdb_path):\n",
    "        self.name = pdb_path.split('/')[1].split('.pdb')[0]\n",
    "        self.water = int(self.name.split('.')[2][5:])\n",
    "        self.system = self.name.split('.')[0]\n",
    "        self.loop = self.name.split('.')[1]\n",
    "        self.mdframe = self.name.split('.')[3]\n",
    "        self.feat_atom=dict()\n",
    "        #print(\"PDB name is \", self.name)\n",
    "\n",
    "    def calc_sym(self):\n",
    "        '''\n",
    "        The function takes the structure file and computes the\n",
    "        symmetry function for each atom\n",
    "        output: a list of symmetry functions for each atom.\n",
    "                Length of the list = number of atoms\n",
    "            UPDATE: remove water molecules.\n",
    "        '''\n",
    "        pdb_file = self.name+'.pdb'\n",
    "        chg_file = self.name + '.chg'\n",
    "        chg=np.genfromtxt(\"charge/\"+chg_file)\n",
    "\n",
    "        structure = read(\"pdb/\"+pdb_file)\n",
    "        feat_lst=[]\n",
    "        atomPos=[np.where(chg==20)[0][0]]\n",
    "        cachg=chg[chg[:,0]==20][0][1]\n",
    "\n",
    "\n",
    "        # Setting up the ACSF descriptor\n",
    "        for r_cut in [2.5, 3.0, 3.5, 4.0, 4.5, 5.0, 5.5, 6.0]:\n",
    "            acsf = ACSF(\n",
    "                species=[\"C\", \"H\", \"O\", \"N\", \"Ca\"],\n",
    "                rcut=r_cut,\n",
    "                g2_params=[[0.0001,0]],\n",
    "            )\n",
    "            # skipping g1 here\n",
    "            feat_lst.append(acsf.create(structure,positions=atomPos,n_jobs=4)[:,5:])\n",
    "        # 5 x 8 = 40 features \n",
    "\n",
    "        # skipping g1 here\n",
    "        acsf_ang = ACSF(\n",
    "            species=[\"C\", \"H\", \"O\", \"N\", \"Ca\"],\n",
    "            rcut=3.0,\n",
    "            g4_params=[[0.0001,0.5,-1]],\n",
    "        )\n",
    "        feat_lst.append(acsf_ang.create(structure,positions=atomPos,n_jobs=4)[:,5:])\n",
    "        # 15 features\n",
    "\n",
    "        # skipping g1 here\n",
    "        acsf_ang = ACSF(\n",
    "            species=[\"C\", \"H\", \"O\", \"N\", \"Ca\"],\n",
    "            rcut=6.0,\n",
    "            g4_params=[[0.0001,0.5,-1]],\n",
    "        )\n",
    "        feat_lst.append(acsf_ang.create(structure,positions=atomPos,n_jobs=4)[:,5:])\n",
    "        # 15 features\n",
    "\n",
    "        # combine the above functions (2d arrays) into one 2d array\n",
    "        feat = np.hstack(tuple(feat_lst))\n",
    "        #print(np.append(feat, np.array(cachg,ndmin=2)))\n",
    "        # add charge to the end of the 2d array\n",
    "        self.feat_atom[\"Ca\"] = np.append(feat, np.array(cachg,ndmin=2))\n",
    "        \n",
    "    # crudely add the network parameters\n",
    "    def get_network(self):\n",
    "        network_file = 'network/net.'+self.name+'.csv'\n",
    "        net = pd.read_csv(network_file)\n",
    "        return np.array(net.iloc[:,1:]).flatten()"
   ]
  },
  {
   "cell_type": "code",
   "execution_count": 34,
   "metadata": {},
   "outputs": [
    {
     "name": "stdout",
     "output_type": "stream",
     "text": [
      "7800 structures out of  7817  processed ...\r"
     ]
    }
   ],
   "source": [
    "# Use all the pdb files in the data directory ./pdb/\n",
    "loops = glob.glob(\"pdb/*.pdb\")\n",
    "structures = dict()\n",
    "counter = 0\n",
    "count_total = len(loops)\n",
    "for loop in loops:\n",
    "    name = loop.split('/')[1].split('.pdb')[0]\n",
    "    structures[name]=Structure(loop)\n",
    "    structures[name].calc_sym()\n",
    "\n",
    "    # adding the 14x4 network parameters to the beginning of the feat matrix\n",
    "    net = structures[name].get_network()\n",
    "    structures[name].feat_atom['Ca'] = np.hstack((net,structures[name].feat_atom['Ca']))\n",
    "\n",
    "    counter = counter + 1\n",
    "    if counter % 100 == 0:\n",
    "        print(counter, \"structures out of \", count_total, \" processed ...\", end = '\\r')\n",
    "        sys.stdout.flush()"
   ]
  },
  {
   "cell_type": "code",
   "execution_count": 35,
   "metadata": {},
   "outputs": [],
   "source": [
    "for loop in loops:\n",
    "    name = loop.split('/')[1].split('.pdb')[0]\n",
    "    if structures[name].feat_atom['Ca'].shape[0] != 127:\n",
    "        print(name)"
   ]
  },
  {
   "cell_type": "code",
   "execution_count": 36,
   "metadata": {},
   "outputs": [
    {
     "name": "stdout",
     "output_type": "stream",
     "text": [
      "Ca 127\n",
      "(0, 127)\n"
     ]
    }
   ],
   "source": [
    "for ele in [\"Ca\"]:\n",
    "    #col = len(structures[name].feat_atom[ele])\n",
    "    col=127\n",
    "    data = np.empty([0,col])\n",
    "    print(ele,col)\n",
    "    print(data.shape)\n",
    "    for loop_name in structures.keys():\n",
    "        #print(loop_name)\n",
    "        data = np.vstack((data,structures[loop_name].feat_atom[ele]))\n",
    "    np.savetxt(ele+'_all_data.txt', data, delimiter=',')"
   ]
  }
 ],
 "metadata": {
  "kernelspec": {
   "display_name": "Python [conda env:h2o] *",
   "language": "python",
   "name": "conda-env-h2o-py"
  },
  "language_info": {
   "codemirror_mode": {
    "name": "ipython",
    "version": 3
   },
   "file_extension": ".py",
   "mimetype": "text/x-python",
   "name": "python",
   "nbconvert_exporter": "python",
   "pygments_lexer": "ipython3",
   "version": "3.6.9"
  }
 },
 "nbformat": 4,
 "nbformat_minor": 2
}
