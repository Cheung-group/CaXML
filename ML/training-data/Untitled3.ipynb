{
 "cells": [
  {
   "cell_type": "code",
   "execution_count": 27,
   "metadata": {},
   "outputs": [],
   "source": [
    "#!/usr/bin/env python\n",
    "# coding: utf-8\n",
    "\n",
    "from Bio.PDB import *\n",
    "import glob\n",
    "import math\n",
    "import numpy as np\n",
    "\n",
    "loop3Size = 176\n",
    "# Data files\n",
    "CaMKII = glob.glob(\"input.loop3/CaMKII_loop3_*.pdb\")\n",
    "holoCaM = glob.glob(\"input.loop3/holoCaM_loop3_*.pdb\")\n",
    "Ng = glob.glob(\"input.loop3/Ng-*_loop3_*.pdb\")\n",
    "\n",
    "# Extract the charges\n",
    "chgFiles = glob.glob(\"output.loop3/*.txt\")\n",
    "charge = dict()\n",
    "\n",
    "for chgFile in chgFiles:\n",
    "    prot = chgFile.split('/')[1].split('.')[1]\n",
    "    with open(chgFile,\"r\") as file1:\n",
    "        for line in file1:\n",
    "            line = line.strip().split()\n",
    "            charge[(prot,line[0])] = line[1]\n",
    "\n",
    "def count(gen):\n",
    "    \"\"\"\n",
    "    Count number of atoms\n",
    "    \"\"\"\n",
    "\n",
    "    return sum(1 for _ in gen.get_atoms())\n",
    "\n",
    "def cutoff(r_ij, r_cut):\n",
    "    \"\"\"\n",
    "    Radial Cutoff function\n",
    "    \"\"\"\n",
    "\n",
    "    if r_ij > r_cut:\n",
    "        return 0\n",
    "    else:\n",
    "        return 0.5*(math.cos(math.pi*r_ij/r_cut)+1)\n",
    "\n",
    "\n",
    "def Rad(atom, r_min, r_max, r_inc):\n",
    "    \"\"\"\n",
    "    Radial distribution function to a selected atom\n",
    "    with respect to r_cut ranging from r_min to r_max at increment r_inc\n",
    "    tau controls how fast the curve goes to 0 (r_cut)\n",
    "    Here we use very small tau.\n",
    "    \"\"\"\n",
    "    feat = []\n",
    "    tau = 0.0001\n",
    "    at = atoms[atom]\n",
    "    for element in ele:\n",
    "        atomlist = ele[element]\n",
    "        for r_cut in  \n",
    "            #print(\"rcut is %f\" %r_cut)\n",
    "            g_rad = 0\n",
    "            for i in atomlist:\n",
    "                a = atoms[i]\n",
    "                r_ij = np.linalg.norm(a.coord - at.coord)\n",
    "                #print(\"rij is %f\" %r_ij)\n",
    "                g_rad += np.exp(-tau*r_ij*r_ij)*cutoff(r_ij, r_cut)\n",
    "            feat.append(g_rad)\n",
    "    return feat\n",
    "\n",
    "def Ang(atom, r_cut):\n",
    "    \"\"\"\n",
    "    Angular distribution function to a selected atom.\n",
    "    n controls sensitivity in angle.\n",
    "    \"\"\"\n",
    "    feat = []\n",
    "    tau = 0.0001\n",
    "    n = 0.5\n",
    "    at = atoms[atom]\n",
    "    for element in ele:\n",
    "        atomlist = ele[element]\n",
    "        for element2 in ele:\n",
    "            atomlist2 = ele[element2]\n",
    "            g_ang = 0\n",
    "            for k in atomlist:\n",
    "                for j in atomlist2:\n",
    "                    ak = atoms[k]\n",
    "                    aj = atoms[j]\n",
    "                    r_ij = np.linalg.norm(at.coord - aj.coord)\n",
    "                    r_ik = np.linalg.norm(at.coord - ak.coord)\n",
    "                    r_kj = np.linalg.norm(ak.coord - ak.coord)\n",
    "\n",
    "                    cos_ikj = np.inner((at.coord - aj.coord), (at.coord - ak.coord))/(r_ij*r_ik)\n",
    "                    #print(\"cosine angle is %f \" % cos_ikj)\n",
    "                    f1 = np.power(round((0.5-cos_ikj*0.5), 6),n)\n",
    "                    f2 = np.exp(-tau*(r_ij*r_ij+r_ik*r_ik+r_kj*r_kj))\n",
    "                    f3 = cutoff(r_ij, r_cut)*cutoff(r_ik, r_cut)*cutoff(r_kj, r_cut)\n",
    "                    #print(\"%f %f %f\" %(f1, f2, f3))\n",
    "                    g_ang += 2*f1*f2*f3\n",
    "            feat.append(g_ang)\n",
    "    return feat\n",
    "\n",
    "def feature(struct):\n",
    "    \"\"\"\n",
    "    Feature vector has 80 elements:\n",
    "    Matrix Rad 0-54: radial (0-10: H; 11-21: C; 22-32: O; 33-43: N; 44-54: S)\n",
    "    Matrix Ang 55-79: angular (H-H H-C H-O H-N H-S; C-H C-C C-O C-N C-S;)\n",
    "    \"\"\"\n",
    "    return Rad(atomindex, 1.0, 6.0, 0.5) + Ang(atomindex, 3.0)\n",
    "\n",
    "# Print the symmetry functions\n",
    "output = open(\"sym.txt\", 'w+')\n",
    "cnt = 0\n",
    "parser = PDBParser()"
   ]
  },
  {
   "cell_type": "code",
   "execution_count": 2,
   "metadata": {},
   "outputs": [],
   "source": [
    "CaMKII = glob.glob(\"input.loop3/CaMKII_loop3_0.0.pdb\")"
   ]
  },
  {
   "cell_type": "code",
   "execution_count": 5,
   "metadata": {},
   "outputs": [],
   "source": [
    "for struct in CaMKII:\n",
    "    prot = struct.split('/')[1].split('_')[0]\n",
    "    index = struct.split('/')[1].split(\"_\")[2].split('.pdb')[0]\n",
    "    idf = (prot, index)\n",
    "    if idf in charge:\n",
    "        cach =  charge[(prot,index)]\n",
    "        structure = parser.get_structure(struct.split('/')[1],struct)\n",
    "        if count(structure) != loop3Size:\n",
    "            print(\"Error in atom number!\\n\")\n",
    "            raise SystemExit(1)\n",
    "\n",
    "        feat = feature(structure)"
   ]
  },
  {
   "cell_type": "code",
   "execution_count": 7,
   "metadata": {},
   "outputs": [],
   "source": [
    "    for i in structure.get_atoms():\n",
    "        if i.parent.get_resname() == ' CA':\n",
    "            calAtom = i\n",
    "            \n",
    "    "
   ]
  },
  {
   "cell_type": "code",
   "execution_count": 8,
   "metadata": {},
   "outputs": [
    {
     "data": {
      "text/plain": [
       "<Atom CA>"
      ]
     },
     "execution_count": 8,
     "metadata": {},
     "output_type": "execute_result"
    }
   ],
   "source": [
    "calAtom"
   ]
  },
  {
   "cell_type": "code",
   "execution_count": 37,
   "metadata": {},
   "outputs": [
    {
     "name": "stdout",
     "output_type": "stream",
     "text": [
      "<Atom CA>\n",
      "<Atom C>\n",
      "<Atom O>\n",
      "<Atom H01>\n",
      "<Atom H02>\n",
      "<Atom H03>\n",
      "<Atom N>\n",
      "<Atom CA>\n",
      "<Atom C>\n",
      "<Atom O>\n",
      "<Atom CB>\n",
      "<Atom CG>\n",
      "<Atom OD1>\n",
      "<Atom OD2>\n",
      "<Atom H>\n",
      "<Atom HA>\n",
      "<Atom HB1>\n",
      "<Atom HB2>\n",
      "<Atom N>\n",
      "<Atom CA>\n",
      "<Atom C>\n",
      "<Atom O>\n",
      "<Atom CB>\n",
      "<Atom CG>\n",
      "<Atom CD>\n",
      "<Atom CE>\n",
      "<Atom NZ>\n",
      "<Atom H>\n",
      "<Atom HA>\n",
      "<Atom HB1>\n",
      "<Atom HB2>\n",
      "<Atom HG1>\n",
      "<Atom HG2>\n",
      "<Atom HD1>\n",
      "<Atom HD2>\n",
      "<Atom HE1>\n",
      "<Atom HE2>\n",
      "<Atom HZ1>\n",
      "<Atom HZ2>\n",
      "<Atom HZ3>\n",
      "<Atom N>\n",
      "<Atom CA>\n",
      "<Atom C>\n",
      "<Atom O>\n",
      "<Atom CB>\n",
      "<Atom CG>\n",
      "<Atom OD1>\n",
      "<Atom OD2>\n",
      "<Atom H>\n",
      "<Atom HA>\n",
      "<Atom HB1>\n",
      "<Atom HB2>\n",
      "<Atom N>\n",
      "<Atom CA>\n",
      "<Atom C>\n",
      "<Atom O>\n",
      "<Atom H>\n",
      "<Atom HA1>\n",
      "<Atom HA2>\n",
      "<Atom N>\n",
      "<Atom CA>\n",
      "<Atom C>\n",
      "<Atom O>\n",
      "<Atom CB>\n",
      "<Atom CG>\n",
      "<Atom ND2>\n",
      "<Atom OD1>\n",
      "<Atom H>\n",
      "<Atom HA>\n",
      "<Atom HB1>\n",
      "<Atom HB2>\n",
      "<Atom HD21>\n",
      "<Atom HD22>\n",
      "<Atom N>\n",
      "<Atom CA>\n",
      "<Atom C>\n",
      "<Atom O>\n",
      "<Atom H>\n",
      "<Atom HA1>\n",
      "<Atom HA2>\n",
      "<Atom N>\n",
      "<Atom CA>\n",
      "<Atom C>\n",
      "<Atom O>\n",
      "<Atom CB>\n",
      "<Atom CG>\n",
      "<Atom CD1>\n",
      "<Atom CD2>\n",
      "<Atom CE1>\n",
      "<Atom CE2>\n",
      "<Atom CZ>\n",
      "<Atom OH>\n",
      "<Atom H>\n",
      "<Atom HA>\n",
      "<Atom HB1>\n",
      "<Atom HB2>\n",
      "<Atom HD1>\n",
      "<Atom HD2>\n",
      "<Atom HE1>\n",
      "<Atom HE2>\n",
      "<Atom HH>\n",
      "<Atom N>\n",
      "<Atom CA>\n",
      "<Atom C>\n",
      "<Atom O>\n",
      "<Atom CB>\n",
      "<Atom CG1>\n",
      "<Atom CG2>\n",
      "<Atom CD>\n",
      "<Atom H>\n",
      "<Atom HA>\n",
      "<Atom HB>\n",
      "<Atom HG11>\n",
      "<Atom HG12>\n",
      "<Atom HG21>\n",
      "<Atom HG22>\n",
      "<Atom HG23>\n",
      "<Atom HD1>\n",
      "<Atom HD2>\n",
      "<Atom HD3>\n",
      "<Atom N>\n",
      "<Atom CA>\n",
      "<Atom C>\n",
      "<Atom O>\n",
      "<Atom CB>\n",
      "<Atom OG>\n",
      "<Atom H>\n",
      "<Atom HA>\n",
      "<Atom HB1>\n",
      "<Atom HB2>\n",
      "<Atom HG>\n",
      "<Atom N>\n",
      "<Atom CA>\n",
      "<Atom C>\n",
      "<Atom O>\n",
      "<Atom CB>\n",
      "<Atom H>\n",
      "<Atom HA>\n",
      "<Atom HB1>\n",
      "<Atom HB2>\n",
      "<Atom HB3>\n",
      "<Atom N>\n",
      "<Atom CA>\n",
      "<Atom C>\n",
      "<Atom O>\n",
      "<Atom CB>\n",
      "<Atom H>\n",
      "<Atom HA>\n",
      "<Atom HB1>\n",
      "<Atom HB2>\n",
      "<Atom HB3>\n",
      "<Atom N>\n",
      "<Atom CA>\n",
      "<Atom C>\n",
      "<Atom O>\n",
      "<Atom CB>\n",
      "<Atom CG>\n",
      "<Atom CD>\n",
      "<Atom OE1>\n",
      "<Atom OE2>\n",
      "<Atom H>\n",
      "<Atom HA>\n",
      "<Atom HB1>\n",
      "<Atom HB2>\n",
      "<Atom HG1>\n",
      "<Atom HG2>\n",
      "<Atom N>\n",
      "<Atom CA>\n",
      "<Atom H01>\n",
      "<Atom H02>\n",
      "<Atom H03>\n",
      "<Atom H>\n",
      "<Atom CA>\n",
      "<Atom OW>\n",
      "<Atom HW1>\n",
      "<Atom HW2>\n"
     ]
    }
   ],
   "source": [
    "for i in structure.get_atoms():\n",
    "    print(i)"
   ]
  },
  {
   "cell_type": "code",
   "execution_count": 39,
   "metadata": {},
   "outputs": [
    {
     "data": {
      "text/plain": [
       "'HW2'"
      ]
     },
     "execution_count": 39,
     "metadata": {},
     "output_type": "execute_result"
    }
   ],
   "source": [
    "i.get_name()"
   ]
  },
  {
   "cell_type": "code",
   "execution_count": 13,
   "metadata": {},
   "outputs": [
    {
     "name": "stdout",
     "output_type": "stream",
     "text": [
      "<Residue PHE het=  resseq=92 icode= >\n",
      "<Residue ASP het=  resseq=93 icode= >\n",
      "<Residue LYS het=  resseq=94 icode= >\n",
      "<Residue ASP het=  resseq=95 icode= >\n",
      "<Residue GLY het=  resseq=96 icode= >\n",
      "<Residue ASN het=  resseq=97 icode= >\n",
      "<Residue GLY het=  resseq=98 icode= >\n",
      "<Residue TYR het=  resseq=99 icode= >\n",
      "<Residue ILE het=  resseq=100 icode= >\n",
      "<Residue SER het=  resseq=101 icode= >\n",
      "<Residue ALA het=  resseq=102 icode= >\n",
      "<Residue ALA het=  resseq=103 icode= >\n",
      "<Residue GLU het=  resseq=104 icode= >\n",
      "<Residue LEU het=  resseq=105 icode= >\n",
      "<Residue  CA het=  resseq=176 icode= >\n",
      "<Residue SOL het=  resseq=200 icode= >\n"
     ]
    }
   ],
   "source": [
    "for i in structure.get_residues():\n",
    "    print(i)"
   ]
  },
  {
   "cell_type": "code",
   "execution_count": 33,
   "metadata": {},
   "outputs": [
    {
     "data": {
      "text/plain": [
       "<Residue ASP het=  resseq=93 icode= >"
      ]
     },
     "execution_count": 33,
     "metadata": {},
     "output_type": "execute_result"
    }
   ],
   "source": [
    "res_ids = [i for i in structure.get_residues()]\n",
    "res_ids[1]"
   ]
  },
  {
   "cell_type": "code",
   "execution_count": 17,
   "metadata": {},
   "outputs": [],
   "source": [
    "atoms7 = [i for i in ress[7].get_atoms()]\n"
   ]
  },
  {
   "cell_type": "code",
   "execution_count": 49,
   "metadata": {},
   "outputs": [
    {
     "data": {
      "text/plain": [
       "'H'"
      ]
     },
     "execution_count": 49,
     "metadata": {},
     "output_type": "execute_result"
    }
   ],
   "source": [
    "i.\n"
   ]
  },
  {
   "cell_type": "code",
   "execution_count": 51,
   "metadata": {},
   "outputs": [],
   "source": [
    "atoms = [x for x in structure.get_atoms()]\n",
    "\n",
    "for i in structure.get_atoms():\n",
    "    if i.parent.get_resname() == ' CA':\n",
    "        calAtom = i\n",
    "atomindex = calAtom.serial_number - 1\n",
    "\n",
    "residues = [i for i in structure.get_residues()]\n",
    "\n",
    "ele = dict()\n",
    "ele['C'] = []\n",
    "ele['N'] = []\n",
    "ele['OW'] = []\n",
    "ele['OCoor'] = []\n",
    "ele['O'] = []\n",
    "ele['H'] = []\n",
    "\n",
    "for i in atoms:\n",
    "    if i.element == 'O':\n",
    "        if i.parent is residues[7] and i.get_name() == 'O':\n",
    "            ele['OCoor'].append(i.serial_number-1)\n",
    "        elif i.get_name() == 'OW':\n",
    "            ele['OW'].append(i.serial_number-1)\n",
    "        else:\n",
    "            ele[i.element].append(i.serial_number-1)\n",
    "    if i.parent in [residues[1], residues[3], residues[5], residues[12]]:\n",
    "        if i.get_name() in ['OE1','OE2','OD1','OD2']:\n",
    "            ele['OCoor'].append(i.serial_number-1)\n",
    "    if i.element in ['C', 'N', 'H']:\n",
    "        if not i is calAtom:\n",
    "            ele[i.element].append(i.serial_number-1)\n"
   ]
  },
  {
   "cell_type": "code",
   "execution_count": 54,
   "metadata": {},
   "outputs": [
    {
     "data": {
      "text/plain": [
       "<Residue TYR het=  resseq=99 icode= >"
      ]
     },
     "execution_count": 54,
     "metadata": {},
     "output_type": "execute_result"
    }
   ],
   "source": [
    "atoms[83].get_parent()"
   ]
  },
  {
   "cell_type": "code",
   "execution_count": 55,
   "metadata": {},
   "outputs": [
    {
     "data": {
      "text/plain": [
       "<Atom HW2>"
      ]
     },
     "execution_count": 55,
     "metadata": {},
     "output_type": "execute_result"
    }
   ],
   "source": [
    "i"
   ]
  },
  {
   "cell_type": "code",
   "execution_count": 59,
   "metadata": {},
   "outputs": [
    {
     "data": {
      "text/plain": [
       "('CaMKII_loop3_0.0.pdb', 0, 'X', (' ', 200, ' '), ('HW2', ' '))"
      ]
     },
     "execution_count": 59,
     "metadata": {},
     "output_type": "execute_result"
    }
   ],
   "source": [
    "i.get_full_id()[]"
   ]
  },
  {
   "cell_type": "code",
   "execution_count": 74,
   "metadata": {},
   "outputs": [
    {
     "name": "stdout",
     "output_type": "stream",
     "text": [
      "C1.0,C1.5,C2.0,C2.5,C3.0,C3.5,C4.0,C4.5,C5.0,C5.5,C6.0,N1.0,N1.5,N2.0,N2.5,N3.0,N3.5,N4.0,N4.5,N5.0,N5.5,N6.0,OW1.0,OW1.5,OW2.0,OW2.5,OW3.0,OW3.5,OW4.0,OW4.5,OW5.0,OW5.5,OW6.0,OCoor1.0,OCoor1.5,OCoor2.0,OCoor2.5,OCoor3.0,OCoor3.5,OCoor4.0,OCoor4.5,OCoor5.0,OCoor5.5,OCoor6.0,O1.0,O1.5,O2.0,O2.5,O3.0,O3.5,O4.0,O4.5,O5.0,O5.5,O6.0,H1.0,H1.5,H2.0,H2.5,H3.0,H3.5,H4.0,H4.5,H5.0,H5.5,H6.0,C:C,C:N,C:OW,C:OCoor,C:O,C:H,N:C,N:N,N:OW,N:OCoor,N:O,N:H,OW:C,OW:N,OW:OW,OW:OCoor,OW:O,OW:H,OCoor:C,OCoor:N,OCoor:OW,OCoor:OCoor,OCoor:O,OCoor:H,O:C,O:N,O:OW,O:OCoor,O:O,O:H,H:C,H:N,H:OW,H:OCoor,H:O,H:H,Cachg\n"
     ]
    }
   ],
   "source": [
    "r_min=1.0\n",
    "r_max=6.0\n",
    "r_inc=0.5\n",
    "for element in ele:\n",
    "    for cut in np.arange(r_min,r_max+0.5*r_inc,r_inc):\n",
    "        print(element+str(cut), end=\",\")\n",
    "for element in ele:\n",
    "    for element2 in ele:\n",
    "        print(element+\":\"+element2, end=\",\")\n",
    "print(\"Cachg\")"
   ]
  },
  {
   "cell_type": "code",
   "execution_count": null,
   "metadata": {},
   "outputs": [],
   "source": []
  },
  {
   "cell_type": "code",
   "execution_count": null,
   "metadata": {},
   "outputs": [],
   "source": []
  }
 ],
 "metadata": {
  "kernelspec": {
   "display_name": "Python [conda env:h2o] *",
   "language": "python",
   "name": "conda-env-h2o-py"
  },
  "language_info": {
   "codemirror_mode": {
    "name": "ipython",
    "version": 3
   },
   "file_extension": ".py",
   "mimetype": "text/x-python",
   "name": "python",
   "nbconvert_exporter": "python",
   "pygments_lexer": "ipython3",
   "version": "3.6.9"
  }
 },
 "nbformat": 4,
 "nbformat_minor": 2
}
