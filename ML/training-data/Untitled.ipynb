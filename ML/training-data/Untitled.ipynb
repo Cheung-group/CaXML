{
 "cells": [
  {
   "cell_type": "code",
   "execution_count": 1,
   "metadata": {},
   "outputs": [],
   "source": [
    "from Bio.PDB import *\n",
    "import glob\n",
    "CaMKII = glob.glob(\"input.loop3/CaMKII_loop3_*.pdb\")\n",
    "holoCaM = glob.glob(\"input.loop3/holoCaM_loop3_*.pdb\")\n",
    "Ng=glob.glob(\"input.loop3/Ng-*_loop3_*.pdb\")\n",
    "loop3Size = 176\n",
    "\n",
    "files = glob.glob(\"output.loop3/*.txt\")\n",
    "charge = dict()\n",
    "for chgFile in files:\n",
    "    prot = chgFile.split('/')[1].split('.')[1]\n",
    "    with open(chgFile,\"r\") as file1:\n",
    "        for line in file1:\n",
    "            line = line.strip().split()\n",
    "            charge[(prot,line[0])] = line[1]\n",
    "\n",
    "output = open(\"distData.txt\", 'w+')\n",
    "\n",
    "\n",
    "def count(gen):\n",
    "    return sum(1 for _ in gen.get_atoms())\n",
    "\n",
    "parser = PDBParser()\n",
    "structure = parser.get_structure('loop3', 'input.loop3/CaMKII_loop3_0.0.pdb')\n",
    "if count(structure) != loop3Size:\n",
    "    print(\"Error in atom number!\\n\")\n",
    "    raise SystemExit(1)\n",
    "\n",
    "for i in structure.get_atoms():\n",
    "    if i.parent.get_resname() == ' CA':\n",
    "        calAtom = i\n"
   ]
  },
  {
   "cell_type": "code",
   "execution_count": 12,
   "metadata": {},
   "outputs": [],
   "source": [
    "f=list(structure.get_residues())[0]"
   ]
  },
  {
   "cell_type": "code",
   "execution_count": 18,
   "metadata": {},
   "outputs": [
    {
     "data": {
      "text/plain": [
       "<map at 0x7fc4ea2ce710>"
      ]
     },
     "execution_count": 18,
     "metadata": {},
     "output_type": "execute_result"
    }
   ],
   "source": [
    "map(lambda x: print(x), f.get_atoms())"
   ]
  },
  {
   "cell_type": "code",
   "execution_count": 25,
   "metadata": {},
   "outputs": [],
   "source": [
    "fatoms = [ x for x in f.get_atoms()]"
   ]
  },
  {
   "cell_type": "code",
   "execution_count": 28,
   "metadata": {},
   "outputs": [
    {
     "data": {
      "text/plain": [
       "<Atom H01>"
      ]
     },
     "execution_count": 28,
     "metadata": {},
     "output_type": "execute_result"
    }
   ],
   "source": [
    "fatoms[3]"
   ]
  },
  {
   "cell_type": "code",
   "execution_count": 30,
   "metadata": {},
   "outputs": [
    {
     "data": {
      "text/plain": [
       "('loop3', 0, 'X', (' ', 92, ' '))"
      ]
     },
     "execution_count": 30,
     "metadata": {},
     "output_type": "execute_result"
    }
   ],
   "source": [
    "f.full_id"
   ]
  },
  {
   "cell_type": "code",
   "execution_count": null,
   "metadata": {},
   "outputs": [],
   "source": []
  }
 ],
 "metadata": {
  "kernelspec": {
   "display_name": "Python [conda env:h2o] *",
   "language": "python",
   "name": "conda-env-h2o-py"
  },
  "language_info": {
   "codemirror_mode": {
    "name": "ipython",
    "version": 3
   },
   "file_extension": ".py",
   "mimetype": "text/x-python",
   "name": "python",
   "nbconvert_exporter": "python",
   "pygments_lexer": "ipython3",
   "version": "3.6.9"
  }
 },
 "nbformat": 4,
 "nbformat_minor": 2
}
