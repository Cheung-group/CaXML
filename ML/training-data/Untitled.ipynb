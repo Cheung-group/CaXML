{
 "cells": [
  {
   "cell_type": "code",
   "execution_count": 203,
   "metadata": {},
   "outputs": [],
   "source": [
    "from Bio.PDB import *\n",
    "import glob\n",
    "CaMKII = glob.glob(\"input.loop3/CaMKII_loop3_*.pdb\")\n",
    "holoCaM = glob.glob(\"input.loop3/holoCaM_loop3_*.pdb\")\n",
    "Ng = glob.glob(\"input.loop3/Ng-*_loop3_*.pdb\")\n",
    "loop3Size = 176\n",
    "\n",
    "files = glob.glob(\"output.loop3/*.txt\")\n",
    "charge = dict()\n",
    "for chgFile in files:\n",
    "    prot = chgFile.split('/')[1].split('.')[1]\n",
    "    with open(chgFile,\"r\") as file1:\n",
    "        for line in file1:\n",
    "            line = line.strip().split()\n",
    "            charge[(prot,line[0])] = line[1]\n",
    "\n",
    "output = open(\"distData.txt\", 'w+')\n",
    "\n",
    "\n",
    "def count(gen):\n",
    "    return sum(1 for _ in gen.get_atoms())\n",
    "\n",
    "parser = PDBParser()\n",
    "structure = parser.get_structure('loop3', 'input.loop3/CaMKII_loop3_1.0.pdb')\n",
    "if count(structure) != loop3Size:\n",
    "    print(\"Error in atom number!\\n\")\n",
    "    raise SystemExit(1)\n",
    "\n",
    "for i in structure.get_atoms():\n",
    "    if i.parent.get_resname() == ' CA':\n",
    "        calAtom = i\n"
   ]
  },
  {
   "cell_type": "code",
   "execution_count": 204,
   "metadata": {},
   "outputs": [],
   "source": [
    "f=list(structure.get_residues())[0]"
   ]
  },
  {
   "cell_type": "code",
   "execution_count": 205,
   "metadata": {},
   "outputs": [
    {
     "data": {
      "text/plain": [
       "<map at 0x7f8729b129e8>"
      ]
     },
     "execution_count": 205,
     "metadata": {},
     "output_type": "execute_result"
    }
   ],
   "source": [
    "map(lambda x: print(x), f.get_atoms())"
   ]
  },
  {
   "cell_type": "code",
   "execution_count": 206,
   "metadata": {},
   "outputs": [],
   "source": [
    "fatoms = [ x for x in f.get_atoms()]"
   ]
  },
  {
   "cell_type": "code",
   "execution_count": 207,
   "metadata": {},
   "outputs": [
    {
     "ename": "IndexError",
     "evalue": "list index out of range",
     "output_type": "error",
     "traceback": [
      "\u001b[0;31m---------------------------------------------------------------------------\u001b[0m",
      "\u001b[0;31mIndexError\u001b[0m                                Traceback (most recent call last)",
      "\u001b[0;32m<ipython-input-207-5d87d501a27d>\u001b[0m in \u001b[0;36m<module>\u001b[0;34m\u001b[0m\n\u001b[0;32m----> 1\u001b[0;31m \u001b[0mfatoms\u001b[0m\u001b[0;34m[\u001b[0m\u001b[0;36m175\u001b[0m\u001b[0;34m]\u001b[0m\u001b[0;34m\u001b[0m\u001b[0;34m\u001b[0m\u001b[0m\n\u001b[0m",
      "\u001b[0;31mIndexError\u001b[0m: list index out of range"
     ]
    }
   ],
   "source": [
    "fatoms[175]"
   ]
  },
  {
   "cell_type": "code",
   "execution_count": 208,
   "metadata": {},
   "outputs": [
    {
     "data": {
      "text/plain": [
       "6"
      ]
     },
     "execution_count": 208,
     "metadata": {},
     "output_type": "execute_result"
    }
   ],
   "source": [
    "len(fatoms)"
   ]
  },
  {
   "cell_type": "code",
   "execution_count": 209,
   "metadata": {},
   "outputs": [
    {
     "name": "stdout",
     "output_type": "stream",
     "text": [
      "<Atom CA>\n",
      "<Atom C>\n",
      "<Atom O>\n",
      "<Atom H01>\n",
      "<Atom H02>\n",
      "<Atom H03>\n",
      "<Atom N>\n",
      "<Atom CA>\n",
      "<Atom C>\n",
      "<Atom O>\n",
      "<Atom CB>\n",
      "<Atom CG>\n",
      "<Atom OD1>\n",
      "<Atom OD2>\n",
      "<Atom H>\n",
      "<Atom HA>\n",
      "<Atom HB1>\n",
      "<Atom HB2>\n",
      "<Atom N>\n",
      "<Atom CA>\n",
      "<Atom C>\n",
      "<Atom O>\n",
      "<Atom CB>\n",
      "<Atom CG>\n",
      "<Atom CD>\n",
      "<Atom CE>\n",
      "<Atom NZ>\n",
      "<Atom H>\n",
      "<Atom HA>\n",
      "<Atom HB1>\n",
      "<Atom HB2>\n",
      "<Atom HG1>\n",
      "<Atom HG2>\n",
      "<Atom HD1>\n",
      "<Atom HD2>\n",
      "<Atom HE1>\n",
      "<Atom HE2>\n",
      "<Atom HZ1>\n",
      "<Atom HZ2>\n",
      "<Atom HZ3>\n",
      "<Atom N>\n",
      "<Atom CA>\n",
      "<Atom C>\n",
      "<Atom O>\n",
      "<Atom CB>\n",
      "<Atom CG>\n",
      "<Atom OD1>\n",
      "<Atom OD2>\n",
      "<Atom H>\n",
      "<Atom HA>\n",
      "<Atom HB1>\n",
      "<Atom HB2>\n",
      "<Atom N>\n",
      "<Atom CA>\n",
      "<Atom C>\n",
      "<Atom O>\n",
      "<Atom H>\n",
      "<Atom HA1>\n",
      "<Atom HA2>\n",
      "<Atom N>\n",
      "<Atom CA>\n",
      "<Atom C>\n",
      "<Atom O>\n",
      "<Atom CB>\n",
      "<Atom CG>\n",
      "<Atom ND2>\n",
      "<Atom OD1>\n",
      "<Atom H>\n",
      "<Atom HA>\n",
      "<Atom HB1>\n",
      "<Atom HB2>\n",
      "<Atom HD21>\n",
      "<Atom HD22>\n",
      "<Atom N>\n",
      "<Atom CA>\n",
      "<Atom C>\n",
      "<Atom O>\n",
      "<Atom H>\n",
      "<Atom HA1>\n",
      "<Atom HA2>\n",
      "<Atom N>\n",
      "<Atom CA>\n",
      "<Atom C>\n",
      "<Atom O>\n",
      "<Atom CB>\n",
      "<Atom CG>\n",
      "<Atom CD1>\n",
      "<Atom CD2>\n",
      "<Atom CE1>\n",
      "<Atom CE2>\n",
      "<Atom CZ>\n",
      "<Atom OH>\n",
      "<Atom H>\n",
      "<Atom HA>\n",
      "<Atom HB1>\n",
      "<Atom HB2>\n",
      "<Atom HD1>\n",
      "<Atom HD2>\n",
      "<Atom HE1>\n",
      "<Atom HE2>\n",
      "<Atom HH>\n",
      "<Atom N>\n",
      "<Atom CA>\n",
      "<Atom C>\n",
      "<Atom O>\n",
      "<Atom CB>\n",
      "<Atom CG1>\n",
      "<Atom CG2>\n",
      "<Atom CD>\n",
      "<Atom H>\n",
      "<Atom HA>\n",
      "<Atom HB>\n",
      "<Atom HG11>\n",
      "<Atom HG12>\n",
      "<Atom HG21>\n",
      "<Atom HG22>\n",
      "<Atom HG23>\n",
      "<Atom HD1>\n",
      "<Atom HD2>\n",
      "<Atom HD3>\n",
      "<Atom N>\n",
      "<Atom CA>\n",
      "<Atom C>\n",
      "<Atom O>\n",
      "<Atom CB>\n",
      "<Atom OG>\n",
      "<Atom H>\n",
      "<Atom HA>\n",
      "<Atom HB1>\n",
      "<Atom HB2>\n",
      "<Atom HG>\n",
      "<Atom N>\n",
      "<Atom CA>\n",
      "<Atom C>\n",
      "<Atom O>\n",
      "<Atom CB>\n",
      "<Atom H>\n",
      "<Atom HA>\n",
      "<Atom HB1>\n",
      "<Atom HB2>\n",
      "<Atom HB3>\n",
      "<Atom N>\n",
      "<Atom CA>\n",
      "<Atom C>\n",
      "<Atom O>\n",
      "<Atom CB>\n",
      "<Atom H>\n",
      "<Atom HA>\n",
      "<Atom HB1>\n",
      "<Atom HB2>\n",
      "<Atom HB3>\n",
      "<Atom N>\n",
      "<Atom CA>\n",
      "<Atom C>\n",
      "<Atom O>\n",
      "<Atom CB>\n",
      "<Atom CG>\n",
      "<Atom CD>\n",
      "<Atom OE1>\n",
      "<Atom OE2>\n",
      "<Atom H>\n",
      "<Atom HA>\n",
      "<Atom HB1>\n",
      "<Atom HB2>\n",
      "<Atom HG1>\n",
      "<Atom HG2>\n",
      "<Atom N>\n",
      "<Atom CA>\n",
      "<Atom H01>\n",
      "<Atom H02>\n",
      "<Atom H03>\n",
      "<Atom H>\n",
      "<Atom CA>\n",
      "<Atom OW>\n",
      "<Atom HW1>\n",
      "<Atom HW2>\n"
     ]
    }
   ],
   "source": [
    "for i in structure.get_atoms():\n",
    "    print(i)"
   ]
  },
  {
   "cell_type": "code",
   "execution_count": 210,
   "metadata": {},
   "outputs": [],
   "source": [
    "for i in structure.get_atoms():\n",
    "    if i.parent.get_resname() == ' CA':\n",
    "        calAtom = i"
   ]
  },
  {
   "cell_type": "code",
   "execution_count": 211,
   "metadata": {},
   "outputs": [
    {
     "data": {
      "text/plain": [
       "173"
      ]
     },
     "execution_count": 211,
     "metadata": {},
     "output_type": "execute_result"
    }
   ],
   "source": [
    "calAtom.serial_number"
   ]
  },
  {
   "cell_type": "code",
   "execution_count": 212,
   "metadata": {},
   "outputs": [],
   "source": [
    "for j in structure.get_atoms():\n",
    "    j.parent.get_atoms()"
   ]
  },
  {
   "cell_type": "code",
   "execution_count": 213,
   "metadata": {},
   "outputs": [
    {
     "data": {
      "text/plain": [
       "<Atom HW2>"
      ]
     },
     "execution_count": 213,
     "metadata": {},
     "output_type": "execute_result"
    }
   ],
   "source": [
    "j"
   ]
  },
  {
   "cell_type": "code",
   "execution_count": 214,
   "metadata": {},
   "outputs": [],
   "source": [
    "k = j.parent"
   ]
  },
  {
   "cell_type": "code",
   "execution_count": 215,
   "metadata": {},
   "outputs": [
    {
     "data": {
      "text/plain": [
       "'C'"
      ]
     },
     "execution_count": 215,
     "metadata": {},
     "output_type": "execute_result"
    }
   ],
   "source": [
    "calAtom.element"
   ]
  },
  {
   "cell_type": "code",
   "execution_count": 216,
   "metadata": {},
   "outputs": [
    {
     "data": {
      "text/plain": [
       "3.3365405"
      ]
     },
     "execution_count": 216,
     "metadata": {},
     "output_type": "execute_result"
    }
   ],
   "source": [
    "np.linalg.norm(j.coord - calAtom.coord)"
   ]
  },
  {
   "cell_type": "code",
   "execution_count": 217,
   "metadata": {},
   "outputs": [],
   "source": [
    "import numpy as np"
   ]
  },
  {
   "cell_type": "code",
   "execution_count": 218,
   "metadata": {},
   "outputs": [],
   "source": [
    "element = ['H','C','N','O','S']"
   ]
  },
  {
   "cell_type": "code",
   "execution_count": 219,
   "metadata": {},
   "outputs": [],
   "source": [
    "def cutoff(r_ij, r_cut):\n",
    "    if r_ij > r_cut:\n",
    "        return 0\n",
    "    else:\n",
    "        return 0.5*(math.cos(math.pi*r_ij/r_cut)+1)"
   ]
  },
  {
   "cell_type": "code",
   "execution_count": 220,
   "metadata": {},
   "outputs": [],
   "source": [
    "import math"
   ]
  },
  {
   "cell_type": "code",
   "execution_count": 221,
   "metadata": {},
   "outputs": [],
   "source": [
    "# feature vector has 80 elements:\n",
    "# Matrix Rad 0-54: radial (0-10: H; 11-21: C; 22-32: O; 33-43: N; 44-54: S)\n",
    "# Matrix Ang 55-79: angular (H-H H-C H-O H-N H-S; C-H C-C C-O C-N C-S;)\n",
    "\n",
    "import numpy as np\n",
    "rad_shape = (5,11)\n",
    "ang_shape = (5,5)\n",
    "\n",
    "rad = np.zeros(rad_shape, dtype=np.float64)\n",
    "ang = np.zeros(ang_shape, dtype=np.float64)\n"
   ]
  },
  {
   "cell_type": "code",
   "execution_count": 222,
   "metadata": {},
   "outputs": [],
   "source": [
    "ele = dict()\n",
    "ele['C']=[]\n",
    "ele['N']=[]\n",
    "ele['O']=[]\n",
    "ele['H']=[]\n",
    "ele['S']=[]\n",
    "\n",
    "for i in atoms:\n",
    "    if not i is calAtom:\n",
    "        ele[i.element].append(i.serial_number-1)    "
   ]
  },
  {
   "cell_type": "code",
   "execution_count": 223,
   "metadata": {},
   "outputs": [],
   "source": [
    "def Rad(atom, r_min, r_max, r_inc):\n",
    "    tau = 0.0001\n",
    "    at = atoms[atom]\n",
    "    for element in ele:\n",
    "        atomlist = ele[element]\n",
    "        for r_cut in np.arange(r_min,r_max+0.5*r_inc,r_inc):\n",
    "            #print(\"rcut is %f\" %r_cut)\n",
    "            g_rad = 0\n",
    "            for i in atomlist:\n",
    "                a = atoms[i]\n",
    "                r_ij = np.linalg.norm(a.coord - at.coord)\n",
    "                #print(\"rij is %f\" %r_ij)\n",
    "                g_rad += np.exp(-tau*r_ij*r_ij)*cutoff(r_ij, r_cut)\n",
    "            fea_vec.append(g_rad)        \n",
    "    return 0"
   ]
  },
  {
   "cell_type": "code",
   "execution_count": 224,
   "metadata": {},
   "outputs": [
    {
     "data": {
      "text/plain": [
       "[1.0,\n",
       " 1.0,\n",
       " 1.0,\n",
       " 1.0,\n",
       " 1.0,\n",
       " 1.047307210128145,\n",
       " 1.1967975981125274,\n",
       " 1.5066243488597375,\n",
       " 2.004955285442836,\n",
       " 2.8411140121393226,\n",
       " 4.033719454229774,\n",
       " 0.0,\n",
       " 0.0,\n",
       " 0.0,\n",
       " 0.0,\n",
       " 0.0,\n",
       " 0.0,\n",
       " 0.0,\n",
       " 0.0009897846583811192,\n",
       " 0.09339170505723056,\n",
       " 0.39191070138236994,\n",
       " 0.8629700274066399,\n",
       " 0.0,\n",
       " 0.0,\n",
       " 0.0,\n",
       " 0.00039646571481836014,\n",
       " 0.27490274428395056,\n",
       " 0.9963190278332895,\n",
       " 1.8101630630505012,\n",
       " 2.599736335974363,\n",
       " 3.3203209099274806,\n",
       " 3.981303365423585,\n",
       " 4.621246827341096,\n",
       " 0.0,\n",
       " 0.0,\n",
       " 0.0,\n",
       " 0.0,\n",
       " 0.0,\n",
       " 0.0200044769546624,\n",
       " 0.19312552221281395,\n",
       " 0.6740455357328887,\n",
       " 1.5077658408839807,\n",
       " 2.618024169674673,\n",
       " 4.072176863568633,\n",
       " 0,\n",
       " 0,\n",
       " 0,\n",
       " 0,\n",
       " 0,\n",
       " 0,\n",
       " 0,\n",
       " 0,\n",
       " 0,\n",
       " 0,\n",
       " 0]"
      ]
     },
     "execution_count": 224,
     "metadata": {},
     "output_type": "execute_result"
    }
   ],
   "source": [
    "fea_vec = []\n",
    "Rad(172, 1.0, 6.0, 0.5)\n",
    "fea_vec"
   ]
  },
  {
   "cell_type": "code",
   "execution_count": 225,
   "metadata": {},
   "outputs": [],
   "source": [
    "def Ang(atom, r_cut):\n",
    "    tau = 0.0001\n",
    "    n = 0.5\n",
    "    at = atoms[atom]\n",
    "    for element in ele:\n",
    "        atomlist = ele[element]\n",
    "        for element2 in ele:\n",
    "            atomlist2 = ele[element2]\n",
    "            g_ang = 0\n",
    "            for k in atomlist:\n",
    "                for j in atomlist2:\n",
    "                    ak = atoms[k]\n",
    "                    aj = atoms[j]\n",
    "                    r_ij = np.linalg.norm(at.coord - aj.coord)\n",
    "                    r_ik = np.linalg.norm(at.coord - ak.coord)\n",
    "                    r_kj = np.linalg.norm(ak.coord - ak.coord)\n",
    "\n",
    "                    cos_ikj = np.inner((at.coord - aj.coord), (at.coord - ak.coord))/(r_ij*r_ik)\n",
    "                    #print(\"cosine angle is %f \" % cos_ikj)\n",
    "                    f1 = np.power(round(1-cos_ikj, 6),n)\n",
    "                    f2 = np.exp(-tau*(r_ij*r_ij+r_ik*r_ik+r_kj*r_kj))\n",
    "                    f3 = cutoff(r_ij, r_cut)*cutoff(r_ik, r_cut)*cutoff(r_kj, r_cut)\n",
    "                    #print(\"%f %f %f\" %(f1, f2, f3))\n",
    "                    g_ang += f1*f2*f3\n",
    "            fea_vec.append(g_ang)"
   ]
  },
  {
   "cell_type": "code",
   "execution_count": 233,
   "metadata": {},
   "outputs": [
    {
     "name": "stderr",
     "output_type": "stream",
     "text": [
      "/home/pengzhi/Programs/miniconda3/envs/h2o/lib/python3.6/site-packages/ipykernel_launcher.py:18: RuntimeWarning: invalid value encountered in float_scalars\n"
     ]
    }
   ],
   "source": [
    "Ang(172, 3.0)"
   ]
  },
  {
   "cell_type": "code",
   "execution_count": 227,
   "metadata": {},
   "outputs": [
    {
     "data": {
      "text/plain": [
       "[1.0,\n",
       " 1.0,\n",
       " 1.0,\n",
       " 1.0,\n",
       " 1.0,\n",
       " 1.047307210128145,\n",
       " 1.1967975981125274,\n",
       " 1.5066243488597375,\n",
       " 2.004955285442836,\n",
       " 2.8411140121393226,\n",
       " 4.033719454229774,\n",
       " 0.0,\n",
       " 0.0,\n",
       " 0.0,\n",
       " 0.0,\n",
       " 0.0,\n",
       " 0.0,\n",
       " 0.0,\n",
       " 0.0009897846583811192,\n",
       " 0.09339170505723056,\n",
       " 0.39191070138236994,\n",
       " 0.8629700274066399,\n",
       " 0.0,\n",
       " 0.0,\n",
       " 0.0,\n",
       " 0.00039646571481836014,\n",
       " 0.27490274428395056,\n",
       " 0.9963190278332895,\n",
       " 1.8101630630505012,\n",
       " 2.599736335974363,\n",
       " 3.3203209099274806,\n",
       " 3.981303365423585,\n",
       " 4.621246827341096,\n",
       " 0.0,\n",
       " 0.0,\n",
       " 0.0,\n",
       " 0.0,\n",
       " 0.0,\n",
       " 0.0200044769546624,\n",
       " 0.19312552221281395,\n",
       " 0.6740455357328887,\n",
       " 1.5077658408839807,\n",
       " 2.618024169674673,\n",
       " 4.072176863568633,\n",
       " 0,\n",
       " 0,\n",
       " 0,\n",
       " 0,\n",
       " 0,\n",
       " 0,\n",
       " 0,\n",
       " 0,\n",
       " 0,\n",
       " 0,\n",
       " 0,\n",
       " nan,\n",
       " nan,\n",
       " nan,\n",
       " nan,\n",
       " 0,\n",
       " nan,\n",
       " 0.0,\n",
       " 0.0,\n",
       " 0.0,\n",
       " 0,\n",
       " nan,\n",
       " 0.0,\n",
       " 0.06639951705840369,\n",
       " 0.0,\n",
       " 0,\n",
       " nan,\n",
       " 0.0,\n",
       " 0.0,\n",
       " 0.0,\n",
       " 0,\n",
       " 0,\n",
       " 0,\n",
       " 0,\n",
       " 0,\n",
       " 0]"
      ]
     },
     "execution_count": 227,
     "metadata": {},
     "output_type": "execute_result"
    }
   ],
   "source": [
    "fea_vec"
   ]
  },
  {
   "cell_type": "code",
   "execution_count": 228,
   "metadata": {},
   "outputs": [
    {
     "data": {
      "text/plain": [
       "80"
      ]
     },
     "execution_count": 228,
     "metadata": {},
     "output_type": "execute_result"
    }
   ],
   "source": [
    "len(fea_vec)"
   ]
  },
  {
   "cell_type": "code",
   "execution_count": 229,
   "metadata": {},
   "outputs": [],
   "source": [
    "a=[1]"
   ]
  },
  {
   "cell_type": "code",
   "execution_count": 230,
   "metadata": {},
   "outputs": [
    {
     "data": {
      "text/plain": [
       "[1, 1]"
      ]
     },
     "execution_count": 230,
     "metadata": {},
     "output_type": "execute_result"
    }
   ],
   "source": [
    "a+a"
   ]
  },
  {
   "cell_type": "code",
   "execution_count": 231,
   "metadata": {},
   "outputs": [
    {
     "name": "stdout",
     "output_type": "stream",
     "text": [
      "C1.0\n",
      "C1.5\n",
      "C2.0\n",
      "C2.5\n",
      "C3.0\n",
      "C3.5\n",
      "C4.0\n",
      "C4.5\n",
      "C5.0\n",
      "C5.5\n",
      "C6.0\n",
      "N1.0\n",
      "N1.5\n",
      "N2.0\n",
      "N2.5\n",
      "N3.0\n",
      "N3.5\n",
      "N4.0\n",
      "N4.5\n",
      "N5.0\n",
      "N5.5\n",
      "N6.0\n",
      "O1.0\n",
      "O1.5\n",
      "O2.0\n",
      "O2.5\n",
      "O3.0\n",
      "O3.5\n",
      "O4.0\n",
      "O4.5\n",
      "O5.0\n",
      "O5.5\n",
      "O6.0\n",
      "H1.0\n",
      "H1.5\n",
      "H2.0\n",
      "H2.5\n",
      "H3.0\n",
      "H3.5\n",
      "H4.0\n",
      "H4.5\n",
      "H5.0\n",
      "H5.5\n",
      "H6.0\n",
      "S1.0\n",
      "S1.5\n",
      "S2.0\n",
      "S2.5\n",
      "S3.0\n",
      "S3.5\n",
      "S4.0\n",
      "S4.5\n",
      "S5.0\n",
      "S5.5\n",
      "S6.0\n"
     ]
    }
   ],
   "source": [
    "for i in ele:\n",
    "    for j in np.arange(1.0,6.5,0.5):\n",
    "        print(str(i)+str(j))"
   ]
  },
  {
   "cell_type": "code",
   "execution_count": 232,
   "metadata": {},
   "outputs": [
    {
     "name": "stdout",
     "output_type": "stream",
     "text": [
      "CC\n",
      "CN\n",
      "CO\n",
      "CH\n",
      "CS\n",
      "NC\n",
      "NN\n",
      "NO\n",
      "NH\n",
      "NS\n",
      "OC\n",
      "ON\n",
      "OO\n",
      "OH\n",
      "OS\n",
      "HC\n",
      "HN\n",
      "HO\n",
      "HH\n",
      "HS\n",
      "SC\n",
      "SN\n",
      "SO\n",
      "SH\n",
      "SS\n"
     ]
    }
   ],
   "source": [
    "for i in ele:\n",
    "    for j in ele:\n",
    "        print(i+j)"
   ]
  },
  {
   "cell_type": "code",
   "execution_count": null,
   "metadata": {},
   "outputs": [],
   "source": []
  },
  {
   "cell_type": "code",
   "execution_count": null,
   "metadata": {},
   "outputs": [],
   "source": []
  },
  {
   "cell_type": "code",
   "execution_count": null,
   "metadata": {},
   "outputs": [],
   "source": []
  },
  {
   "cell_type": "code",
   "execution_count": null,
   "metadata": {},
   "outputs": [],
   "source": []
  },
  {
   "cell_type": "code",
   "execution_count": null,
   "metadata": {},
   "outputs": [],
   "source": []
  },
  {
   "cell_type": "code",
   "execution_count": null,
   "metadata": {},
   "outputs": [],
   "source": []
  }
 ],
 "metadata": {
  "kernelspec": {
   "display_name": "Python [conda env:h2o] *",
   "language": "python",
   "name": "conda-env-h2o-py"
  },
  "language_info": {
   "codemirror_mode": {
    "name": "ipython",
    "version": 3
   },
   "file_extension": ".py",
   "mimetype": "text/x-python",
   "name": "python",
   "nbconvert_exporter": "python",
   "pygments_lexer": "ipython3",
   "version": "3.6.9"
  }
 },
 "nbformat": 4,
 "nbformat_minor": 2
}
