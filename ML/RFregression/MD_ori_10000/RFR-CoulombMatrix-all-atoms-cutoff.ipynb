{
 "cells": [
  {
   "cell_type": "code",
   "execution_count": 2,
   "metadata": {},
   "outputs": [],
   "source": [
    "import pandas as pd\n",
    "import numpy as np\n",
    "import matplotlib as mpl\n",
    "import matplotlib.pyplot as plt\n",
    "import matplotlib.colors as colors\n",
    "from mpl_toolkits.axes_grid1 import make_axes_locatable\n",
    "import random\n",
    "from sklearn import datasets\n",
    "from sklearn.model_selection import train_test_split\n",
    "from sklearn import metrics\n",
    "\n",
    "from pandas import set_option\n",
    "pd.options.mode.chained_assignment = None\n",
    "\n",
    "from sklearn import preprocessing\n",
    "from sklearn.model_selection import train_test_split\n",
    "from sklearn.neural_network import MLPClassifier\n",
    "from sklearn.metrics import confusion_matrix\n",
    "from scipy.stats import truncnorm\n",
    "from sklearn.ensemble import RandomForestClassifier\n",
    "from sklearn.model_selection import cross_val_score\n",
    "from sklearn.metrics import mean_absolute_error, r2_score, mean_squared_error"
   ]
  },
  {
   "cell_type": "code",
   "execution_count": 3,
   "metadata": {},
   "outputs": [],
   "source": [
    "def ML_train(X_tr, y_tr, X_te, y_te):\n",
    "    rstate = random.randrange(1,999999999,1)\n",
    "    estimator = RandomForestRegressor(random_state = rstate, n_estimators = 10, n_jobs = 12)\n",
    "    train = estimator.fit(X_tr, y_tr)\n",
    "    pred = estimator.predict(X_te)\n",
    "    \n",
    "    # Cross validation \n",
    "    cvscore = cross_val_score(estimator, X_tr, y_tr, cv=5)\n",
    "    score = cvscore.mean()\n",
    "    print(\"Score with the entire dataset = %.2f\" % score)\n",
    "    \n",
    "    print(mean_absolute_error(y_te, pred))\n",
    "    print(mean_squared_error(y_te,pred))\n",
    "    print(r2_score(y_te, pred))"
   ]
  },
  {
   "cell_type": "code",
   "execution_count": 4,
   "metadata": {},
   "outputs": [],
   "source": [
    "charge_csv = pd.read_csv(\"cal.iRESP_good.dat\", header=None, sep=' ')\n",
    "names = np.asarray(charge_csv[0])\n",
    "y = np.asarray(charge_csv[2])"
   ]
  },
  {
   "cell_type": "code",
   "execution_count": 5,
   "metadata": {},
   "outputs": [
    {
     "ename": "TypeError",
     "evalue": "ufunc 'bitwise_and' not supported for the input types, and the inputs could not be safely coerced to any supported types according to the casting rule ''safe''",
     "output_type": "error",
     "traceback": [
      "\u001b[0;31m---------------------------------------------------------------------------\u001b[0m",
      "\u001b[0;31mTypeError\u001b[0m                                 Traceback (most recent call last)",
      "\u001b[0;32m<ipython-input-5-1e37e555d246>\u001b[0m in \u001b[0;36m<module>\u001b[0;34m\u001b[0m\n\u001b[1;32m     12\u001b[0m         \u001b[0;31m#structures.append(structure)\u001b[0m\u001b[0;34m\u001b[0m\u001b[0;34m\u001b[0m\u001b[0;34m\u001b[0m\u001b[0m\n\u001b[1;32m     13\u001b[0m         \u001b[0mi\u001b[0m\u001b[0;34m=\u001b[0m\u001b[0mstructure\u001b[0m\u001b[0;34m.\u001b[0m\u001b[0mget_global_number_of_atoms\u001b[0m\u001b[0;34m(\u001b[0m\u001b[0;34m)\u001b[0m\u001b[0;34m\u001b[0m\u001b[0;34m\u001b[0m\u001b[0m\n\u001b[0;32m---> 14\u001b[0;31m         \u001b[0mcutAtoms\u001b[0m \u001b[0;34m=\u001b[0m \u001b[0mstructure\u001b[0m\u001b[0;34m[\u001b[0m\u001b[0mstructure\u001b[0m\u001b[0;34m.\u001b[0m\u001b[0mget_distances\u001b[0m\u001b[0;34m(\u001b[0m\u001b[0;36m1\u001b[0m\u001b[0;34m,\u001b[0m\u001b[0mrange\u001b[0m\u001b[0;34m(\u001b[0m\u001b[0mi\u001b[0m\u001b[0;34m)\u001b[0m\u001b[0;34m)\u001b[0m\u001b[0;34m<\u001b[0m\u001b[0mcutoff\u001b[0m \u001b[0;34m&\u001b[0m \u001b[0mstructure\u001b[0m\u001b[0;34m.\u001b[0m\u001b[0mget_atomic_numbers\u001b[0m\u001b[0;34m(\u001b[0m\u001b[0;34m)\u001b[0m \u001b[0;34m>\u001b[0m \u001b[0;36m1\u001b[0m\u001b[0;34m]\u001b[0m\u001b[0;34m\u001b[0m\u001b[0;34m\u001b[0m\u001b[0m\n\u001b[0m\u001b[1;32m     15\u001b[0m         \u001b[0mstructures\u001b[0m\u001b[0;34m.\u001b[0m\u001b[0mappend\u001b[0m\u001b[0;34m(\u001b[0m\u001b[0mcutAtoms\u001b[0m\u001b[0;34m)\u001b[0m\u001b[0;34m\u001b[0m\u001b[0;34m\u001b[0m\u001b[0m\n",
      "\u001b[0;31mTypeError\u001b[0m: ufunc 'bitwise_and' not supported for the input types, and the inputs could not be safely coerced to any supported types according to the casting rule ''safe''"
     ]
    }
   ],
   "source": [
    "import glob\n",
    "from ase.io import read\n",
    "cutoff = 2.7 # cutoff distance for constructing the CM.\n",
    "\n",
    "loops = glob.glob(\"structures/*.pdb\")\n",
    "structures = list()\n",
    "for loop in loops:\n",
    "    name = loop.split('/')[1].split('.pdb')[0]\n",
    "    if name in names:\n",
    "        structure = read(loop)\n",
    "        #hvy_atoms = structure[structure.get_atomic_numbers()>1]\n",
    "        #structures.append(structure)\n",
    "        i=structure.get_global_number_of_atoms()\n",
    "        cutAtoms = structure[structure.get_distances(1,range(i))<cutoff & structure.get_atomic_numbers() > 1]\n",
    "        structures.append(cutAtoms)"
   ]
  },
  {
   "cell_type": "code",
   "execution_count": 48,
   "metadata": {},
   "outputs": [],
   "source": [
    "j = list()\n",
    "for i in structures:\n",
    "    j.append(i.get_global_number_of_atoms())\n",
    "n_max=sorted(j)[-1]"
   ]
  },
  {
   "cell_type": "code",
   "execution_count": 49,
   "metadata": {},
   "outputs": [],
   "source": [
    "from dscribe.descriptors import CoulombMatrix\n",
    "cm = CoulombMatrix(n_atoms_max=n_max)\n",
    "X = cm.create(structures)"
   ]
  },
  {
   "cell_type": "code",
   "execution_count": 50,
   "metadata": {},
   "outputs": [
    {
     "name": "stdout",
     "output_type": "stream",
     "text": [
      "(7817, 144) (7817,)\n"
     ]
    }
   ],
   "source": [
    "print(X.shape, y.shape)"
   ]
  },
  {
   "cell_type": "code",
   "execution_count": 51,
   "metadata": {},
   "outputs": [],
   "source": [
    "from sklearn.ensemble import RandomForestRegressor\n",
    "testsize = 0.3\n",
    "rstate = random.randrange(1,999999999,1)\n",
    "X_train, X_test, y_train, y_test = train_test_split(X,y,test_size = testsize, random_state = rstate)"
   ]
  },
  {
   "cell_type": "code",
   "execution_count": 52,
   "metadata": {},
   "outputs": [
    {
     "name": "stdout",
     "output_type": "stream",
     "text": [
      "Score with the entire dataset = -0.18\n",
      "0.09217561477489547\n",
      "0.018585624034839463\n",
      "-0.19540400815439618\n",
      "Score with the entire dataset = -0.17\n",
      "0.09099760502679334\n",
      "0.018024715235310598\n",
      "-0.15932705825435667\n",
      "Score with the entire dataset = -0.16\n",
      "0.09013076914098973\n",
      "0.01804194699383325\n",
      "-0.16043538333221852\n"
     ]
    }
   ],
   "source": [
    "X_train_total_size = X_train.shape[0]\n",
    "chunk = 3\n",
    "chunk_size = int(X_train_total_size / chunk)\n",
    "for i in range(chunk):\n",
    "    row = 1 + i*chunk_size + chunk_size\n",
    "    sub_X_train = X_train[0:row,:]\n",
    "    sub_y_train = y_train[0:row]\n",
    "    ML_train(sub_X_train,sub_y_train,X_test,y_test)"
   ]
  },
  {
   "cell_type": "code",
   "execution_count": 53,
   "metadata": {},
   "outputs": [],
   "source": [
    "rstate = random.randrange(1,999999999,1)\n",
    "estimator = RandomForestRegressor(random_state = rstate, n_estimators = 10, n_jobs = 12)\n",
    "train = estimator.fit(X_train, y_train)\n",
    "pred = estimator.predict(X_test)"
   ]
  },
  {
   "cell_type": "code",
   "execution_count": 54,
   "metadata": {},
   "outputs": [
    {
     "name": "stdout",
     "output_type": "stream",
     "text": [
      "Score with the entire dataset = -0.16\n"
     ]
    }
   ],
   "source": [
    "# Cross validation \n",
    "from sklearn.model_selection import cross_val_score\n",
    "cvscore = cross_val_score(estimator, X_train, y_train, cv=5)\n",
    "score = cvscore.mean()\n",
    "print(\"Score with the entire dataset = %.2f\" % score)"
   ]
  },
  {
   "cell_type": "code",
   "execution_count": 55,
   "metadata": {},
   "outputs": [
    {
     "name": "stdout",
     "output_type": "stream",
     "text": [
      "0.09146989832068093\n",
      "0.01847270766907623\n",
      "-0.18814136924775693\n"
     ]
    }
   ],
   "source": [
    "from sklearn.metrics import mean_absolute_error, r2_score, mean_squared_error\n",
    "print(mean_absolute_error(y_test, pred))\n",
    "print(mean_squared_error(y_test,pred))\n",
    "print(r2_score(y_test, pred))"
   ]
  },
  {
   "cell_type": "code",
   "execution_count": 56,
   "metadata": {},
   "outputs": [
    {
     "data": {
      "image/png": "[encoded data removed]",
      "text/plain": [
       "<Figure size 432x288 with 1 Axes>"
      ]
     },
     "metadata": {
      "needs_background": "light"
     },
     "output_type": "display_data"
    }
   ],
   "source": [
    "# Plot outputs\n",
    "import pylab as pl\n",
    "fig = pl.figure()\n",
    "ax = fig.add_subplot(111)\n",
    "ax.set_aspect('equal', adjustable='box')\n",
    "pl.plot(y_test, pred,'ro',fillstyle='none')\n",
    "pl.xlim(1,2.3)\n",
    "pl.ylim(1,2.3)\n",
    "pl.plot([1,3],[1,3], '--b')\n",
    "pl.xlabel('i-RESP charge')\n",
    "pl.ylabel('ML charge')\n",
    "pl.show()"
   ]
  },
  {
   "cell_type": "code",
   "execution_count": 57,
   "metadata": {},
   "outputs": [
    {
     "data": {
      "image/png": "[encoded data removed]",
      "text/plain": [
       "<Figure size 432x288 with 1 Axes>"
      ]
     },
     "metadata": {
      "needs_background": "light"
     },
     "output_type": "display_data"
    }
   ],
   "source": [
    "data_size = len(y_test)\n",
    "fig = pl.figure()\n",
    "ax = fig.add_subplot(111)\n",
    "ax.set_xlim(0, int(data_size*testsize +3))\n",
    "ax.set_ylim(1, 3)\n",
    "pl.plot(y_test, color='red', label = 'i-RESP charge')\n",
    "pl.plot(pred, color='blue', label = 'ML charge')\n",
    "pl.legend(loc='best')\n",
    "pl.show()"
   ]
  },
  {
   "cell_type": "code",
   "execution_count": null,
   "metadata": {},
   "outputs": [],
   "source": [
    "data_size = len(y_train)\n",
    "fig = pl.figure()\n",
    "ax = fig.add_subplot(111)\n",
    "ax.set_xlim(0, int(data_size))\n",
    "ax.set_ylim(1, 3)\n",
    "pl.plot(y_train, color='red', label = 'i-RESP charge')\n",
    "pl.plot(estimator.predict(X_train), color='blue', label = 'ML charge')\n",
    "pl.legend(loc='best')\n",
    "pl.show()"
   ]
  }
 ],
 "metadata": {
  "kernelspec": {
   "display_name": "Python 3",
   "language": "python",
   "name": "python3"
  },
  "language_info": {
   "codemirror_mode": {
    "name": "ipython",
    "version": 3
   },
   "file_extension": ".py",
   "mimetype": "text/x-python",
   "name": "python",
   "nbconvert_exporter": "python",
   "pygments_lexer": "ipython3",
   "version": "3.6.9"
  }
 },
 "nbformat": 4,
 "nbformat_minor": 2
}
