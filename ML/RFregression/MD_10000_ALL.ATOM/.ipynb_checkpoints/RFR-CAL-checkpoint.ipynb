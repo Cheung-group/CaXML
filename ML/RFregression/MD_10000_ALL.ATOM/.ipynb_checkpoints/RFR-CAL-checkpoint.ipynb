{
 "cells": [
  {
   "cell_type": "code",
   "execution_count": 115,
   "metadata": {},
   "outputs": [],
   "source": [
    "import pandas as pd\n",
    "import numpy as np\n",
    "\n",
    "import glob\n",
    "from ase.io import read\n",
    "from dscribe.descriptors import ACSF\n",
    "\n",
    "import matplotlib as mpl\n",
    "import matplotlib.pyplot as plt\n",
    "import matplotlib.colors as colors\n",
    "from mpl_toolkits.axes_grid1 import make_axes_locatable\n",
    "import random\n",
    "from sklearn import datasets\n",
    "from sklearn.model_selection import train_test_split\n",
    "from sklearn import metrics\n",
    "\n",
    "from pandas import set_option\n",
    "pd.options.mode.chained_assignment = None\n",
    "\n",
    "from sklearn import preprocessing\n",
    "from sklearn.model_selection import train_test_split\n",
    "from sklearn.neural_network import MLPClassifier\n",
    "from sklearn.metrics import confusion_matrix\n",
    "from scipy.stats import truncnorm\n",
    "from sklearn.ensemble import RandomForestClassifier\n",
    "from sklearn.model_selection import cross_val_score\n",
    "from sklearn.metrics import mean_absolute_error, r2_score, mean_squared_error"
   ]
  },
  {
   "cell_type": "code",
   "execution_count": 2,
   "metadata": {},
   "outputs": [],
   "source": [
    "def ML_train(X_tr, y_tr, X_te, y_te):\n",
    "    rstate = random.randrange(1,999999999,1)\n",
    "    estimator = RandomForestRegressor(random_state = rstate, n_estimators = 10, n_jobs = 12)\n",
    "    train = estimator.fit(X_tr, y_tr)\n",
    "    pred = estimator.predict(X_te)\n",
    "    \n",
    "    # Cross validation \n",
    "    cvscore = cross_val_score(estimator, X_tr, y_tr, cv=5)\n",
    "    score = cvscore.mean()\n",
    "    print(\"Score with the entire dataset = %.2f\" % score)\n",
    "    \n",
    "    print(mean_absolute_error(y_te, pred))\n",
    "    print(mean_squared_error(y_te,pred))\n",
    "    print(r2_score(y_te, pred))"
   ]
  },
  {
   "cell_type": "code",
   "execution_count": 162,
   "metadata": {},
   "outputs": [],
   "source": [
    "def calc_sym(pdb_file, chg_file):\n",
    "    structure = read(\"pdb/\"+pdb_file)\n",
    "    feat_lst=[]\n",
    "    num=structure.get_global_number_of_atoms()\n",
    "    atomPos = [x for x in range(0,num)]\n",
    "\n",
    "    chg=np.genfromtxt(\"charge/\"+chg_file)\n",
    "\n",
    "\n",
    "    for r_cut in [x/2. for x in range(2,13,1)]:\n",
    "        # Setting up the ACSF descriptor\n",
    "        acsf = ACSF(\n",
    "            species=[\"C\", \"H\", \"O\", \"N\", \"Ca\"],\n",
    "            rcut=r_cut,\n",
    "            g2_params=[[0.0001,0]],\n",
    "        )\n",
    "        feat_lst.append(acsf.create(structure,positions=atomPos,n_jobs=4))\n",
    "\n",
    "    acsf_ang = ACSF(\n",
    "        species=[\"C\", \"H\", \"O\", \"N\", \"Ca\"],\n",
    "        rcut=3.0,\n",
    "        g4_params=[[0.0001,0.5,-1]],\n",
    "    )\n",
    "    feat_lst.append(acsf_ang.create(structure,positions=atomPos,n_jobs=4))\n",
    "    \n",
    "    feat = np.hstack(tuple(feat_lst))\n",
    "    dat = np.hstack((feat,chg))\n",
    "    np.savetxt('sym/sym_'+pdb_file[0:-4]+'.dat', dat, delimiter=',')  \n",
    "    return dat\n",
    "    "
   ]
  },
  {
   "cell_type": "code",
   "execution_count": 163,
   "metadata": {},
   "outputs": [],
   "source": [
    "# Use all the files\n",
    "\n",
    "loops = glob.glob(\"pdb/*.pdb\")\n",
    "structures = list()\n",
    "all_feat=[]\n",
    "for loop in loops:\n",
    "    name = loop.split('/')[1].split('.pdb')[0]\n",
    "    all_feat.append(calc_sym(name+'.pdb',name+'.chg'))\n",
    "    \n",
    "allData = np.concatenate(tuple(all_feat))\n"
   ]
  },
  {
   "cell_type": "code",
   "execution_count": 141,
   "metadata": {},
   "outputs": [],
   "source": [
    "CA_data = allData[allData[:,-2]==20,:]\n",
    "C_data = allData[allData[:,-2]==6,:]\n",
    "N_data = allData[allData[:,-2]==7,:]\n",
    "O_data = allData[allData[:,-2]==8,:]\n",
    "H_data = allData[allData[:,-2]==1,:]\n"
   ]
  },
  {
   "cell_type": "code",
   "execution_count": 175,
   "metadata": {},
   "outputs": [],
   "source": [
    "from sklearn.ensemble import RandomForestRegressor\n",
    "testsize = 0.3\n",
    "rstate = random.randrange(1,999999999,1)\n",
    "# Take O as an example\n",
    "X = H_data[:,:-2]\n",
    "y = H_data[:,-1]\n",
    "X_train, X_test, y_train, y_test = train_test_split(X,y,test_size = testsize, random_state = rstate)"
   ]
  },
  {
   "cell_type": "code",
   "execution_count": 166,
   "metadata": {},
   "outputs": [
    {
     "data": {
      "text/plain": [
       "(7817, 132)"
      ]
     },
     "execution_count": 166,
     "metadata": {},
     "output_type": "execute_result"
    }
   ],
   "source": [
    "CA_data.shape"
   ]
  },
  {
   "cell_type": "code",
   "execution_count": 176,
   "metadata": {},
   "outputs": [
    {
     "name": "stdout",
     "output_type": "stream",
     "text": [
      "Score with the entire dataset = 0.68\n",
      "0.05698349810605377\n",
      "0.008441931221628847\n",
      "0.683652904781018\n"
     ]
    }
   ],
   "source": [
    "X_train_total_size = X_train.shape[0]\n",
    "chunk = 1\n",
    "chunk_size = int(X_train_total_size / chunk)\n",
    "for i in range(chunk):\n",
    "    row = 1 + i*chunk_size + chunk_size\n",
    "    sub_X_train = X_train[0:row,:]\n",
    "    sub_y_train = y_train[0:row]\n",
    "    ML_train(sub_X_train,sub_y_train,X_test,y_test)"
   ]
  },
  {
   "cell_type": "code",
   "execution_count": 178,
   "metadata": {},
   "outputs": [],
   "source": [
    "rstate = random.randrange(1,999999999,1)\n",
    "estimator = RandomForestRegressor(random_state = rstate, n_estimators = 10, n_jobs = 12)\n",
    "train = estimator.fit(X_train, y_train)\n",
    "pred = estimator.predict(X_test)"
   ]
  },
  {
   "cell_type": "code",
   "execution_count": null,
   "metadata": {},
   "outputs": [],
   "source": [
    "# Cross validation \n",
    "from sklearn.model_selection import cross_val_score\n",
    "cvscore = cross_val_score(estimator, X_train, y_train, cv=5)\n",
    "score = cvscore.mean()\n",
    "print(\"Score with the entire dataset = %.2f\" % score)"
   ]
  },
  {
   "cell_type": "code",
   "execution_count": null,
   "metadata": {},
   "outputs": [],
   "source": [
    "from sklearn.metrics import mean_absolute_error, r2_score, mean_squared_error\n",
    "print(\"mean absolute error is %.4f\" % mean_absolute_error(y_test, pred))\n",
    "print(\"mean squared error is %.4f\" % mean_squared_error(y_test,pred))\n",
    "print(\"r2 score is %.4f\" % r2_score(y_test, pred))"
   ]
  },
  {
   "cell_type": "code",
   "execution_count": 174,
   "metadata": {},
   "outputs": [
    {
     "data": {
      "image/png": "[encoded data removed]",
      "text/plain": [
       "<Figure size 432x288 with 1 Axes>"
      ]
     },
     "metadata": {
      "needs_background": "light"
     },
     "output_type": "display_data"
    }
   ],
   "source": [
    "# Plot outputs\n",
    "import pylab as pl\n",
    "fig = pl.figure()\n",
    "ax = fig.add_subplot(111)\n",
    "ax.set_aspect('equal', adjustable='box')\n",
    "pl.plot(y_test, pred,'ro',fillstyle='none')\n",
    "pl.xlim(1,3)\n",
    "pl.ylim(1,3)\n",
    "pl.plot([1,3],[1,3], '--b')\n",
    "\n",
    "pl.xlabel('i-RESP charge')\n",
    "pl.ylabel('ML charge')\n",
    "pl.show()"
   ]
  },
  {
   "cell_type": "code",
   "execution_count": 149,
   "metadata": {},
   "outputs": [
    {
     "data": {
      "image/png": "[encoded data removed]",
      "text/plain": [
       "<Figure size 432x288 with 1 Axes>"
      ]
     },
     "metadata": {
      "needs_background": "light"
     },
     "output_type": "display_data"
    }
   ],
   "source": [
    "data_size = len(y_test)\n",
    "fig = pl.figure()\n",
    "ax = fig.add_subplot(111)\n",
    "ax.set_xlim(0, int(data_size*testsize +3))\n",
    "ax.set_ylim(1, 3)\n",
    "pl.plot(y_test, color='red', label = 'i-RESP charge')\n",
    "pl.plot(pred, color='blue', label = 'ML charge')\n",
    "pl.legend(loc='best')\n",
    "pl.show()"
   ]
  },
  {
   "cell_type": "code",
   "execution_count": 150,
   "metadata": {},
   "outputs": [
    {
     "data": {
      "image/png": "[encoded data removed]",
      "text/plain": [
       "<Figure size 432x288 with 1 Axes>"
      ]
     },
     "metadata": {
      "needs_background": "light"
     },
     "output_type": "display_data"
    }
   ],
   "source": [
    "data_size = len(y_train)\n",
    "fig = pl.figure()\n",
    "ax = fig.add_subplot(111)\n",
    "ax.set_xlim(0, int(data_size))\n",
    "ax.set_ylim(1, 3)\n",
    "pl.plot(y_train, color='red', label = 'i-RESP charge')\n",
    "pl.plot(estimator.predict(X_train), color='blue', label = 'ML charge')\n",
    "pl.legend(loc='best')\n",
    "pl.show()"
   ]
  },
  {
   "cell_type": "code",
   "execution_count": null,
   "metadata": {},
   "outputs": [],
   "source": []
  }
 ],
 "metadata": {
  "kernelspec": {
   "display_name": "Python 3",
   "language": "python",
   "name": "python3"
  },
  "language_info": {
   "codemirror_mode": {
    "name": "ipython",
    "version": 3
   },
   "file_extension": ".py",
   "mimetype": "text/x-python",
   "name": "python",
   "nbconvert_exporter": "python",
   "pygments_lexer": "ipython3",
   "version": "3.6.9"
  }
 },
 "nbformat": 4,
 "nbformat_minor": 2
}
